{
 "cells": [
  {
   "cell_type": "markdown",
   "metadata": {},
   "source": [
    "# Initialization"
   ]
  },
  {
   "cell_type": "code",
   "execution_count": 1,
   "metadata": {
    "collapsed": true
   },
   "outputs": [],
   "source": [
    "import numpy as np\n",
    "from tqdm import tqdm\n",
    "import os\n",
    "import sys\n",
    "\n",
    "import matplotlib\n",
    "import matplotlib.pyplot as plt\n",
    "%matplotlib inline\n",
    "matplotlib.rc('font', size=16)\n",
    "plt.rcParams['figure.figsize'] = (12.0, 10.0)    # resize plots"
   ]
  },
  {
   "cell_type": "markdown",
   "metadata": {
    "collapsed": true
   },
   "source": [
    "# Getting dataset information"
   ]
  },
  {
   "cell_type": "markdown",
   "metadata": {},
   "source": [
    "Any analysis starts with selecting datasets. This loads in a CSV containing the XENON100 runs info for run10. You can make a similar one for other runs by copy-pasting the wiki table in a spreadsheet program, then saving as csv."
   ]
  },
  {
   "cell_type": "code",
   "execution_count": 162,
   "metadata": {
    "collapsed": false
   },
   "outputs": [
    {
     "data": {
      "text/plain": [
       "{'anode': 4.4000000000000004,\n",
       " 'category': 'standard',\n",
       " 'cathode': 16.0,\n",
       " 'comment': nan,\n",
       " 'corrected_events': 22091.0,\n",
       " 'corrected_livetime': 39603.300000000003,\n",
       " 'events': 32098,\n",
       " 'livetime': 39603.300000000003,\n",
       " 'name': 'xe100_120401_2201',\n",
       " 'position': 'other',\n",
       " 'processed': '0.4.5',\n",
       " 'shield': 'closed',\n",
       " 'source': 'Dark Matter',\n",
       " 'trigger': 'S1'}"
      ]
     },
     "execution_count": 162,
     "metadata": {},
     "output_type": "execute_result"
    }
   ],
   "source": [
    "import pandas as pd\n",
    "datasets = pd.read_csv('xenon100_run10_runs.csv')\n",
    "\n",
    "def get_dataset_info(dataset_name):\n",
    "    \"\"\"Returns a dictionary with the runs database info for a given dataset\"\"\"\n",
    "    return datasets[datasets['name'] == dataset_name].iloc[0].to_dict()\n",
    "    \n",
    "get_dataset_info('xe100_120401_2201')"
   ]
  },
  {
   "cell_type": "markdown",
   "metadata": {},
   "source": [
    "Here's an example to get all standard AmBe datasets:"
   ]
  },
  {
   "cell_type": "code",
   "execution_count": 3,
   "metadata": {
    "collapsed": false
   },
   "outputs": [
    {
     "data": {
      "text/plain": [
       "array(['xe100_110210_1100', 'xe100_110210_1106', 'xe100_110210_1412',\n",
       "       'xe100_110210_1502', 'xe100_110210_1709', 'xe100_110210_1926',\n",
       "       'xe100_110210_2211', 'xe100_110210_2341', 'xe100_110211_0059',\n",
       "       'xe100_110211_0315', 'xe100_110211_0532', 'xe100_110211_0614',\n",
       "       'xe100_110211_0935', 'xe100_110211_1243', 'xe100_120402_1116',\n",
       "       'xe100_120402_1415', 'xe100_120402_1727', 'xe100_120402_2000',\n",
       "       'xe100_120402_2233', 'xe100_120403_0107', 'xe100_120403_0340',\n",
       "       'xe100_120403_0615', 'xe100_120403_0850', 'xe100_120403_1125',\n",
       "       'xe100_120403_1400', 'xe100_120403_1634', 'xe100_120403_1910',\n",
       "       'xe100_120403_2145', 'xe100_120404_0020', 'xe100_120404_0255',\n",
       "       'xe100_120404_0529', 'xe100_120404_0804'], dtype=object)"
      ]
     },
     "execution_count": 3,
     "metadata": {},
     "output_type": "execute_result"
    }
   ],
   "source": [
    "datasets.query('source == \"AmBe\" & category == \"standard\"')['name'].values"
   ]
  },
  {
   "cell_type": "markdown",
   "metadata": {},
   "source": [
    "This counts the data livetime in days for each source, considering only standard datasets:"
   ]
  },
  {
   "cell_type": "code",
   "execution_count": 4,
   "metadata": {
    "collapsed": false
   },
   "outputs": [
    {
     "data": {
      "text/plain": [
       "source\n",
       "AmBe             3.005850\n",
       "Co60            22.567252\n",
       "Cs137            6.230497\n",
       "Dark Matter    231.763412\n",
       "Th232           25.638033\n",
       "Name: livetime, dtype: float64"
      ]
     },
     "execution_count": 4,
     "metadata": {},
     "output_type": "execute_result"
    }
   ],
   "source": [
    "standard_datasets = datasets[datasets['category'] == 'standard']\n",
    "pd.groupby(standard_datasets, 'source')['livetime'].sum() / (3600 * 24)"
   ]
  },
  {
   "cell_type": "markdown",
   "metadata": {},
   "source": [
    "# Looping over ROOT files"
   ]
  },
  {
   "cell_type": "markdown",
   "metadata": {},
   "source": [
    "The default pax output format is a ROOT file containing an event class. While you could analyze them with TTree.Draw(...) (in python or C++), you have much more control if you loop over the events. Here is a basic function which allows you to run a custom function of every event in one or more pax root files:"
   ]
  },
  {
   "cell_type": "code",
   "execution_count": 103,
   "metadata": {
    "collapsed": false
   },
   "outputs": [],
   "source": [
    "ROOTFILES_PATHS = ['/archive_lngs/common/PaxReprocessed_7', '/archive_lngs/common/PaxReprocessed_6']\n",
    "BASIC_BRANCHES = ['s1s', 's2s', 'event_number', 'start_time', 'stop_time',\n",
    "                  'peaks.area', 'peaks.type',\n",
    "                  'interactions.s1', 'interactions.s2',\n",
    "                  'interactions.s1_area_correction', 'interactions.s2_area_correction',\n",
    "                  'interactions.x', 'interactions.y', 'interactions.z', \n",
    "                  ]\n",
    "\n",
    "# Load ROOT and the pax event class (you must provide this in the current working directory)\n",
    "# The first time you load it, it will be slow, because it has to compile the .so\n",
    "import ROOT\n",
    "from pax.plugins.io.ROOTClass import load_event_class\n",
    "load_event_class('pax_event_class_410.cpp')\n",
    "\n",
    "# An exception you can raise to stop looping over the current dataset\n",
    "class StopEventLoop(Exception):\n",
    "    pass\n",
    "\n",
    "def find_file_in_folders(filename, folders):\n",
    "    \"\"\"Searches for filename in folders, then return full path or raise FileNotFoundError\"\"\"\n",
    "    # Find the file for this dataset\n",
    "    for folder in folders:\n",
    "        full_path = os.path.join(folder, filename)\n",
    "        if os.path.exists(full_path):\n",
    "            return full_path\n",
    "    raise FileNotFoundError(\"Did not find file %s!\" % filename)\n",
    "\n",
    "def loop_over_dataset(dataset, event_function=lambda event: None, branch_selection=BASIC_BRANCHES):\n",
    "    \"\"\"Execute event_function(event) over all events in the dataset\n",
    "    Does not return anything: you have to keep track of results yourself (global vars, function attrs, classes, ...)\n",
    "    branch selection is either None (in which case all branches are read), or a list of branches to activate.\n",
    "    \"\"\"    \n",
    "    # Open the file, load the tree\n",
    "    # If you get \"'TObject' object has no attribute 'GetEntries'\" here,\n",
    "    # we renamed the tree to T1 or TPax or something\n",
    "    rootfile_name = find_file_in_folders(dataset + '.root', ROOTFILES_PATHS)\n",
    "    rootfile = ROOT.TFile(rootfile_name)\n",
    "    t = rootfile.Get('tree')\n",
    "    n_events = t.GetEntries()\n",
    "\n",
    "    # Acivate the desired branches\n",
    "    if branch_selection:\n",
    "        t.SetBranchStatus(\"*\", 0)\n",
    "        for bn in branch_selection:\n",
    "            t.SetBranchStatus(bn, 1)\n",
    "    \n",
    "    try:\n",
    "        for event_i in tqdm(range(n_events)):\n",
    "            t.GetEntry(event_i)\n",
    "            event = t.events\n",
    "            event_function(event)\n",
    "    except StopEventLoop:\n",
    "        rootfile.Close()\n",
    "    except Exception as e:\n",
    "        rootfile.Close()\n",
    "        raise e\n",
    "        \n",
    "def loop_over_datasets(datasets, *args, **kwargs):\n",
    "    for dataset in datasets:\n",
    "        loop_over_dataset(dataset, *args, **kwargs)"
   ]
  },
  {
   "cell_type": "markdown",
   "metadata": {},
   "source": [
    "Here are two silly examples of using this function. There are much faster ways to do simple things like this, as we will cover below.\n",
    "\n",
    "Count the number of events with more than 4 S1s in two datasets (this takes a minute or two):"
   ]
  },
  {
   "cell_type": "code",
   "execution_count": 104,
   "metadata": {
    "collapsed": false
   },
   "outputs": [
    {
     "name": "stderr",
     "output_type": "stream",
     "text": [
      "                                                          "
     ]
    },
    {
     "name": "stdout",
     "output_type": "stream",
     "text": [
      "We found 875 events with more than 3 S1s\n"
     ]
    },
    {
     "name": "stderr",
     "output_type": "stream",
     "text": [
      "\r"
     ]
    }
   ],
   "source": [
    "global counter\n",
    "counter = 0\n",
    "\n",
    "def count_many_s1s(event):\n",
    "    global counter\n",
    "    if len(event.s1s) > 4:\n",
    "        counter += 1\n",
    "\n",
    "loop_over_datasets(['xe100_110228_1427', 'xe100_110302_1945'], count_many_s1s)\n",
    "print(\"We found %d events with more than 3 S1s\" % counter)"
   ]
  },
  {
   "cell_type": "markdown",
   "metadata": {},
   "source": [
    "Find the first event whose main s1 area is 70 pe in some dark matter dataset:"
   ]
  },
  {
   "cell_type": "code",
   "execution_count": 105,
   "metadata": {
    "collapsed": false
   },
   "outputs": [
    {
     "name": "stderr",
     "output_type": "stream",
     "text": [
      " 12%|█▏        | 3783/32098 [00:00<00:01, 18911.66it/s]"
     ]
    },
    {
     "name": "stdout",
     "output_type": "stream",
     "text": [
      "Event 4963 has a main S1 with area 70.1126480102539 pe\n"
     ]
    }
   ],
   "source": [
    "def find_s1_70pe(event):\n",
    "    if not len(event.interactions):\n",
    "        # Continues to the next event\n",
    "        # We're in a function, so need to do return rather than continue\n",
    "        return\n",
    "    main_interaction = event.interactions[0]\n",
    "    main_s1 = event.peaks[main_interaction.s1]\n",
    "    if np.round(main_s1.area) == 70:\n",
    "        print(\"Event %s has a main S1 with area %s pe\" % (event.event_number, main_s1.area))\n",
    "        raise StopEventLoop\n",
    "\n",
    "loop_over_dataset('xe100_120401_2201', find_s1_70pe)"
   ]
  },
  {
   "cell_type": "markdown",
   "metadata": {},
   "source": [
    "# Extracting relevant data"
   ]
  },
  {
   "cell_type": "markdown",
   "metadata": {},
   "source": [
    "Even though you can loop over ROOT files quickly, it is too slow for convenient plotting. Do you have to go back to TTree->Draw(..)? No! "
   ]
  },
  {
   "cell_type": "code",
   "execution_count": 106,
   "metadata": {
    "collapsed": true
   },
   "outputs": [],
   "source": [
    "class Skimmer(object):\n",
    "    cache_size = 1000\n",
    "    extra_branches = tuple()\n",
    "    \n",
    "    def __init__(self):\n",
    "        self.cache = []\n",
    "        \n",
    "    def extract_data(self, event):\n",
    "        raise NotImplementedError()\n",
    "        \n",
    "    def process_event(self, event):\n",
    "        self.cache.append(self.extract_data(event))\n",
    "        self.check_cache()\n",
    "\n",
    "    def get_data(self, dataset, **kwargs):\n",
    "        \"\"\"Return data extracted from running over dataset\"\"\"\n",
    "        loop_over_dataset(dataset, self.process_event, \n",
    "                          branch_selection=BASIC_BRANCHES + list(self.extra_branches),\n",
    "                          **kwargs)\n",
    "        self.check_cache()\n",
    "        if not hasattr(self, 'data'):\n",
    "            raise NoEventsFound(\"Not a single event was extracted!\")\n",
    "        else:\n",
    "            return self.data\n",
    "    \n",
    "    def check_cache(self):\n",
    "        if len(self.cache) < self.cache_size:\n",
    "            return\n",
    "        if not hasattr(self, 'data'):\n",
    "            # Create the dataframe self.data\n",
    "            self.data = pd.DataFrame(self.cache)\n",
    "        else:\n",
    "            # Append to the dataframe self.data\n",
    "            self.data = self.data.append(self.cache)\n",
    "        self.cache = []"
   ]
  },
  {
   "cell_type": "code",
   "execution_count": 115,
   "metadata": {
    "collapsed": false
   },
   "outputs": [],
   "source": [
    "def load_skims(datasets, skims=basics, \n",
    "               force_recreate=False, skip_if_root_file_not_found=True):\n",
    "    if isinstance(datasets, str):\n",
    "        datasets = [datasets]\n",
    "    if isinstance(skims, (type, str)):\n",
    "        skims = [skims]\n",
    "\n",
    "    skimmed_datas = []\n",
    "    for skim in skims:\n",
    "        if isinstance(skim, str):\n",
    "            skim_name = skim\n",
    "        else:\n",
    "            skim_name = skim.__name__\n",
    "        \n",
    "        dataframes = []\n",
    "        for dataset in datasets:\n",
    "            skimfile_name = \"%s_%s.hdf5\" % (dataset, skim_name)\n",
    "            try:\n",
    "                if force_recreate:\n",
    "                    raise FileNotFoundError\n",
    "                skimfile_path = find_file_in_folders(skimfile_name, SKIMFILES_PATHS)\n",
    "            except FileNotFoundError:\n",
    "                # We have to make the skim file\n",
    "                if isinstance(skim, str):\n",
    "                    raise ValueError(\"No skim file '%s' available for %s.\"\n",
    "                                     \"Please provide skimmer rather than skim name so we can make it for you\")\n",
    "                skimmer = skim()  # Convert from class to instance :-)\n",
    "                try:\n",
    "                    skimmed_data = skimmer.get_data(dataset)\n",
    "                except FileNotFoundError as e:\n",
    "                    if skip_if_root_file_not_found:\n",
    "                        continue\n",
    "                    raise e\n",
    "                print(\"Created skim file %s for dataset %s\" % (skim_name, dataset))\n",
    "                skimfile_path = os.path.join('.', skimfile_name)\n",
    "                skimmed_data.to_hdf(skimfile_path, 'data', mode='w')\n",
    "                \n",
    "            # Load the skim file\n",
    "            dataframes.append(pd.read_hdf(skimfile_path, 'data'))\n",
    "        \n",
    "        skimmed_datas.append(pd.concat(dataframes))\n",
    "        \n",
    "    return pd.concat(skimmed_datas, axis=1)"
   ]
  },
  {
   "cell_type": "markdown",
   "metadata": {},
   "source": [
    "# Load the basic AmBe data"
   ]
  },
  {
   "cell_type": "code",
   "execution_count": 191,
   "metadata": {
    "collapsed": false
   },
   "outputs": [],
   "source": [
    "class S1Width(Skimmer):\n",
    "    extra_branches = ['peaks.hit_time_std', '*range_area_decile*']\n",
    "    \n",
    "    def extract_data(self, event):\n",
    "        if not len(event.interactions):\n",
    "            return dict()\n",
    "        s1 = event.peaks[event.interactions[0].s1]\n",
    "        return dict(s1_hit_time_std=s1.hit_time_std,\n",
    "                    s1_range_area_decile_5=s1.range_area_decile[5],\n",
    "                    s1_range_area_decile_9=s1.range_area_decile[9])"
   ]
  },
  {
   "cell_type": "code",
   "execution_count": 192,
   "metadata": {
    "collapsed": false,
    "scrolled": true
   },
   "outputs": [
    {
     "name": "stderr",
     "output_type": "stream",
     "text": [
      " 16%|█▌        | 59173/368000 [00:10<00:54, 5678.23it/s]"
     ]
    },
    {
     "ename": "KeyboardInterrupt",
     "evalue": "",
     "output_type": "error",
     "traceback": [
      "\u001b[1;31m---------------------------------------------------------------------------\u001b[0m",
      "\u001b[1;31mFileNotFoundError\u001b[0m                         Traceback (most recent call last)",
      "\u001b[1;32m<ipython-input-115-9fcdafc3b3b9>\u001b[0m in \u001b[0;36mload_skims\u001b[1;34m(datasets, skims, force_recreate, skip_if_root_file_not_found)\u001b[0m\n\u001b[0;32m     19\u001b[0m                 \u001b[1;32mif\u001b[0m \u001b[0mforce_recreate\u001b[0m\u001b[1;33m:\u001b[0m\u001b[1;33m\u001b[0m\u001b[0m\n\u001b[1;32m---> 20\u001b[1;33m                     \u001b[1;32mraise\u001b[0m \u001b[0mFileNotFoundError\u001b[0m\u001b[1;33m\u001b[0m\u001b[0m\n\u001b[0m\u001b[0;32m     21\u001b[0m                 \u001b[0mskimfile_path\u001b[0m \u001b[1;33m=\u001b[0m \u001b[0mfind_file_in_folders\u001b[0m\u001b[1;33m(\u001b[0m\u001b[0mskimfile_name\u001b[0m\u001b[1;33m,\u001b[0m \u001b[0mSKIMFILES_PATHS\u001b[0m\u001b[1;33m)\u001b[0m\u001b[1;33m\u001b[0m\u001b[0m\n",
      "\u001b[1;31mFileNotFoundError\u001b[0m: ",
      "\nDuring handling of the above exception, another exception occurred:\n",
      "\u001b[1;31mKeyboardInterrupt\u001b[0m                         Traceback (most recent call last)",
      "\u001b[1;32m<ipython-input-192-d47a753edb71>\u001b[0m in \u001b[0;36m<module>\u001b[1;34m()\u001b[0m\n\u001b[0;32m      2\u001b[0m \u001b[1;33m\u001b[0m\u001b[0m\n\u001b[0;32m      3\u001b[0m \u001b[0msource_datasets\u001b[0m \u001b[1;33m=\u001b[0m \u001b[0mdatasets\u001b[0m\u001b[1;33m.\u001b[0m\u001b[0mquery\u001b[0m\u001b[1;33m(\u001b[0m\u001b[1;34m'source == \"Co60\" & category == \"standard\"'\u001b[0m\u001b[1;33m)\u001b[0m\u001b[1;33m[\u001b[0m\u001b[1;34m'name'\u001b[0m\u001b[1;33m]\u001b[0m\u001b[1;33m.\u001b[0m\u001b[0mvalues\u001b[0m\u001b[1;33m\u001b[0m\u001b[0m\n\u001b[1;32m----> 4\u001b[1;33m \u001b[0mdata\u001b[0m \u001b[1;33m=\u001b[0m \u001b[0mload_skims\u001b[0m\u001b[1;33m(\u001b[0m\u001b[0msource_datasets\u001b[0m\u001b[1;33m[\u001b[0m\u001b[1;36m1\u001b[0m\u001b[1;33m]\u001b[0m\u001b[1;33m,\u001b[0m \u001b[1;33m(\u001b[0m\u001b[0mS1Width\u001b[0m\u001b[1;33m)\u001b[0m\u001b[1;33m,\u001b[0m \u001b[0mforce_recreate\u001b[0m\u001b[1;33m=\u001b[0m\u001b[1;32mTrue\u001b[0m\u001b[1;33m)\u001b[0m\u001b[1;33m\u001b[0m\u001b[0m\n\u001b[0m\u001b[0;32m      5\u001b[0m \u001b[0mdata\u001b[0m \u001b[1;33m=\u001b[0m \u001b[0mdata\u001b[0m\u001b[1;33m[\u001b[0m\u001b[0mdata\u001b[0m\u001b[1;33m[\u001b[0m\u001b[1;34m'cs1'\u001b[0m\u001b[1;33m]\u001b[0m \u001b[1;33m>\u001b[0m \u001b[1;36m0\u001b[0m\u001b[1;33m]\u001b[0m\u001b[1;33m\u001b[0m\u001b[0m\n",
      "\u001b[1;32m<ipython-input-115-9fcdafc3b3b9>\u001b[0m in \u001b[0;36mload_skims\u001b[1;34m(datasets, skims, force_recreate, skip_if_root_file_not_found)\u001b[0m\n\u001b[0;32m     27\u001b[0m                 \u001b[0mskimmer\u001b[0m \u001b[1;33m=\u001b[0m \u001b[0mskim\u001b[0m\u001b[1;33m(\u001b[0m\u001b[1;33m)\u001b[0m  \u001b[1;31m# Convert from class to instance :-)\u001b[0m\u001b[1;33m\u001b[0m\u001b[0m\n\u001b[0;32m     28\u001b[0m                 \u001b[1;32mtry\u001b[0m\u001b[1;33m:\u001b[0m\u001b[1;33m\u001b[0m\u001b[0m\n\u001b[1;32m---> 29\u001b[1;33m                     \u001b[0mskimmed_data\u001b[0m \u001b[1;33m=\u001b[0m \u001b[0mskimmer\u001b[0m\u001b[1;33m.\u001b[0m\u001b[0mget_data\u001b[0m\u001b[1;33m(\u001b[0m\u001b[0mdataset\u001b[0m\u001b[1;33m)\u001b[0m\u001b[1;33m\u001b[0m\u001b[0m\n\u001b[0m\u001b[0;32m     30\u001b[0m                 \u001b[1;32mexcept\u001b[0m \u001b[0mFileNotFoundError\u001b[0m \u001b[1;32mas\u001b[0m \u001b[0me\u001b[0m\u001b[1;33m:\u001b[0m\u001b[1;33m\u001b[0m\u001b[0m\n\u001b[0;32m     31\u001b[0m                     \u001b[1;32mif\u001b[0m \u001b[0mskip_if_root_file_not_found\u001b[0m\u001b[1;33m:\u001b[0m\u001b[1;33m\u001b[0m\u001b[0m\n",
      "\u001b[1;32m<ipython-input-106-76f288757c97>\u001b[0m in \u001b[0;36mget_data\u001b[1;34m(self, dataset, **kwargs)\u001b[0m\n\u001b[0;32m     17\u001b[0m         loop_over_dataset(dataset, self.process_event, \n\u001b[0;32m     18\u001b[0m                           \u001b[0mbranch_selection\u001b[0m\u001b[1;33m=\u001b[0m\u001b[0mBASIC_BRANCHES\u001b[0m \u001b[1;33m+\u001b[0m \u001b[0mlist\u001b[0m\u001b[1;33m(\u001b[0m\u001b[0mself\u001b[0m\u001b[1;33m.\u001b[0m\u001b[0mextra_branches\u001b[0m\u001b[1;33m)\u001b[0m\u001b[1;33m,\u001b[0m\u001b[1;33m\u001b[0m\u001b[0m\n\u001b[1;32m---> 19\u001b[1;33m                           **kwargs)\n\u001b[0m\u001b[0;32m     20\u001b[0m         \u001b[0mself\u001b[0m\u001b[1;33m.\u001b[0m\u001b[0mcheck_cache\u001b[0m\u001b[1;33m(\u001b[0m\u001b[1;33m)\u001b[0m\u001b[1;33m\u001b[0m\u001b[0m\n\u001b[0;32m     21\u001b[0m         \u001b[1;32mif\u001b[0m \u001b[1;32mnot\u001b[0m \u001b[0mhasattr\u001b[0m\u001b[1;33m(\u001b[0m\u001b[0mself\u001b[0m\u001b[1;33m,\u001b[0m \u001b[1;34m'data'\u001b[0m\u001b[1;33m)\u001b[0m\u001b[1;33m:\u001b[0m\u001b[1;33m\u001b[0m\u001b[0m\n",
      "\u001b[1;32m<ipython-input-103-0466f45a79c9>\u001b[0m in \u001b[0;36mloop_over_dataset\u001b[1;34m(dataset, event_function, branch_selection)\u001b[0m\n\u001b[0;32m     47\u001b[0m     \u001b[1;32mtry\u001b[0m\u001b[1;33m:\u001b[0m\u001b[1;33m\u001b[0m\u001b[0m\n\u001b[0;32m     48\u001b[0m         \u001b[1;32mfor\u001b[0m \u001b[0mevent_i\u001b[0m \u001b[1;32min\u001b[0m \u001b[0mtqdm\u001b[0m\u001b[1;33m(\u001b[0m\u001b[0mrange\u001b[0m\u001b[1;33m(\u001b[0m\u001b[0mn_events\u001b[0m\u001b[1;33m)\u001b[0m\u001b[1;33m)\u001b[0m\u001b[1;33m:\u001b[0m\u001b[1;33m\u001b[0m\u001b[0m\n\u001b[1;32m---> 49\u001b[1;33m             \u001b[0mt\u001b[0m\u001b[1;33m.\u001b[0m\u001b[0mGetEntry\u001b[0m\u001b[1;33m(\u001b[0m\u001b[0mevent_i\u001b[0m\u001b[1;33m)\u001b[0m\u001b[1;33m\u001b[0m\u001b[0m\n\u001b[0m\u001b[0;32m     50\u001b[0m             \u001b[0mevent\u001b[0m \u001b[1;33m=\u001b[0m \u001b[0mt\u001b[0m\u001b[1;33m.\u001b[0m\u001b[0mevents\u001b[0m\u001b[1;33m\u001b[0m\u001b[0m\n\u001b[0;32m     51\u001b[0m             \u001b[0mevent_function\u001b[0m\u001b[1;33m(\u001b[0m\u001b[0mevent\u001b[0m\u001b[1;33m)\u001b[0m\u001b[1;33m\u001b[0m\u001b[0m\n",
      "\u001b[1;31mKeyboardInterrupt\u001b[0m: "
     ]
    }
   ],
   "source": [
    "#%%prun -D \"skimming.prof\"\n",
    "source_datasets = datasets.query('source == \"Co60\" & category == \"standard\"')['name'].values\n",
    "data = load_skims(source_datasets[1], (S1Width), force_recreate=True)\n",
    "data = data[data['cs1'] > 0]"
   ]
  },
  {
   "cell_type": "code",
   "execution_count": 190,
   "metadata": {
    "collapsed": false
   },
   "outputs": [
    {
     "data": {
      "text/html": [
       "<div>\n",
       "<table border=\"1\" class=\"dataframe\">\n",
       "  <thead>\n",
       "    <tr style=\"text-align: right;\">\n",
       "      <th></th>\n",
       "      <th>s1_hit_time_std</th>\n",
       "      <th>s1_range_area_decile_5</th>\n",
       "      <th>s1_range_area_decile_9</th>\n",
       "    </tr>\n",
       "  </thead>\n",
       "  <tbody>\n",
       "    <tr>\n",
       "      <th>0</th>\n",
       "      <td>95.151917</td>\n",
       "      <td>0</td>\n",
       "      <td>0</td>\n",
       "    </tr>\n",
       "    <tr>\n",
       "      <th>1</th>\n",
       "      <td>26.786804</td>\n",
       "      <td>0</td>\n",
       "      <td>0</td>\n",
       "    </tr>\n",
       "    <tr>\n",
       "      <th>2</th>\n",
       "      <td>NaN</td>\n",
       "      <td>NaN</td>\n",
       "      <td>NaN</td>\n",
       "    </tr>\n",
       "    <tr>\n",
       "      <th>3</th>\n",
       "      <td>NaN</td>\n",
       "      <td>NaN</td>\n",
       "      <td>NaN</td>\n",
       "    </tr>\n",
       "    <tr>\n",
       "      <th>4</th>\n",
       "      <td>NaN</td>\n",
       "      <td>NaN</td>\n",
       "      <td>NaN</td>\n",
       "    </tr>\n",
       "    <tr>\n",
       "      <th>5</th>\n",
       "      <td>NaN</td>\n",
       "      <td>NaN</td>\n",
       "      <td>NaN</td>\n",
       "    </tr>\n",
       "    <tr>\n",
       "      <th>6</th>\n",
       "      <td>62.030113</td>\n",
       "      <td>0</td>\n",
       "      <td>0</td>\n",
       "    </tr>\n",
       "    <tr>\n",
       "      <th>7</th>\n",
       "      <td>13.499624</td>\n",
       "      <td>0</td>\n",
       "      <td>0</td>\n",
       "    </tr>\n",
       "    <tr>\n",
       "      <th>8</th>\n",
       "      <td>36.715950</td>\n",
       "      <td>0</td>\n",
       "      <td>0</td>\n",
       "    </tr>\n",
       "    <tr>\n",
       "      <th>9</th>\n",
       "      <td>NaN</td>\n",
       "      <td>NaN</td>\n",
       "      <td>NaN</td>\n",
       "    </tr>\n",
       "    <tr>\n",
       "      <th>10</th>\n",
       "      <td>NaN</td>\n",
       "      <td>NaN</td>\n",
       "      <td>NaN</td>\n",
       "    </tr>\n",
       "    <tr>\n",
       "      <th>11</th>\n",
       "      <td>NaN</td>\n",
       "      <td>NaN</td>\n",
       "      <td>NaN</td>\n",
       "    </tr>\n",
       "    <tr>\n",
       "      <th>12</th>\n",
       "      <td>13.921141</td>\n",
       "      <td>0</td>\n",
       "      <td>0</td>\n",
       "    </tr>\n",
       "    <tr>\n",
       "      <th>13</th>\n",
       "      <td>NaN</td>\n",
       "      <td>NaN</td>\n",
       "      <td>NaN</td>\n",
       "    </tr>\n",
       "    <tr>\n",
       "      <th>14</th>\n",
       "      <td>64.911263</td>\n",
       "      <td>0</td>\n",
       "      <td>0</td>\n",
       "    </tr>\n",
       "    <tr>\n",
       "      <th>15</th>\n",
       "      <td>23.736023</td>\n",
       "      <td>0</td>\n",
       "      <td>0</td>\n",
       "    </tr>\n",
       "    <tr>\n",
       "      <th>16</th>\n",
       "      <td>49.840305</td>\n",
       "      <td>0</td>\n",
       "      <td>0</td>\n",
       "    </tr>\n",
       "    <tr>\n",
       "      <th>17</th>\n",
       "      <td>NaN</td>\n",
       "      <td>NaN</td>\n",
       "      <td>NaN</td>\n",
       "    </tr>\n",
       "    <tr>\n",
       "      <th>18</th>\n",
       "      <td>NaN</td>\n",
       "      <td>NaN</td>\n",
       "      <td>NaN</td>\n",
       "    </tr>\n",
       "    <tr>\n",
       "      <th>19</th>\n",
       "      <td>41.404202</td>\n",
       "      <td>0</td>\n",
       "      <td>0</td>\n",
       "    </tr>\n",
       "  </tbody>\n",
       "</table>\n",
       "</div>"
      ],
      "text/plain": [
       "    s1_hit_time_std  s1_range_area_decile_5  s1_range_area_decile_9\n",
       "0         95.151917                       0                       0\n",
       "1         26.786804                       0                       0\n",
       "2               NaN                     NaN                     NaN\n",
       "3               NaN                     NaN                     NaN\n",
       "4               NaN                     NaN                     NaN\n",
       "5               NaN                     NaN                     NaN\n",
       "6         62.030113                       0                       0\n",
       "7         13.499624                       0                       0\n",
       "8         36.715950                       0                       0\n",
       "9               NaN                     NaN                     NaN\n",
       "10              NaN                     NaN                     NaN\n",
       "11              NaN                     NaN                     NaN\n",
       "12        13.921141                       0                       0\n",
       "13              NaN                     NaN                     NaN\n",
       "14        64.911263                       0                       0\n",
       "15        23.736023                       0                       0\n",
       "16        49.840305                       0                       0\n",
       "17              NaN                     NaN                     NaN\n",
       "18              NaN                     NaN                     NaN\n",
       "19        41.404202                       0                       0"
      ]
     },
     "execution_count": 190,
     "metadata": {},
     "output_type": "execute_result"
    }
   ],
   "source": [
    "data.head(20)"
   ]
  },
  {
   "cell_type": "code",
   "execution_count": 164,
   "metadata": {
    "collapsed": false
   },
   "outputs": [
    {
     "ename": "ValueError",
     "evalue": "No objects to concatenate",
     "output_type": "error",
     "traceback": [
      "\u001b[1;31m---------------------------------------------------------------------------\u001b[0m",
      "\u001b[1;31mValueError\u001b[0m                                Traceback (most recent call last)",
      "\u001b[1;32m<ipython-input-164-250174ec08e0>\u001b[0m in \u001b[0;36m<module>\u001b[1;34m()\u001b[0m\n\u001b[1;32m----> 1\u001b[1;33m \u001b[0mget_ipython\u001b[0m\u001b[1;33m(\u001b[0m\u001b[1;33m)\u001b[0m\u001b[1;33m.\u001b[0m\u001b[0mrun_cell_magic\u001b[0m\u001b[1;33m(\u001b[0m\u001b[1;34m'prun'\u001b[0m\u001b[1;33m,\u001b[0m \u001b[1;34m''\u001b[0m\u001b[1;33m,\u001b[0m \u001b[1;34m'\\ndata_by_source = {}\\n\\nfor source in (\\'AmBe\\', \\'Co60\\', \\'Th232\\'):\\n    source_datasets = datasets.query(\\'source == \"%s\" & category == \"standard\"\\' % source)[\\'name\\'].values\\n    data = load_skims(source_datasets[-1], (Basics, S1Width))\\n    data = data[data[\\'cs1\\'] > 0]\\n    data_by_source=data'\u001b[0m\u001b[1;33m)\u001b[0m\u001b[1;33m\u001b[0m\u001b[0m\n\u001b[0m",
      "\u001b[1;32m/home/tunnell/anaconda3/envs/pax/lib/python3.4/site-packages/IPython/core/interactiveshell.py\u001b[0m in \u001b[0;36mrun_cell_magic\u001b[1;34m(self, magic_name, line, cell)\u001b[0m\n\u001b[0;32m   2291\u001b[0m             \u001b[0mmagic_arg_s\u001b[0m \u001b[1;33m=\u001b[0m \u001b[0mself\u001b[0m\u001b[1;33m.\u001b[0m\u001b[0mvar_expand\u001b[0m\u001b[1;33m(\u001b[0m\u001b[0mline\u001b[0m\u001b[1;33m,\u001b[0m \u001b[0mstack_depth\u001b[0m\u001b[1;33m)\u001b[0m\u001b[1;33m\u001b[0m\u001b[0m\n\u001b[0;32m   2292\u001b[0m             \u001b[1;32mwith\u001b[0m \u001b[0mself\u001b[0m\u001b[1;33m.\u001b[0m\u001b[0mbuiltin_trap\u001b[0m\u001b[1;33m:\u001b[0m\u001b[1;33m\u001b[0m\u001b[0m\n\u001b[1;32m-> 2293\u001b[1;33m                 \u001b[0mresult\u001b[0m \u001b[1;33m=\u001b[0m \u001b[0mfn\u001b[0m\u001b[1;33m(\u001b[0m\u001b[0mmagic_arg_s\u001b[0m\u001b[1;33m,\u001b[0m \u001b[0mcell\u001b[0m\u001b[1;33m)\u001b[0m\u001b[1;33m\u001b[0m\u001b[0m\n\u001b[0m\u001b[0;32m   2294\u001b[0m             \u001b[1;32mreturn\u001b[0m \u001b[0mresult\u001b[0m\u001b[1;33m\u001b[0m\u001b[0m\n\u001b[0;32m   2295\u001b[0m \u001b[1;33m\u001b[0m\u001b[0m\n",
      "\u001b[1;32m/home/tunnell/anaconda3/envs/pax/lib/python3.4/site-packages/IPython/core/magics/execution.py\u001b[0m in \u001b[0;36mprun\u001b[1;34m(self, parameter_s, cell)\u001b[0m\n",
      "\u001b[1;32m/home/tunnell/anaconda3/envs/pax/lib/python3.4/site-packages/IPython/core/magic.py\u001b[0m in \u001b[0;36m<lambda>\u001b[1;34m(f, *a, **k)\u001b[0m\n\u001b[0;32m    191\u001b[0m     \u001b[1;31m# but it's overkill for just that one bit of state.\u001b[0m\u001b[1;33m\u001b[0m\u001b[1;33m\u001b[0m\u001b[0m\n\u001b[0;32m    192\u001b[0m     \u001b[1;32mdef\u001b[0m \u001b[0mmagic_deco\u001b[0m\u001b[1;33m(\u001b[0m\u001b[0marg\u001b[0m\u001b[1;33m)\u001b[0m\u001b[1;33m:\u001b[0m\u001b[1;33m\u001b[0m\u001b[0m\n\u001b[1;32m--> 193\u001b[1;33m         \u001b[0mcall\u001b[0m \u001b[1;33m=\u001b[0m \u001b[1;32mlambda\u001b[0m \u001b[0mf\u001b[0m\u001b[1;33m,\u001b[0m \u001b[1;33m*\u001b[0m\u001b[0ma\u001b[0m\u001b[1;33m,\u001b[0m \u001b[1;33m**\u001b[0m\u001b[0mk\u001b[0m\u001b[1;33m:\u001b[0m \u001b[0mf\u001b[0m\u001b[1;33m(\u001b[0m\u001b[1;33m*\u001b[0m\u001b[0ma\u001b[0m\u001b[1;33m,\u001b[0m \u001b[1;33m**\u001b[0m\u001b[0mk\u001b[0m\u001b[1;33m)\u001b[0m\u001b[1;33m\u001b[0m\u001b[0m\n\u001b[0m\u001b[0;32m    194\u001b[0m \u001b[1;33m\u001b[0m\u001b[0m\n\u001b[0;32m    195\u001b[0m         \u001b[1;32mif\u001b[0m \u001b[0mcallable\u001b[0m\u001b[1;33m(\u001b[0m\u001b[0marg\u001b[0m\u001b[1;33m)\u001b[0m\u001b[1;33m:\u001b[0m\u001b[1;33m\u001b[0m\u001b[0m\n",
      "\u001b[1;32m/home/tunnell/anaconda3/envs/pax/lib/python3.4/site-packages/IPython/core/magics/execution.py\u001b[0m in \u001b[0;36mprun\u001b[1;34m(self, parameter_s, cell)\u001b[0m\n\u001b[0;32m    273\u001b[0m             \u001b[0marg_str\u001b[0m \u001b[1;33m+=\u001b[0m \u001b[1;34m'\\n'\u001b[0m \u001b[1;33m+\u001b[0m \u001b[0mcell\u001b[0m\u001b[1;33m\u001b[0m\u001b[0m\n\u001b[0;32m    274\u001b[0m         \u001b[0marg_str\u001b[0m \u001b[1;33m=\u001b[0m \u001b[0mself\u001b[0m\u001b[1;33m.\u001b[0m\u001b[0mshell\u001b[0m\u001b[1;33m.\u001b[0m\u001b[0minput_splitter\u001b[0m\u001b[1;33m.\u001b[0m\u001b[0mtransform_cell\u001b[0m\u001b[1;33m(\u001b[0m\u001b[0marg_str\u001b[0m\u001b[1;33m)\u001b[0m\u001b[1;33m\u001b[0m\u001b[0m\n\u001b[1;32m--> 275\u001b[1;33m         \u001b[1;32mreturn\u001b[0m \u001b[0mself\u001b[0m\u001b[1;33m.\u001b[0m\u001b[0m_run_with_profiler\u001b[0m\u001b[1;33m(\u001b[0m\u001b[0marg_str\u001b[0m\u001b[1;33m,\u001b[0m \u001b[0mopts\u001b[0m\u001b[1;33m,\u001b[0m \u001b[0mself\u001b[0m\u001b[1;33m.\u001b[0m\u001b[0mshell\u001b[0m\u001b[1;33m.\u001b[0m\u001b[0muser_ns\u001b[0m\u001b[1;33m)\u001b[0m\u001b[1;33m\u001b[0m\u001b[0m\n\u001b[0m\u001b[0;32m    276\u001b[0m \u001b[1;33m\u001b[0m\u001b[0m\n\u001b[0;32m    277\u001b[0m     \u001b[1;32mdef\u001b[0m \u001b[0m_run_with_profiler\u001b[0m\u001b[1;33m(\u001b[0m\u001b[0mself\u001b[0m\u001b[1;33m,\u001b[0m \u001b[0mcode\u001b[0m\u001b[1;33m,\u001b[0m \u001b[0mopts\u001b[0m\u001b[1;33m,\u001b[0m \u001b[0mnamespace\u001b[0m\u001b[1;33m)\u001b[0m\u001b[1;33m:\u001b[0m\u001b[1;33m\u001b[0m\u001b[0m\n",
      "\u001b[1;32m/home/tunnell/anaconda3/envs/pax/lib/python3.4/site-packages/IPython/core/magics/execution.py\u001b[0m in \u001b[0;36m_run_with_profiler\u001b[1;34m(self, code, opts, namespace)\u001b[0m\n\u001b[0;32m    295\u001b[0m         \u001b[0mprof\u001b[0m \u001b[1;33m=\u001b[0m \u001b[0mprofile\u001b[0m\u001b[1;33m.\u001b[0m\u001b[0mProfile\u001b[0m\u001b[1;33m(\u001b[0m\u001b[1;33m)\u001b[0m\u001b[1;33m\u001b[0m\u001b[0m\n\u001b[0;32m    296\u001b[0m         \u001b[1;32mtry\u001b[0m\u001b[1;33m:\u001b[0m\u001b[1;33m\u001b[0m\u001b[0m\n\u001b[1;32m--> 297\u001b[1;33m             \u001b[0mprof\u001b[0m \u001b[1;33m=\u001b[0m \u001b[0mprof\u001b[0m\u001b[1;33m.\u001b[0m\u001b[0mrunctx\u001b[0m\u001b[1;33m(\u001b[0m\u001b[0mcode\u001b[0m\u001b[1;33m,\u001b[0m \u001b[0mnamespace\u001b[0m\u001b[1;33m,\u001b[0m \u001b[0mnamespace\u001b[0m\u001b[1;33m)\u001b[0m\u001b[1;33m\u001b[0m\u001b[0m\n\u001b[0m\u001b[0;32m    298\u001b[0m             \u001b[0msys_exit\u001b[0m \u001b[1;33m=\u001b[0m \u001b[1;34m''\u001b[0m\u001b[1;33m\u001b[0m\u001b[0m\n\u001b[0;32m    299\u001b[0m         \u001b[1;32mexcept\u001b[0m \u001b[0mSystemExit\u001b[0m\u001b[1;33m:\u001b[0m\u001b[1;33m\u001b[0m\u001b[0m\n",
      "\u001b[1;32m/home/tunnell/anaconda3/envs/pax/lib/python3.4/cProfile.py\u001b[0m in \u001b[0;36mrunctx\u001b[1;34m(self, cmd, globals, locals)\u001b[0m\n\u001b[0;32m     98\u001b[0m         \u001b[0mself\u001b[0m\u001b[1;33m.\u001b[0m\u001b[0menable\u001b[0m\u001b[1;33m(\u001b[0m\u001b[1;33m)\u001b[0m\u001b[1;33m\u001b[0m\u001b[0m\n\u001b[0;32m     99\u001b[0m         \u001b[1;32mtry\u001b[0m\u001b[1;33m:\u001b[0m\u001b[1;33m\u001b[0m\u001b[0m\n\u001b[1;32m--> 100\u001b[1;33m             \u001b[0mexec\u001b[0m\u001b[1;33m(\u001b[0m\u001b[0mcmd\u001b[0m\u001b[1;33m,\u001b[0m \u001b[0mglobals\u001b[0m\u001b[1;33m,\u001b[0m \u001b[0mlocals\u001b[0m\u001b[1;33m)\u001b[0m\u001b[1;33m\u001b[0m\u001b[0m\n\u001b[0m\u001b[0;32m    101\u001b[0m         \u001b[1;32mfinally\u001b[0m\u001b[1;33m:\u001b[0m\u001b[1;33m\u001b[0m\u001b[0m\n\u001b[0;32m    102\u001b[0m             \u001b[0mself\u001b[0m\u001b[1;33m.\u001b[0m\u001b[0mdisable\u001b[0m\u001b[1;33m(\u001b[0m\u001b[1;33m)\u001b[0m\u001b[1;33m\u001b[0m\u001b[0m\n",
      "\u001b[1;32m<string>\u001b[0m in \u001b[0;36m<module>\u001b[1;34m()\u001b[0m\n",
      "\u001b[1;32m<ipython-input-115-9fcdafc3b3b9>\u001b[0m in \u001b[0;36mload_skims\u001b[1;34m(datasets, skims, force_recreate, skip_if_root_file_not_found)\u001b[0m\n\u001b[0;32m     39\u001b[0m             \u001b[0mdataframes\u001b[0m\u001b[1;33m.\u001b[0m\u001b[0mappend\u001b[0m\u001b[1;33m(\u001b[0m\u001b[0mpd\u001b[0m\u001b[1;33m.\u001b[0m\u001b[0mread_hdf\u001b[0m\u001b[1;33m(\u001b[0m\u001b[0mskimfile_path\u001b[0m\u001b[1;33m,\u001b[0m \u001b[1;34m'data'\u001b[0m\u001b[1;33m)\u001b[0m\u001b[1;33m)\u001b[0m\u001b[1;33m\u001b[0m\u001b[0m\n\u001b[0;32m     40\u001b[0m \u001b[1;33m\u001b[0m\u001b[0m\n\u001b[1;32m---> 41\u001b[1;33m         \u001b[0mskimmed_datas\u001b[0m\u001b[1;33m.\u001b[0m\u001b[0mappend\u001b[0m\u001b[1;33m(\u001b[0m\u001b[0mpd\u001b[0m\u001b[1;33m.\u001b[0m\u001b[0mconcat\u001b[0m\u001b[1;33m(\u001b[0m\u001b[0mdataframes\u001b[0m\u001b[1;33m)\u001b[0m\u001b[1;33m)\u001b[0m\u001b[1;33m\u001b[0m\u001b[0m\n\u001b[0m\u001b[0;32m     42\u001b[0m \u001b[1;33m\u001b[0m\u001b[0m\n\u001b[0;32m     43\u001b[0m     \u001b[1;32mreturn\u001b[0m \u001b[0mpd\u001b[0m\u001b[1;33m.\u001b[0m\u001b[0mconcat\u001b[0m\u001b[1;33m(\u001b[0m\u001b[0mskimmed_datas\u001b[0m\u001b[1;33m,\u001b[0m \u001b[0maxis\u001b[0m\u001b[1;33m=\u001b[0m\u001b[1;36m1\u001b[0m\u001b[1;33m)\u001b[0m\u001b[1;33m\u001b[0m\u001b[0m\n",
      "\u001b[1;32m/home/tunnell/anaconda3/envs/pax/lib/python3.4/site-packages/pandas/tools/merge.py\u001b[0m in \u001b[0;36mconcat\u001b[1;34m(objs, axis, join, join_axes, ignore_index, keys, levels, names, verify_integrity, copy)\u001b[0m\n\u001b[0;32m    807\u001b[0m                        \u001b[0mkeys\u001b[0m\u001b[1;33m=\u001b[0m\u001b[0mkeys\u001b[0m\u001b[1;33m,\u001b[0m \u001b[0mlevels\u001b[0m\u001b[1;33m=\u001b[0m\u001b[0mlevels\u001b[0m\u001b[1;33m,\u001b[0m \u001b[0mnames\u001b[0m\u001b[1;33m=\u001b[0m\u001b[0mnames\u001b[0m\u001b[1;33m,\u001b[0m\u001b[1;33m\u001b[0m\u001b[0m\n\u001b[0;32m    808\u001b[0m                        \u001b[0mverify_integrity\u001b[0m\u001b[1;33m=\u001b[0m\u001b[0mverify_integrity\u001b[0m\u001b[1;33m,\u001b[0m\u001b[1;33m\u001b[0m\u001b[0m\n\u001b[1;32m--> 809\u001b[1;33m                        copy=copy)\n\u001b[0m\u001b[0;32m    810\u001b[0m     \u001b[1;32mreturn\u001b[0m \u001b[0mop\u001b[0m\u001b[1;33m.\u001b[0m\u001b[0mget_result\u001b[0m\u001b[1;33m(\u001b[0m\u001b[1;33m)\u001b[0m\u001b[1;33m\u001b[0m\u001b[0m\n\u001b[0;32m    811\u001b[0m \u001b[1;33m\u001b[0m\u001b[0m\n",
      "\u001b[1;32m/home/tunnell/anaconda3/envs/pax/lib/python3.4/site-packages/pandas/tools/merge.py\u001b[0m in \u001b[0;36m__init__\u001b[1;34m(self, objs, axis, join, join_axes, keys, levels, names, ignore_index, verify_integrity, copy)\u001b[0m\n\u001b[0;32m    840\u001b[0m \u001b[1;33m\u001b[0m\u001b[0m\n\u001b[0;32m    841\u001b[0m         \u001b[1;32mif\u001b[0m \u001b[0mlen\u001b[0m\u001b[1;33m(\u001b[0m\u001b[0mobjs\u001b[0m\u001b[1;33m)\u001b[0m \u001b[1;33m==\u001b[0m \u001b[1;36m0\u001b[0m\u001b[1;33m:\u001b[0m\u001b[1;33m\u001b[0m\u001b[0m\n\u001b[1;32m--> 842\u001b[1;33m             \u001b[1;32mraise\u001b[0m \u001b[0mValueError\u001b[0m\u001b[1;33m(\u001b[0m\u001b[1;34m'No objects to concatenate'\u001b[0m\u001b[1;33m)\u001b[0m\u001b[1;33m\u001b[0m\u001b[0m\n\u001b[0m\u001b[0;32m    843\u001b[0m \u001b[1;33m\u001b[0m\u001b[0m\n\u001b[0;32m    844\u001b[0m         \u001b[1;32mif\u001b[0m \u001b[0mkeys\u001b[0m \u001b[1;32mis\u001b[0m \u001b[1;32mNone\u001b[0m\u001b[1;33m:\u001b[0m\u001b[1;33m\u001b[0m\u001b[0m\n",
      "\u001b[1;31mValueError\u001b[0m: No objects to concatenate"
     ]
    }
   ],
   "source": [
    "data_by_source = {}\n",
    "\n",
    "for source in ('AmBe', 'Co60', 'Th232'):\n",
    "    source_datasets = datasets.query('source == \"%s\" & category == \"standard\"' % source)['name'].values\n",
    "    data = load_skims(source_datasets[-1], (Basics, S1Width))\n",
    "    data = data[data['cs1'] > 0]\n",
    "    data_by_source=data"
   ]
  },
  {
   "cell_type": "code",
   "execution_count": 157,
   "metadata": {
    "collapsed": false
   },
   "outputs": [
    {
     "data": {
      "text/plain": [
       "<matplotlib.colorbar.Colorbar at 0x7f9cc0387ac8>"
      ]
     },
     "execution_count": 157,
     "metadata": {},
     "output_type": "execute_result"
    },
    {
     "data": {
      "image/png": "[encoded data removed]",
      "text/plain": [
       "<matplotlib.figure.Figure at 0x7f9cc03d7358>"
      ]
     },
     "metadata": {},
     "output_type": "display_data"
    }
   ],
   "source": [
    "plt.hist2d(np.log10(data['cs1']), #np.log10(data['cs2']), \n",
    "           data['s1_range_area_decile_5'],\n",
    "           #s=2, edgecolors='none', vmin=50, vmax=100\n",
    "           bins=100, range=((0, 5), (0, 120)),\n",
    "          )\n",
    "plt.colorbar()"
   ]
  },
  {
   "cell_type": "markdown",
   "metadata": {},
   "source": [
    "# Bla"
   ]
  },
  {
   "cell_type": "code",
   "execution_count": 19,
   "metadata": {
    "collapsed": false
   },
   "outputs": [],
   "source": [
    "from collections import defaultdict\n",
    "\n",
    "class NoEventsFound(Exception):\n",
    "    pass\n",
    "\n",
    "class DataExtractor(object):\n",
    "    cache_size = 1000\n",
    "    extra_branches = tuple()\n",
    "    \n",
    "    def __init__(self):\n",
    "        self.cache = []\n",
    "\n",
    "    def get_data(self, datasets, **kwargs):\n",
    "        \"\"\"Return data extracted from running over datasets\"\"\"\n",
    "        for ds in datasets:\n",
    "            # Check for cached file\n",
    "            \n",
    "            # Create hdf5 file\n",
    "            self.run(ds, **kwargs)\n",
    "        \n",
    "            loop_over_root_events(datasets, self.process_event, \n",
    "                                  branch_selection=BASIC_BRANCHES + list(self.extra_branches),\n",
    "                                  **kwargs)\n",
    "            self.check_cache()\n",
    "            if not hasattr(self, 'data'):\n",
    "                raise NoEventsFound(\"Not a single event was extracted!\")\n",
    "            else:\n",
    "                self.data.to_hdf('xe100_120402_1116.hdf5', 'data')\n",
    "                return self.data\n",
    "                del self.data\n",
    "    \n",
    "    def process_event(self, event):\n",
    "        event_data = dict(event_number=event.event_number,\n",
    "                          event_time=event.start_time)\n",
    "        \n",
    "        # Detect events without at least one S1 + S2 pair immediatly\n",
    "        # We cannot even fill the basic variables for these\n",
    "        if len(event.interactions) != 0:\n",
    "\n",
    "            # Extract basic data: useful in any analysis\n",
    "            interaction = event.interactions[0]\n",
    "            s1 = event.peaks[interaction.s1]\n",
    "            s2 = event.peaks[interaction.s2]\n",
    "            event_data.update(dict(s1_corrected_area=s1.area * interaction.s1_area_correction,\n",
    "                                   s2_corrected_area=s2.area * interaction.s2_area_correction,\n",
    "                                   x=interaction.x,\n",
    "                                   y=interaction.y,\n",
    "                                   z=interaction.z))\n",
    "\n",
    "            # Add double scatter data:\n",
    "            # area of the second largest peak of each peak type\n",
    "            #largest_area_of_type = defaultdict(float)\n",
    "            #for i, p in enumerate(event.peaks):\n",
    "            #    if i == interaction.s1 or i == interaction.s2:\n",
    "            #        continue\n",
    "            #    largest_area_of_type[p.type] = max(p.area, largest_area_of_type[p.type])\n",
    "            #event_data.update({'largest_other_%s' % p_type: area\n",
    "            #                   for p_type, area in largest_area_of_type.items()})\n",
    "\n",
    "            # Add any extra data\n",
    "            event_data.update(self.extract_data(event))\n",
    "        \n",
    "        # Append this event dictionary to the cache\n",
    "        # If we would append every dict to the dataframe individually the code runs ~5x slower\n",
    "        self.cache.append(event_data)\n",
    "        self.check_cache()\n",
    "\n",
    "    def check_cache(self):\n",
    "        if len(self.cache) < 100:\n",
    "            return\n",
    "        if not hasattr(self, 'data'):\n",
    "            # Create the dataframe self.data\n",
    "            self.data = pandas.DataFrame(self.cache)\n",
    "        else:\n",
    "            # Append to the dataframe self.data\n",
    "            self.data = self.data.append(self.cache)\n",
    "        self.cache = []\n",
    "            \n",
    "    def extract_data(self, event):\n",
    "        \"\"\"Override this to extract extra data\"\"\"\n",
    "        return {}"
   ]
  },
  {
   "cell_type": "markdown",
   "metadata": {},
   "source": [
    "Here's how you might extract data for an S1 Pulse shape analysis:"
   ]
  },
  {
   "cell_type": "code",
   "execution_count": 16,
   "metadata": {
    "collapsed": false
   },
   "outputs": [
    {
     "name": "stderr",
     "output_type": "stream",
     "text": [
      " 24%|██▍       | 41835/172506 [00:05<00:17, 7356.28it/s]"
     ]
    },
    {
     "name": "stdout",
     "output_type": "stream",
     "text": [
      "ROOT file /archive_lngs/common/PaxReprocessed_6/xe100_110210_1100.root does not exist!\n",
      "ROOT file /archive_lngs/common/PaxReprocessed_6/xe100_110210_1106.root does not exist!\n",
      "ROOT file /archive_lngs/common/PaxReprocessed_6/xe100_110210_1412.root does not exist!\n",
      "ROOT file /archive_lngs/common/PaxReprocessed_6/xe100_110210_1502.root does not exist!\n",
      "ROOT file /archive_lngs/common/PaxReprocessed_6/xe100_110210_1709.root does not exist!\n",
      "ROOT file /archive_lngs/common/PaxReprocessed_6/xe100_110210_1926.root does not exist!\n",
      "ROOT file /archive_lngs/common/PaxReprocessed_6/xe100_110210_2211.root does not exist!\n",
      "ROOT file /archive_lngs/common/PaxReprocessed_6/xe100_110210_2341.root does not exist!\n",
      "ROOT file /archive_lngs/common/PaxReprocessed_6/xe100_110211_0059.root does not exist!\n",
      "ROOT file /archive_lngs/common/PaxReprocessed_6/xe100_110211_0315.root does not exist!\n",
      "ROOT file /archive_lngs/common/PaxReprocessed_6/xe100_110211_0532.root does not exist!\n",
      "ROOT file /archive_lngs/common/PaxReprocessed_6/xe100_110211_0614.root does not exist!\n",
      "ROOT file /archive_lngs/common/PaxReprocessed_6/xe100_110211_0935.root does not exist!\n",
      "ROOT file /archive_lngs/common/PaxReprocessed_6/xe100_110211_1243.root does not exist!\n"
     ]
    },
    {
     "ename": "KeyboardInterrupt",
     "evalue": "",
     "output_type": "error",
     "traceback": [
      "\u001b[1;31m---------------------------------------------------------------------------\u001b[0m",
      "\u001b[1;31mKeyboardInterrupt\u001b[0m                         Traceback (most recent call last)",
      "\u001b[1;32m<ipython-input-16-dbdf51d75427>\u001b[0m in \u001b[0;36m<module>\u001b[1;34m()\u001b[0m\n\u001b[0;32m     12\u001b[0m \u001b[1;32mfor\u001b[0m \u001b[0mds\u001b[0m \u001b[1;32min\u001b[0m \u001b[0mambe_datasets\u001b[0m\u001b[1;33m:\u001b[0m\u001b[1;33m\u001b[0m\u001b[0m\n\u001b[0;32m     13\u001b[0m     \u001b[1;32mtry\u001b[0m\u001b[1;33m:\u001b[0m\u001b[1;33m\u001b[0m\u001b[0m\n\u001b[1;32m---> 14\u001b[1;33m         \u001b[0mdata\u001b[0m \u001b[1;33m=\u001b[0m \u001b[0mextractor\u001b[0m\u001b[1;33m.\u001b[0m\u001b[0mrun\u001b[0m\u001b[1;33m(\u001b[0m\u001b[0mds\u001b[0m\u001b[1;33m,\u001b[0m \u001b[0mrootfiles_path\u001b[0m\u001b[1;33m=\u001b[0m\u001b[1;34m'/archive_lngs/common/PaxReprocessed_6'\u001b[0m\u001b[1;33m)\u001b[0m\u001b[1;33m\u001b[0m\u001b[0m\n\u001b[0m\u001b[0;32m     15\u001b[0m     \u001b[1;32mexcept\u001b[0m \u001b[0mNoEventsFound\u001b[0m\u001b[1;33m:\u001b[0m\u001b[1;33m\u001b[0m\u001b[0m\n\u001b[0;32m     16\u001b[0m         \u001b[1;32mcontinue\u001b[0m\u001b[1;33m\u001b[0m\u001b[0m\n",
      "\u001b[1;32m<ipython-input-14-3e406adb7911>\u001b[0m in \u001b[0;36mrun\u001b[1;34m(self, datasets, **kwargs)\u001b[0m\n\u001b[0;32m     16\u001b[0m         loop_over_root_events(datasets, self.process_event, \n\u001b[0;32m     17\u001b[0m                               \u001b[0mbranch_selection\u001b[0m\u001b[1;33m=\u001b[0m\u001b[0mBASIC_BRANCHES\u001b[0m \u001b[1;33m+\u001b[0m \u001b[0mlist\u001b[0m\u001b[1;33m(\u001b[0m\u001b[0mself\u001b[0m\u001b[1;33m.\u001b[0m\u001b[0mextra_branches\u001b[0m\u001b[1;33m)\u001b[0m\u001b[1;33m,\u001b[0m\u001b[1;33m\u001b[0m\u001b[0m\n\u001b[1;32m---> 18\u001b[1;33m                               **kwargs)\n\u001b[0m\u001b[0;32m     19\u001b[0m         \u001b[0mself\u001b[0m\u001b[1;33m.\u001b[0m\u001b[0mcheck_cache\u001b[0m\u001b[1;33m(\u001b[0m\u001b[1;33m)\u001b[0m\u001b[1;33m\u001b[0m\u001b[0m\n\u001b[0;32m     20\u001b[0m         \u001b[1;32mif\u001b[0m \u001b[1;32mnot\u001b[0m \u001b[0mhasattr\u001b[0m\u001b[1;33m(\u001b[0m\u001b[0mself\u001b[0m\u001b[1;33m,\u001b[0m \u001b[1;34m'data'\u001b[0m\u001b[1;33m)\u001b[0m\u001b[1;33m:\u001b[0m\u001b[1;33m\u001b[0m\u001b[0m\n",
      "\u001b[1;32m<ipython-input-6-e2c6a932aef8>\u001b[0m in \u001b[0;36mloop_over_root_events\u001b[1;34m(dataset, event_function, if_not_processed, rootfiles_path, branch_selection)\u001b[0m\n\u001b[0;32m     52\u001b[0m     \u001b[1;32mtry\u001b[0m\u001b[1;33m:\u001b[0m\u001b[1;33m\u001b[0m\u001b[0m\n\u001b[0;32m     53\u001b[0m         \u001b[1;32mfor\u001b[0m \u001b[0mevent_i\u001b[0m \u001b[1;32min\u001b[0m \u001b[0mtqdm\u001b[0m\u001b[1;33m(\u001b[0m\u001b[0mrange\u001b[0m\u001b[1;33m(\u001b[0m\u001b[0mn_events\u001b[0m\u001b[1;33m)\u001b[0m\u001b[1;33m)\u001b[0m\u001b[1;33m:\u001b[0m\u001b[1;33m\u001b[0m\u001b[0m\n\u001b[1;32m---> 54\u001b[1;33m             \u001b[0mt\u001b[0m\u001b[1;33m.\u001b[0m\u001b[0mGetEntry\u001b[0m\u001b[1;33m(\u001b[0m\u001b[0mevent_i\u001b[0m\u001b[1;33m)\u001b[0m\u001b[1;33m\u001b[0m\u001b[0m\n\u001b[0m\u001b[0;32m     55\u001b[0m             \u001b[0mevent\u001b[0m \u001b[1;33m=\u001b[0m \u001b[0mt\u001b[0m\u001b[1;33m.\u001b[0m\u001b[0mevents\u001b[0m\u001b[1;33m\u001b[0m\u001b[0m\n\u001b[0;32m     56\u001b[0m             \u001b[0mevent_function\u001b[0m\u001b[1;33m(\u001b[0m\u001b[0mevent\u001b[0m\u001b[1;33m)\u001b[0m\u001b[1;33m\u001b[0m\u001b[0m\n",
      "\u001b[1;31mKeyboardInterrupt\u001b[0m: "
     ]
    }
   ],
   "source": [
    "# Define your data extractor\n",
    "class S1PulseShapeData(DataExtractor):\n",
    "    extra_branches = ['peaks.range_area_decile*']\n",
    "    \n",
    "    def extract_data(self, event):\n",
    "        s1 = event.peaks[event.interactions[0].s1]\n",
    "        return dict(s1_width=s1.range_area_decile[5])\n",
    "    \n",
    "# Run it over the AmBe Datasets\n",
    "ambe_datasets = datasets.query('source == \"AmBe\" & category == \"standard\"')['name'].values\n",
    "extractor = S1PulseShapeData()\n",
    "for ds in ambe_datasets:\n",
    "    try:\n",
    "        data = extractor.run(ds, rootfiles_path='/archive_lngs/common/PaxReprocessed_6')\n",
    "    except NoEventsFound:\n",
    "        continue\n",
    "    break"
   ]
  },
  {
   "cell_type": "code",
   "execution_count": 13,
   "metadata": {
    "collapsed": false
   },
   "outputs": [
    {
     "data": {
      "text/html": [
       "<div>\n",
       "<table border=\"1\" class=\"dataframe\">\n",
       "  <thead>\n",
       "    <tr style=\"text-align: right;\">\n",
       "      <th></th>\n",
       "      <th>event_number</th>\n",
       "      <th>event_time</th>\n",
       "      <th>largest_other_coincidence</th>\n",
       "      <th>largest_other_lone_hit</th>\n",
       "      <th>largest_other_s1</th>\n",
       "      <th>largest_other_s2</th>\n",
       "      <th>largest_other_unknown</th>\n",
       "      <th>s1_corrected_area</th>\n",
       "      <th>s1_width</th>\n",
       "      <th>s2_corrected_area</th>\n",
       "      <th>x</th>\n",
       "      <th>y</th>\n",
       "      <th>z</th>\n",
       "    </tr>\n",
       "  </thead>\n",
       "  <tbody>\n",
       "    <tr>\n",
       "      <th>0</th>\n",
       "      <td>0</td>\n",
       "      <td>17209600</td>\n",
       "      <td>NaN</td>\n",
       "      <td>NaN</td>\n",
       "      <td>NaN</td>\n",
       "      <td>NaN</td>\n",
       "      <td>NaN</td>\n",
       "      <td>NaN</td>\n",
       "      <td>NaN</td>\n",
       "      <td>NaN</td>\n",
       "      <td>NaN</td>\n",
       "      <td>NaN</td>\n",
       "      <td>NaN</td>\n",
       "    </tr>\n",
       "    <tr>\n",
       "      <th>1</th>\n",
       "      <td>1</td>\n",
       "      <td>158737408</td>\n",
       "      <td>NaN</td>\n",
       "      <td>2.26527</td>\n",
       "      <td>1443.130371</td>\n",
       "      <td>1346.459351</td>\n",
       "      <td>NaN</td>\n",
       "      <td>0.917025</td>\n",
       "      <td>8.674466</td>\n",
       "      <td>1.881503</td>\n",
       "      <td>-3.163534</td>\n",
       "      <td>-9.366541</td>\n",
       "      <td>27.328867</td>\n",
       "    </tr>\n",
       "    <tr>\n",
       "      <th>2</th>\n",
       "      <td>2</td>\n",
       "      <td>267368448</td>\n",
       "      <td>NaN</td>\n",
       "      <td>1.41097</td>\n",
       "      <td>1602.500122</td>\n",
       "      <td>129038.656250</td>\n",
       "      <td>NaN</td>\n",
       "      <td>0.681863</td>\n",
       "      <td>10.723487</td>\n",
       "      <td>1.506214</td>\n",
       "      <td>-8.250000</td>\n",
       "      <td>-3.287594</td>\n",
       "      <td>26.551046</td>\n",
       "    </tr>\n",
       "    <tr>\n",
       "      <th>3</th>\n",
       "      <td>3</td>\n",
       "      <td>279134464</td>\n",
       "      <td>NaN</td>\n",
       "      <td>2.10861</td>\n",
       "      <td>3.215195</td>\n",
       "      <td>258.598572</td>\n",
       "      <td>NaN</td>\n",
       "      <td>0.412947</td>\n",
       "      <td>5.841413</td>\n",
       "      <td>0.438215</td>\n",
       "      <td>-9.242481</td>\n",
       "      <td>11.103383</td>\n",
       "      <td>14.631066</td>\n",
       "    </tr>\n",
       "    <tr>\n",
       "      <th>4</th>\n",
       "      <td>4</td>\n",
       "      <td>341927424</td>\n",
       "      <td>NaN</td>\n",
       "      <td>NaN</td>\n",
       "      <td>NaN</td>\n",
       "      <td>NaN</td>\n",
       "      <td>NaN</td>\n",
       "      <td>NaN</td>\n",
       "      <td>NaN</td>\n",
       "      <td>NaN</td>\n",
       "      <td>NaN</td>\n",
       "      <td>NaN</td>\n",
       "      <td>NaN</td>\n",
       "    </tr>\n",
       "    <tr>\n",
       "      <th>5</th>\n",
       "      <td>5</td>\n",
       "      <td>367920384</td>\n",
       "      <td>NaN</td>\n",
       "      <td>1.91924</td>\n",
       "      <td>25.988556</td>\n",
       "      <td>129.870728</td>\n",
       "      <td>NaN</td>\n",
       "      <td>1.363324</td>\n",
       "      <td>10.251830</td>\n",
       "      <td>1.405918</td>\n",
       "      <td>-4.031955</td>\n",
       "      <td>13.956767</td>\n",
       "      <td>13.969340</td>\n",
       "    </tr>\n",
       "    <tr>\n",
       "      <th>6</th>\n",
       "      <td>6</td>\n",
       "      <td>461978368</td>\n",
       "      <td>NaN</td>\n",
       "      <td>NaN</td>\n",
       "      <td>NaN</td>\n",
       "      <td>NaN</td>\n",
       "      <td>NaN</td>\n",
       "      <td>NaN</td>\n",
       "      <td>NaN</td>\n",
       "      <td>NaN</td>\n",
       "      <td>NaN</td>\n",
       "      <td>NaN</td>\n",
       "      <td>NaN</td>\n",
       "    </tr>\n",
       "    <tr>\n",
       "      <th>7</th>\n",
       "      <td>7</td>\n",
       "      <td>577152512</td>\n",
       "      <td>NaN</td>\n",
       "      <td>NaN</td>\n",
       "      <td>NaN</td>\n",
       "      <td>NaN</td>\n",
       "      <td>NaN</td>\n",
       "      <td>NaN</td>\n",
       "      <td>NaN</td>\n",
       "      <td>NaN</td>\n",
       "      <td>NaN</td>\n",
       "      <td>NaN</td>\n",
       "      <td>NaN</td>\n",
       "    </tr>\n",
       "    <tr>\n",
       "      <th>8</th>\n",
       "      <td>8</td>\n",
       "      <td>579998464</td>\n",
       "      <td>NaN</td>\n",
       "      <td>NaN</td>\n",
       "      <td>NaN</td>\n",
       "      <td>NaN</td>\n",
       "      <td>NaN</td>\n",
       "      <td>NaN</td>\n",
       "      <td>NaN</td>\n",
       "      <td>NaN</td>\n",
       "      <td>NaN</td>\n",
       "      <td>NaN</td>\n",
       "      <td>NaN</td>\n",
       "    </tr>\n",
       "    <tr>\n",
       "      <th>9</th>\n",
       "      <td>9</td>\n",
       "      <td>746592512</td>\n",
       "      <td>NaN</td>\n",
       "      <td>NaN</td>\n",
       "      <td>NaN</td>\n",
       "      <td>NaN</td>\n",
       "      <td>NaN</td>\n",
       "      <td>NaN</td>\n",
       "      <td>NaN</td>\n",
       "      <td>NaN</td>\n",
       "      <td>NaN</td>\n",
       "      <td>NaN</td>\n",
       "      <td>NaN</td>\n",
       "    </tr>\n",
       "  </tbody>\n",
       "</table>\n",
       "</div>"
      ],
      "text/plain": [
       "   event_number  event_time  largest_other_coincidence  \\\n",
       "0             0    17209600                        NaN   \n",
       "1             1   158737408                        NaN   \n",
       "2             2   267368448                        NaN   \n",
       "3             3   279134464                        NaN   \n",
       "4             4   341927424                        NaN   \n",
       "5             5   367920384                        NaN   \n",
       "6             6   461978368                        NaN   \n",
       "7             7   577152512                        NaN   \n",
       "8             8   579998464                        NaN   \n",
       "9             9   746592512                        NaN   \n",
       "\n",
       "   largest_other_lone_hit  largest_other_s1  largest_other_s2  \\\n",
       "0                     NaN               NaN               NaN   \n",
       "1                 2.26527       1443.130371       1346.459351   \n",
       "2                 1.41097       1602.500122     129038.656250   \n",
       "3                 2.10861          3.215195        258.598572   \n",
       "4                     NaN               NaN               NaN   \n",
       "5                 1.91924         25.988556        129.870728   \n",
       "6                     NaN               NaN               NaN   \n",
       "7                     NaN               NaN               NaN   \n",
       "8                     NaN               NaN               NaN   \n",
       "9                     NaN               NaN               NaN   \n",
       "\n",
       "   largest_other_unknown  s1_corrected_area   s1_width  s2_corrected_area  \\\n",
       "0                    NaN                NaN        NaN                NaN   \n",
       "1                    NaN           0.917025   8.674466           1.881503   \n",
       "2                    NaN           0.681863  10.723487           1.506214   \n",
       "3                    NaN           0.412947   5.841413           0.438215   \n",
       "4                    NaN                NaN        NaN                NaN   \n",
       "5                    NaN           1.363324  10.251830           1.405918   \n",
       "6                    NaN                NaN        NaN                NaN   \n",
       "7                    NaN                NaN        NaN                NaN   \n",
       "8                    NaN                NaN        NaN                NaN   \n",
       "9                    NaN                NaN        NaN                NaN   \n",
       "\n",
       "          x          y          z  \n",
       "0       NaN        NaN        NaN  \n",
       "1 -3.163534  -9.366541  27.328867  \n",
       "2 -8.250000  -3.287594  26.551046  \n",
       "3 -9.242481  11.103383  14.631066  \n",
       "4       NaN        NaN        NaN  \n",
       "5 -4.031955  13.956767  13.969340  \n",
       "6       NaN        NaN        NaN  \n",
       "7       NaN        NaN        NaN  \n",
       "8       NaN        NaN        NaN  \n",
       "9       NaN        NaN        NaN  "
      ]
     },
     "execution_count": 13,
     "metadata": {},
     "output_type": "execute_result"
    }
   ],
   "source": [
    "data.head(10)"
   ]
  },
  {
   "cell_type": "code",
   "execution_count": 336,
   "metadata": {
    "collapsed": false
   },
   "outputs": [],
   "source": []
  },
  {
   "cell_type": "code",
   "execution_count": 337,
   "metadata": {
    "collapsed": false
   },
   "outputs": [],
   "source": [
    "# Remove double scatters (standard XENON100 double scatter cut, note the 67)\n",
    "cut_data = data[data['largest_other_s2'] > np.clip(data['s2_corrected_area']/100, 67, float('inf'))]\n",
    "\n",
    "# Remove VERY rare cases where no position could be found, so corrected area is NaN\n",
    "cut_data = cut_data[(cut_data['s1_corrected_area'] > 0) & (cut_data['s2_corrected_area'] > 0)]"
   ]
  },
  {
   "cell_type": "code",
   "execution_count": 347,
   "metadata": {
    "collapsed": false
   },
   "outputs": [
    {
     "data": {
      "image/png": "[encoded data removed]",
      "text/plain": [
       "<matplotlib.figure.Figure at 0x7f62d412a4e0>"
      ]
     },
     "metadata": {},
     "output_type": "display_data"
    }
   ],
   "source": [
    "plt.hist2d(np.log10(cut_data['s1_corrected_area']), \n",
    "           cut_data['s1_width'],\n",
    "           #c=np.log10(cut_data['s2_corrected_area']), \n",
    "           #s=2, edgecolor='none', alpha=0.5,\n",
    "           range=((-1, 4), (0, 60)),\n",
    "           bins=100, norm=matplotlib.colors.LogNorm())\n",
    "plt.colorbar()\n",
    "plt.xlabel('log10 S1')\n",
    "plt.ylabel('S1 pulse width (ns)')\n",
    "plt.show()"
   ]
  },
  {
   "cell_type": "code",
   "execution_count": null,
   "metadata": {
    "collapsed": true
   },
   "outputs": [],
   "source": []
  }
 ],
 "metadata": {
  "kernelspec": {
   "display_name": "Python 3",
   "language": "python",
   "name": "python3"
  },
  "language_info": {
   "codemirror_mode": {
    "name": "ipython",
    "version": 3
   },
   "file_extension": ".py",
   "mimetype": "text/x-python",
   "name": "python",
   "nbconvert_exporter": "python",
   "pygments_lexer": "ipython3",
   "version": "3.4.3"
  }
 },
 "nbformat": 4,
 "nbformat_minor": 0
}
