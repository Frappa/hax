{
 "cells": [
  {
   "cell_type": "markdown",
   "metadata": {},
   "source": [
    "# Initialization"
   ]
  },
  {
   "cell_type": "code",
   "execution_count": 1,
   "metadata": {},
   "outputs": [
    {
     "name": "stderr",
     "output_type": "stream",
     "text": [
      "/home/aalbers/.conda/envs/pax_jelle/lib/python3.4/site-packages/IPython/kernel/__init__.py:13: ShimWarning: The `IPython.kernel` package has been deprecated. You should import from ipykernel or jupyter_client instead.\n",
      "  \"You should import from ipykernel or jupyter_client instead.\", ShimWarning)\n"
     ]
    }
   ],
   "source": [
    "import numpy as np\n",
    "from tqdm import tqdm\n",
    "import os\n",
    "import sys\n",
    "import pandas as pd\n",
    "\n",
    "import matplotlib\n",
    "import matplotlib.pyplot as plt\n",
    "%matplotlib inline\n",
    "matplotlib.rc('font', size=16)\n",
    "plt.rcParams['figure.figsize'] = (12.0, 10.0)    # resize plots\n",
    "\n",
    "import skimpax"
   ]
  },
  {
   "cell_type": "markdown",
   "metadata": {},
   "source": [
    "If you want to read in an older pax file format, as we'll do here, you have to use this command:"
   ]
  },
  {
   "cell_type": "code",
   "execution_count": null,
   "metadata": {},
   "outputs": [],
   "source": [
    "# If you get weird compilation errors, do rm -rf ~/.cache/rootpy\n",
    "skimpax.set_data_format('pax', version=412)"
   ]
  },
  {
   "cell_type": "markdown",
   "metadata": {},
   "source": [
    "Note you can also do 'xerawdp' to load in Xerawdp root files, but some of the details below will be different -- this is (and will likely always be) an experimental feature."
   ]
  },
  {
   "cell_type": "markdown",
   "metadata": {},
   "source": [
    "# Getting dataset information"
   ]
  },
  {
   "cell_type": "markdown",
   "metadata": {},
   "source": [
    "Any analysis starts with selecting datasets. This loads the XENON100 runs info, then makes it available as a pandas dataframe 'datasets'. \n",
    "\n",
    "(Internally this loads a CSV file, which is copy-pasted from the wiki's runs database table. For now I've only done run 10. Of course for XENON1T we don't want a static csv file, but a connection to the real runs database.)"
   ]
  },
  {
   "cell_type": "code",
   "execution_count": 3,
   "metadata": {},
   "outputs": [],
   "source": [
    "from skimpax import datasets, get_dataset_info"
   ]
  },
  {
   "cell_type": "code",
   "execution_count": 4,
   "metadata": {},
   "outputs": [
    {
     "data": {
      "text/plain": [
       "{'anode': 4.4000000000000004,\n",
       " 'category': 'standard',\n",
       " 'cathode': 16.0,\n",
       " 'comment': nan,\n",
       " 'corrected_events': 22091.0,\n",
       " 'corrected_livetime': 39603.300000000003,\n",
       " 'events': 32098,\n",
       " 'livetime': 39603.300000000003,\n",
       " 'name': 'xe100_120401_2201',\n",
       " 'position': 'other',\n",
       " 'processed': '0.4.5',\n",
       " 'run': '10',\n",
       " 'shield': 'closed',\n",
       " 'source': 'Dark Matter',\n",
       " 'tpc': 'xenon100',\n",
       " 'trigger': 'S1'}"
      ]
     },
     "execution_count": 4,
     "output_type": "execute_result",
     "metadata": {}
    }
   ],
   "source": [
    "get_dataset_info('xe100_120401_2201')"
   ]
  },
  {
   "cell_type": "markdown",
   "metadata": {},
   "source": [
    "Here's an example to get all standard AmBe datasets:"
   ]
  },
  {
   "cell_type": "code",
   "execution_count": 5,
   "metadata": {},
   "outputs": [
    {
     "data": {
      "text/plain": [
       "array(['xe100_110210_1100', 'xe100_110210_1106', 'xe100_110210_1412',\n",
       "       'xe100_110210_1502', 'xe100_110210_1709', 'xe100_110210_1926',\n",
       "       'xe100_110210_2211', 'xe100_110210_2341', 'xe100_110211_0059',\n",
       "       'xe100_110211_0315', 'xe100_110211_0532', 'xe100_110211_0614',\n",
       "       'xe100_110211_0935', 'xe100_110211_1243', 'xe100_120402_1116',\n",
       "       'xe100_120402_1415', 'xe100_120402_1727', 'xe100_120402_2000',\n",
       "       'xe100_120402_2233', 'xe100_120403_0107', 'xe100_120403_0340',\n",
       "       'xe100_120403_0615', 'xe100_120403_0850', 'xe100_120403_1125',\n",
       "       'xe100_120403_1400', 'xe100_120403_1634', 'xe100_120403_1910',\n",
       "       'xe100_120403_2145', 'xe100_120404_0020', 'xe100_120404_0255',\n",
       "       'xe100_120404_0529', 'xe100_120404_0804'], dtype=object)"
      ]
     },
     "execution_count": 5,
     "output_type": "execute_result",
     "metadata": {}
    }
   ],
   "source": [
    "datasets.query('source == \"AmBe\" & category == \"standard\"')['name'].values"
   ]
  },
  {
   "cell_type": "markdown",
   "metadata": {},
   "source": [
    "This counts the data livetime in days for each source, considering only standard datasets:"
   ]
  },
  {
   "cell_type": "code",
   "execution_count": 6,
   "metadata": {},
   "outputs": [
    {
     "data": {
      "text/plain": [
       "source\n",
       "AmBe             3.005850\n",
       "Co60            22.567252\n",
       "Cs137            6.230497\n",
       "Dark Matter    231.763412\n",
       "Th232           25.638033\n",
       "Name: livetime, dtype: float64"
      ]
     },
     "execution_count": 6,
     "output_type": "execute_result",
     "metadata": {}
    }
   ],
   "source": [
    "standard_datasets = datasets[datasets['category'] == 'standard']\n",
    "pd.groupby(standard_datasets, 'source')['livetime'].sum() / (3600 * 24)"
   ]
  },
  {
   "cell_type": "markdown",
   "metadata": {},
   "source": [
    "# Looping over ROOT files"
   ]
  },
  {
   "cell_type": "markdown",
   "metadata": {},
   "source": [
    "The default pax output format is a ROOT file containing an event class. While you could analyze them with TTree.Draw(...) (in python or C++), you have much more control if you loop over the events. Here is a basic function which allows you to run a custom function of every event in one or more pax root files:"
   ]
  },
  {
   "cell_type": "code",
   "execution_count": 7,
   "metadata": {},
   "outputs": [],
   "source": [
    "from skimpax import loop_over_dataset, loop_over_datasets, StopEventLoop"
   ]
  },
  {
   "cell_type": "markdown",
   "metadata": {},
   "source": [
    "Here are two silly examples of using this function. There are much faster ways to do simple things like this, as we will cover below.\n",
    "\n",
    "Count the number of events with more than 4 S1s in two datasets:"
   ]
  },
  {
   "cell_type": "code",
   "execution_count": 8,
   "metadata": {},
   "outputs": [
    {
     "name": "stderr",
     "output_type": "stream",
     "text": [
      "                                                          "
     ]
    },
    {
     "name": "stdout",
     "output_type": "stream",
     "text": [
      "We found 875 events with more than 3 S1s\n"
     ]
    },
    {
     "name": "stderr",
     "output_type": "stream",
     "text": [
      "\r"
     ]
    }
   ],
   "source": [
    "global counter\n",
    "counter = 0\n",
    "\n",
    "def count_many_s1s(event):\n",
    "    global counter\n",
    "    if len(event.s1s) > 4:\n",
    "        counter += 1\n",
    "\n",
    "loop_over_datasets(['xe100_110228_1427', 'xe100_110302_1945'], count_many_s1s)\n",
    "print(\"We found %d events with more than 3 S1s\" % counter)"
   ]
  },
  {
   "cell_type": "markdown",
   "metadata": {},
   "source": [
    "Find the first event whose main s1 area is 70 pe in some dark matter dataset:"
   ]
  },
  {
   "cell_type": "code",
   "execution_count": 9,
   "metadata": {},
   "outputs": [
    {
     "name": "stderr",
     "output_type": "stream",
     "text": [
      " 15%|█▌        | 4905/32098 [00:01<00:05, 5348.28it/s]"
     ]
    },
    {
     "name": "stdout",
     "output_type": "stream",
     "text": [
      "Event 4963 has a main S1 with area 70.1126480102539 pe\n"
     ]
    }
   ],
   "source": [
    "def find_s1_70pe(event):\n",
    "    if not len(event.interactions):\n",
    "        # Continues to the next event\n",
    "        # We're in a function, so need to do return rather than continue\n",
    "        return\n",
    "    main_interaction = event.interactions[0]\n",
    "    main_s1 = event.peaks[main_interaction.s1]\n",
    "    if np.round(main_s1.area) == 70:\n",
    "        print(\"Event %s has a main S1 with area %s pe\" % (event.event_number, main_s1.area))\n",
    "        raise StopEventLoop\n",
    "\n",
    "loop_over_dataset('xe100_120401_2201', find_s1_70pe)"
   ]
  },
  {
   "cell_type": "markdown",
   "metadata": {},
   "source": [
    "# Extracting relevant data"
   ]
  },
  {
   "cell_type": "markdown",
   "metadata": {},
   "source": [
    "Even though you can loop over ROOT files quickly, it is too slow for convenient plotting. Do you have to go back to TTree->Draw(..)? No! "
   ]
  },
  {
   "cell_type": "code",
   "execution_count": 10,
   "metadata": {},
   "outputs": [],
   "source": [
    "from skimpax import load_skims"
   ]
  },
  {
   "cell_type": "markdown",
   "metadata": {},
   "source": [
    "This loads basic data for AmBe. If it's the first time you run it, it can take a while; after that it should be really quick. I'll load in just a few datasets to save time."
   ]
  },
  {
   "cell_type": "code",
   "execution_count": 11,
   "metadata": {},
   "outputs": [],
   "source": [
    "my_datasets = datasets.query('source == \"AmBe\" & category == \"standard\"')['name'].values\n",
    "data = load_skims(my_datasets[-3:], 'Basics', skip_if_root_file_not_found=True)"
   ]
  },
  {
   "cell_type": "code",
   "execution_count": 12,
   "metadata": {},
   "outputs": [
    {
     "data": {
      "image/png": "[encoded data removed]"
     },
     "output_type": "display_data",
     "metadata": {}
    }
   ],
   "source": [
    "data = data[data['cs1'] > 0]\n",
    "plt.hist2d(data['cs1'], np.log10(data['cs2']/data['cs1']),\n",
    "           bins=100, range=((0, 200), (0, 4)), norm=matplotlib.colors.LogNorm())\n",
    "plt.colorbar(label='Number of events')\n",
    "plt.xlabel('cS1')\n",
    "plt.ylabel('Log10(cS2/cS1)')\n",
    "plt.show()"
   ]
  },
  {
   "cell_type": "markdown",
   "metadata": {},
   "source": [
    "# Extract new data"
   ]
  },
  {
   "cell_type": "markdown",
   "metadata": {},
   "source": [
    "Perhaps you find the Basics files don't include all the variables you want. It's easy to create your own Skimmer to get extra variables:"
   ]
  },
  {
   "cell_type": "code",
   "execution_count": 13,
   "metadata": {},
   "outputs": [],
   "source": [
    "from skimpax import Skimmer\n",
    "\n",
    "class S1Width(Skimmer):\n",
    "    # TODO: there seems to be an issue with range_are_decile & SetBranchStatus\n",
    "    # If you run this it will work, but it's very slow\n",
    "    extra_branches = ['peaks.hit_time_std', '*range_area_decile*']\n",
    "    \n",
    "    def extract_data(self, event):\n",
    "        if not len(event.interactions):\n",
    "            return dict()\n",
    "        s1 = event.peaks[event.interactions[0].s1]\n",
    "        return dict(s1_hit_time_std=s1.hit_time_std,\n",
    "                    s1_range_area_decile_5=s1.range_area_decile[5],\n",
    "                    s1_range_area_decile_9=s1.range_area_decile[9])"
   ]
  },
  {
   "cell_type": "markdown",
   "metadata": {},
   "source": [
    "You can use this new skimmer alongside the basic skimmer. Data will be appropriately concatenated, and once you've run your skimmer once over a dataset it will cache the results. Again, to save time I'll only load in the last couple of AmBe datasets:"
   ]
  },
  {
   "cell_type": "code",
   "execution_count": 14,
   "metadata": {},
   "outputs": [
    {
     "data": {
      "text/html": [
       "<div>\n",
       "<table border=\"1\" class=\"dataframe\">\n",
       "  <thead>\n",
       "    <tr style=\"text-align: right;\">\n",
       "      <th></th>\n",
       "      <th>cs1</th>\n",
       "      <th>cs2</th>\n",
       "      <th>event_number</th>\n",
       "      <th>event_time</th>\n",
       "      <th>largest_other_coincidence</th>\n",
       "      <th>largest_other_lone_hit</th>\n",
       "      <th>largest_other_s1</th>\n",
       "      <th>largest_other_s2</th>\n",
       "      <th>largest_other_unknown</th>\n",
       "      <th>x</th>\n",
       "      <th>y</th>\n",
       "      <th>z</th>\n",
       "      <th>s1_hit_time_std</th>\n",
       "      <th>s1_range_area_decile_5</th>\n",
       "      <th>s1_range_area_decile_9</th>\n",
       "    </tr>\n",
       "  </thead>\n",
       "  <tbody>\n",
       "    <tr>\n",
       "      <th>0</th>\n",
       "      <td>180.449540</td>\n",
       "      <td>73692.980023</td>\n",
       "      <td>0</td>\n",
       "      <td>-417532416</td>\n",
       "      <td>NaN</td>\n",
       "      <td>0.986468</td>\n",
       "      <td>8.383761</td>\n",
       "      <td>62.003742</td>\n",
       "      <td>NaN</td>\n",
       "      <td>-3.287594</td>\n",
       "      <td>-13.832706</td>\n",
       "      <td>8.076916</td>\n",
       "      <td>24.125702</td>\n",
       "      <td>28.620667</td>\n",
       "      <td>82.937730</td>\n",
       "    </tr>\n",
       "    <tr>\n",
       "      <th>1</th>\n",
       "      <td>7.286613</td>\n",
       "      <td>1056.752925</td>\n",
       "      <td>1</td>\n",
       "      <td>-411239424</td>\n",
       "      <td>NaN</td>\n",
       "      <td>1.880180</td>\n",
       "      <td>NaN</td>\n",
       "      <td>NaN</td>\n",
       "      <td>NaN</td>\n",
       "      <td>-0.682331</td>\n",
       "      <td>-11.847744</td>\n",
       "      <td>18.995636</td>\n",
       "      <td>15.908227</td>\n",
       "      <td>19.517759</td>\n",
       "      <td>59.415130</td>\n",
       "    </tr>\n",
       "    <tr>\n",
       "      <th>3</th>\n",
       "      <td>52.490747</td>\n",
       "      <td>657.503033</td>\n",
       "      <td>3</td>\n",
       "      <td>-293418240</td>\n",
       "      <td>NaN</td>\n",
       "      <td>1.827857</td>\n",
       "      <td>NaN</td>\n",
       "      <td>333.485077</td>\n",
       "      <td>NaN</td>\n",
       "      <td>-7.877820</td>\n",
       "      <td>-4.900376</td>\n",
       "      <td>25.463694</td>\n",
       "      <td>19.540237</td>\n",
       "      <td>22.370977</td>\n",
       "      <td>68.862074</td>\n",
       "    </tr>\n",
       "    <tr>\n",
       "      <th>5</th>\n",
       "      <td>29.460184</td>\n",
       "      <td>3975.266165</td>\n",
       "      <td>5</td>\n",
       "      <td>-223817216</td>\n",
       "      <td>NaN</td>\n",
       "      <td>1.333779</td>\n",
       "      <td>13.095728</td>\n",
       "      <td>1365.268311</td>\n",
       "      <td>NaN</td>\n",
       "      <td>-1.426692</td>\n",
       "      <td>-2.543233</td>\n",
       "      <td>22.957640</td>\n",
       "      <td>33.768295</td>\n",
       "      <td>21.955559</td>\n",
       "      <td>111.934868</td>\n",
       "    </tr>\n",
       "    <tr>\n",
       "      <th>8</th>\n",
       "      <td>1010.626756</td>\n",
       "      <td>123874.088000</td>\n",
       "      <td>8</td>\n",
       "      <td>-15852288</td>\n",
       "      <td>NaN</td>\n",
       "      <td>1.816303</td>\n",
       "      <td>547.331848</td>\n",
       "      <td>92771.578125</td>\n",
       "      <td>NaN</td>\n",
       "      <td>-12.095864</td>\n",
       "      <td>5.148496</td>\n",
       "      <td>11.850575</td>\n",
       "      <td>30.100780</td>\n",
       "      <td>29.336899</td>\n",
       "      <td>88.908842</td>\n",
       "    </tr>\n",
       "  </tbody>\n",
       "</table>\n",
       "</div>"
      ]
     },
     "output_type": "execute_result",
     "metadata": {}
    }
   ],
   "source": [
    "data = load_skims(my_datasets[-3:], ['Basics', S1Width], skip_if_root_file_not_found=True)\n",
    "data = data[data['cs1'] > 0]\n",
    "data.head()"
   ]
  },
  {
   "cell_type": "code",
   "execution_count": 15,
   "metadata": {},
   "outputs": [
    {
     "data": {
      "image/png": "[encoded data removed]"
     },
     "output_type": "display_data",
     "metadata": {}
    }
   ],
   "source": [
    "plt.hist2d(data['cs1'], data['s1_range_area_decile_5'], bins=100,\n",
    "           range=((0, 200), (0, 100)), norm=matplotlib.colors.LogNorm())\n",
    "plt.xlabel('cS1 (pe)')\n",
    "plt.ylabel('S1 width (range area decile 5)')\n",
    "plt.show()"
   ]
  }
 ],
 "metadata": {
  "kernelspec": {
   "display_name": "Python 3",
   "language": "python",
   "name": "python3"
  },
  "language_info": {
   "codemirror_mode": {
    "name": "ipython",
    "version": 3.0
   },
   "file_extension": ".py",
   "mimetype": "text/x-python",
   "name": "python",
   "nbconvert_exporter": "python",
   "pygments_lexer": "ipython3",
   "version": "3.4.4"
  }
 },
 "nbformat": 4,
 "nbformat_minor": 0
}