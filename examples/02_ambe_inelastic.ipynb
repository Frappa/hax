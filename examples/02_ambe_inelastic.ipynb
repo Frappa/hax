{
 "cells": [
  {
   "cell_type": "markdown",
   "metadata": {},
   "source": [
    "# Learn how to get a light yield\n",
    "\n",
    "Tunnell, Feburary 2016\n",
    "\n",
    "This tutorial describes how to use analyze the AmBe data to fit the inelastic line.\n",
    "\n",
    "The following line just runs our standard code for every analysis.  You can change 'run' to 'load' to see what is in there."
   ]
  },
  {
   "cell_type": "code",
   "execution_count": 10,
   "metadata": {
    "collapsed": false
   },
   "outputs": [],
   "source": [
    "%matplotlib inline\n",
    "%run boiler_plate.py\n",
    "import hax"
   ]
  },
  {
   "cell_type": "code",
   "execution_count": 11,
   "metadata": {
    "collapsed": false
   },
   "outputs": [],
   "source": [
    "## Specify your own data location\n",
    "hax.config.CONFIG['main_data_paths'] = ['/tmp/data/good/']\n",
    "hax.runs.update_datasets()"
   ]
  },
  {
   "cell_type": "code",
   "execution_count": 20,
   "metadata": {
    "collapsed": false
   },
   "outputs": [
    {
     "data": {
      "text/html": [
       "<div>\n",
       "<table border=\"1\" class=\"dataframe\">\n",
       "  <thead>\n",
       "    <tr style=\"text-align: right;\">\n",
       "      <th></th>\n",
       "      <th>name</th>\n",
       "      <th>source</th>\n",
       "      <th>position</th>\n",
       "      <th>trigger</th>\n",
       "      <th>anode</th>\n",
       "      <th>cathode</th>\n",
       "      <th>shield</th>\n",
       "      <th>livetime</th>\n",
       "      <th>corrected_livetime</th>\n",
       "      <th>events</th>\n",
       "      <th>corrected_events</th>\n",
       "      <th>processed</th>\n",
       "      <th>category</th>\n",
       "      <th>comment</th>\n",
       "      <th>run</th>\n",
       "      <th>tpc</th>\n",
       "      <th>location</th>\n",
       "    </tr>\n",
       "  </thead>\n",
       "  <tbody>\n",
       "    <tr>\n",
       "      <th>473</th>\n",
       "      <td>xe100_110210_1100</td>\n",
       "      <td>AmBe</td>\n",
       "      <td>other</td>\n",
       "      <td>S1</td>\n",
       "      <td>4.4</td>\n",
       "      <td>16</td>\n",
       "      <td>closed</td>\n",
       "      <td>202.160</td>\n",
       "      <td>202.2</td>\n",
       "      <td>5491</td>\n",
       "      <td>5491</td>\n",
       "      <td>0.4.5</td>\n",
       "      <td>standard</td>\n",
       "      <td>Trg 60/51, holdoff 1ms, HE veto (2x10dB/4/100/40)</td>\n",
       "      <td>10</td>\n",
       "      <td>xenon100</td>\n",
       "      <td>/tmp/data/good/xe100_110210_1100.root</td>\n",
       "    </tr>\n",
       "    <tr>\n",
       "      <th>475</th>\n",
       "      <td>xe100_110210_1412</td>\n",
       "      <td>AmBe</td>\n",
       "      <td>other</td>\n",
       "      <td>S1</td>\n",
       "      <td>4.4</td>\n",
       "      <td>16</td>\n",
       "      <td>closed</td>\n",
       "      <td>2025.080</td>\n",
       "      <td>1172.0</td>\n",
       "      <td>47227</td>\n",
       "      <td>27961</td>\n",
       "      <td>0.4.5</td>\n",
       "      <td>standard</td>\n",
       "      <td>Trg 60/51, holdoff 1ms, HE veto (2x10dB/4/100/40)</td>\n",
       "      <td>10</td>\n",
       "      <td>xenon100</td>\n",
       "      <td>/tmp/data/good/xe100_110210_1412.root</td>\n",
       "    </tr>\n",
       "    <tr>\n",
       "      <th>483</th>\n",
       "      <td>xe100_110211_0532</td>\n",
       "      <td>AmBe</td>\n",
       "      <td>other</td>\n",
       "      <td>S1</td>\n",
       "      <td>4.4</td>\n",
       "      <td>16</td>\n",
       "      <td>closed</td>\n",
       "      <td>2274.460</td>\n",
       "      <td>2274.5</td>\n",
       "      <td>51229</td>\n",
       "      <td>51229</td>\n",
       "      <td>0.4.5</td>\n",
       "      <td>standard</td>\n",
       "      <td>Trg 60/51, holdoff 1ms, HE veto (2x10dB/4/100/40)</td>\n",
       "      <td>10</td>\n",
       "      <td>xenon100</td>\n",
       "      <td>/tmp/data/good/xe100_110211_0532.root</td>\n",
       "    </tr>\n",
       "    <tr>\n",
       "      <th>1614</th>\n",
       "      <td>xe100_120404_0804</td>\n",
       "      <td>AmBe</td>\n",
       "      <td>other</td>\n",
       "      <td>S1</td>\n",
       "      <td>4.4</td>\n",
       "      <td>16</td>\n",
       "      <td>closed</td>\n",
       "      <td>843.912</td>\n",
       "      <td>843.9</td>\n",
       "      <td>14032</td>\n",
       "      <td>17000</td>\n",
       "      <td>0.4.5</td>\n",
       "      <td>standard</td>\n",
       "      <td>NaN</td>\n",
       "      <td>10</td>\n",
       "      <td>xenon100</td>\n",
       "      <td>/tmp/data/good/xe100_120404_0804.root</td>\n",
       "    </tr>\n",
       "  </tbody>\n",
       "</table>\n",
       "</div>"
      ],
      "text/plain": [
       "                   name source position trigger  anode  cathode  shield  \\\n",
       "473   xe100_110210_1100   AmBe    other      S1    4.4       16  closed   \n",
       "475   xe100_110210_1412   AmBe    other      S1    4.4       16  closed   \n",
       "483   xe100_110211_0532   AmBe    other      S1    4.4       16  closed   \n",
       "1614  xe100_120404_0804   AmBe    other      S1    4.4       16  closed   \n",
       "\n",
       "      livetime  corrected_livetime  events  corrected_events processed  \\\n",
       "473    202.160               202.2    5491              5491     0.4.5   \n",
       "475   2025.080              1172.0   47227             27961     0.4.5   \n",
       "483   2274.460              2274.5   51229             51229     0.4.5   \n",
       "1614   843.912               843.9   14032             17000     0.4.5   \n",
       "\n",
       "      category                                            comment run  \\\n",
       "473   standard  Trg 60/51, holdoff 1ms, HE veto (2x10dB/4/100/40)  10   \n",
       "475   standard  Trg 60/51, holdoff 1ms, HE veto (2x10dB/4/100/40)  10   \n",
       "483   standard  Trg 60/51, holdoff 1ms, HE veto (2x10dB/4/100/40)  10   \n",
       "1614  standard                                                NaN  10   \n",
       "\n",
       "           tpc                               location  \n",
       "473   xenon100  /tmp/data/good/xe100_110210_1100.root  \n",
       "475   xenon100  /tmp/data/good/xe100_110210_1412.root  \n",
       "483   xenon100  /tmp/data/good/xe100_110211_0532.root  \n",
       "1614  xenon100  /tmp/data/good/xe100_120404_0804.root  "
      ]
     },
     "execution_count": 20,
     "metadata": {},
     "output_type": "execute_result"
    }
   ],
   "source": [
    "D = hax.runs.DATASETS\n",
    "D[(D['location'] != \"\") & (D['source'] != 'Cs137')]"
   ]
  },
  {
   "cell_type": "markdown",
   "metadata": {},
   "source": [
    "## Load data\n",
    "\n",
    "Grab the AmBe datasets then just use the first one:"
   ]
  },
  {
   "cell_type": "code",
   "execution_count": 9,
   "metadata": {
    "collapsed": false
   },
   "outputs": [],
   "source": [
    "datasets_ambe = hax.runs.DATASETS.query('source == \"AmBe\" & category == \"standard\" & tpc == \"xenon100\"')['name'].values\n",
    "datasets_ambe = ['xe100_110210_1100',\n",
    "                 'xe100_110210_1412',\n",
    "                 'xe100_110211_0532']"
   ]
  },
  {
   "cell_type": "markdown",
   "metadata": {},
   "source": [
    "Inspect this dataset"
   ]
  },
  {
   "cell_type": "code",
   "execution_count": 5,
   "metadata": {
    "collapsed": false
   },
   "outputs": [
    {
     "name": "stdout",
     "output_type": "stream",
     "text": [
      "Found minitree at ./xe100_110210_1100_Basics.root\n",
      "Found minitree at ./xe100_110210_1412_Basics.root\n",
      "Found minitree at ./xe100_110211_0532_Basics.root\n"
     ]
    },
    {
     "data": {
      "text/html": [
       "<div>\n",
       "<table border=\"1\" class=\"dataframe\">\n",
       "  <thead>\n",
       "    <tr style=\"text-align: right;\">\n",
       "      <th></th>\n",
       "      <th>index</th>\n",
       "      <th>cs1</th>\n",
       "      <th>cs2</th>\n",
       "      <th>dataset_number</th>\n",
       "      <th>drift_time</th>\n",
       "      <th>event_number</th>\n",
       "      <th>event_time</th>\n",
       "      <th>largest_coincidence</th>\n",
       "      <th>largest_other_s1</th>\n",
       "      <th>largest_other_s2</th>\n",
       "      <th>largest_unknown</th>\n",
       "      <th>largest_veto</th>\n",
       "      <th>s1</th>\n",
       "      <th>s1_area_fraction_top</th>\n",
       "      <th>s2</th>\n",
       "      <th>s2_area_fraction_top</th>\n",
       "      <th>x</th>\n",
       "      <th>y</th>\n",
       "      <th>z</th>\n",
       "    </tr>\n",
       "  </thead>\n",
       "  <tbody>\n",
       "    <tr>\n",
       "      <th>0</th>\n",
       "      <td>0</td>\n",
       "      <td>4.822919</td>\n",
       "      <td>439.419690</td>\n",
       "      <td>1102101100</td>\n",
       "      <td>49639.042969</td>\n",
       "      <td>0</td>\n",
       "      <td>1297332001005216000</td>\n",
       "      <td>0</td>\n",
       "      <td>0</td>\n",
       "      <td>0.000000</td>\n",
       "      <td>0</td>\n",
       "      <td>0.000000</td>\n",
       "      <td>3.628556</td>\n",
       "      <td>0.215452</td>\n",
       "      <td>393.525543</td>\n",
       "      <td>0.593098</td>\n",
       "      <td>-12.639623</td>\n",
       "      <td>5.915094</td>\n",
       "      <td>-8.587554</td>\n",
       "    </tr>\n",
       "    <tr>\n",
       "      <th>1</th>\n",
       "      <td>1</td>\n",
       "      <td>NaN</td>\n",
       "      <td>NaN</td>\n",
       "      <td>1102101100</td>\n",
       "      <td>NaN</td>\n",
       "      <td>1</td>\n",
       "      <td>1297332001027482112</td>\n",
       "      <td>0</td>\n",
       "      <td>0</td>\n",
       "      <td>0.000000</td>\n",
       "      <td>0</td>\n",
       "      <td>0.000000</td>\n",
       "      <td>NaN</td>\n",
       "      <td>NaN</td>\n",
       "      <td>NaN</td>\n",
       "      <td>NaN</td>\n",
       "      <td>NaN</td>\n",
       "      <td>NaN</td>\n",
       "      <td>NaN</td>\n",
       "    </tr>\n",
       "    <tr>\n",
       "      <th>2</th>\n",
       "      <td>2</td>\n",
       "      <td>4.246333</td>\n",
       "      <td>488.037578</td>\n",
       "      <td>1102101100</td>\n",
       "      <td>123562.687500</td>\n",
       "      <td>2</td>\n",
       "      <td>1297332001054971904</td>\n",
       "      <td>0</td>\n",
       "      <td>0</td>\n",
       "      <td>300.855682</td>\n",
       "      <td>0</td>\n",
       "      <td>0.000000</td>\n",
       "      <td>5.172802</td>\n",
       "      <td>0.000000</td>\n",
       "      <td>370.854065</td>\n",
       "      <td>0.566815</td>\n",
       "      <td>0.560377</td>\n",
       "      <td>-7.783019</td>\n",
       "      <td>-21.376345</td>\n",
       "    </tr>\n",
       "    <tr>\n",
       "      <th>3</th>\n",
       "      <td>3</td>\n",
       "      <td>NaN</td>\n",
       "      <td>NaN</td>\n",
       "      <td>1102101100</td>\n",
       "      <td>NaN</td>\n",
       "      <td>3</td>\n",
       "      <td>1297332001141690880</td>\n",
       "      <td>0</td>\n",
       "      <td>0</td>\n",
       "      <td>534.971069</td>\n",
       "      <td>0</td>\n",
       "      <td>0.000000</td>\n",
       "      <td>NaN</td>\n",
       "      <td>NaN</td>\n",
       "      <td>NaN</td>\n",
       "      <td>NaN</td>\n",
       "      <td>NaN</td>\n",
       "      <td>NaN</td>\n",
       "      <td>NaN</td>\n",
       "    </tr>\n",
       "    <tr>\n",
       "      <th>4</th>\n",
       "      <td>4</td>\n",
       "      <td>NaN</td>\n",
       "      <td>NaN</td>\n",
       "      <td>1102101100</td>\n",
       "      <td>NaN</td>\n",
       "      <td>4</td>\n",
       "      <td>1297332001147309056</td>\n",
       "      <td>0</td>\n",
       "      <td>0</td>\n",
       "      <td>237.557007</td>\n",
       "      <td>0</td>\n",
       "      <td>203.871292</td>\n",
       "      <td>NaN</td>\n",
       "      <td>NaN</td>\n",
       "      <td>NaN</td>\n",
       "      <td>NaN</td>\n",
       "      <td>NaN</td>\n",
       "      <td>NaN</td>\n",
       "      <td>NaN</td>\n",
       "    </tr>\n",
       "  </tbody>\n",
       "</table>\n",
       "</div>"
      ],
      "text/plain": [
       "   index       cs1         cs2  dataset_number     drift_time  event_number  \\\n",
       "0      0  4.822919  439.419690      1102101100   49639.042969             0   \n",
       "1      1       NaN         NaN      1102101100            NaN             1   \n",
       "2      2  4.246333  488.037578      1102101100  123562.687500             2   \n",
       "3      3       NaN         NaN      1102101100            NaN             3   \n",
       "4      4       NaN         NaN      1102101100            NaN             4   \n",
       "\n",
       "            event_time  largest_coincidence  largest_other_s1  \\\n",
       "0  1297332001005216000                    0                 0   \n",
       "1  1297332001027482112                    0                 0   \n",
       "2  1297332001054971904                    0                 0   \n",
       "3  1297332001141690880                    0                 0   \n",
       "4  1297332001147309056                    0                 0   \n",
       "\n",
       "   largest_other_s2  largest_unknown  largest_veto        s1  \\\n",
       "0          0.000000                0      0.000000  3.628556   \n",
       "1          0.000000                0      0.000000       NaN   \n",
       "2        300.855682                0      0.000000  5.172802   \n",
       "3        534.971069                0      0.000000       NaN   \n",
       "4        237.557007                0    203.871292       NaN   \n",
       "\n",
       "   s1_area_fraction_top          s2  s2_area_fraction_top          x  \\\n",
       "0              0.215452  393.525543              0.593098 -12.639623   \n",
       "1                   NaN         NaN                   NaN        NaN   \n",
       "2              0.000000  370.854065              0.566815   0.560377   \n",
       "3                   NaN         NaN                   NaN        NaN   \n",
       "4                   NaN         NaN                   NaN        NaN   \n",
       "\n",
       "          y          z  \n",
       "0  5.915094  -8.587554  \n",
       "1       NaN        NaN  \n",
       "2 -7.783019 -21.376345  \n",
       "3       NaN        NaN  \n",
       "4       NaN        NaN  "
      ]
     },
     "execution_count": 5,
     "metadata": {},
     "output_type": "execute_result"
    }
   ],
   "source": [
    "df = hax.minitrees.load(datasets_ambe)\n",
    "df.head(5)"
   ]
  },
  {
   "cell_type": "markdown",
   "metadata": {},
   "source": [
    "## Cuts\n",
    "\n",
    "Here are the cuts"
   ]
  },
  {
   "cell_type": "code",
   "execution_count": 6,
   "metadata": {
    "collapsed": false
   },
   "outputs": [],
   "source": [
    "cut_single_s1 = (df['largest_other_s1'] == 0)\n",
    "cut_single_s2 = (df['largest_other_s2'] < 100)\n",
    "cut_radius = (np.sqrt(df['x']**2 + df['y']**2) < 12)\n",
    "cut_z = (df['z'] < -5) & (df['z'] > -27)\n",
    "cut_fiducial = (cut_radius & cut_z)\n",
    "df = df[cut_single_s1 & cut_single_s2 & cut_fiducial]"
   ]
  },
  {
   "cell_type": "markdown",
   "metadata": {},
   "source": [
    "Inspect $(x,y)$"
   ]
  },
  {
   "cell_type": "code",
   "execution_count": null,
   "metadata": {
    "collapsed": false
   },
   "outputs": [],
   "source": [
    "plt.scatter(df['x'],df['y'], c=df['z'], marker='o', s=10)\n",
    "plt.colorbar()\n",
    "plt.xlabel('x [cm]')\n",
    "plt.ylabel('y [cm]')\n",
    "plt.show()"
   ]
  },
  {
   "cell_type": "markdown",
   "metadata": {},
   "source": [
    "Inspect $(r,z)$."
   ]
  },
  {
   "cell_type": "code",
   "execution_count": null,
   "metadata": {
    "collapsed": false
   },
   "outputs": [],
   "source": [
    "plt.scatter(np.sqrt(df['x']**2 + df['y']**2), df['z'], c=df['cs2'],\n",
    "            marker='o', s=10)\n",
    "plt.colorbar()\n",
    "plt.xlabel('r [cm]')\n",
    "plt.ylabel('z [cm]')"
   ]
  },
  {
   "cell_type": "code",
   "execution_count": null,
   "metadata": {
    "collapsed": false
   },
   "outputs": [],
   "source": [
    "plt.scatter(np.log10(df['cs1']),\n",
    "            np.log10(df['cs2']),\n",
    "            marker='.',\n",
    "            s=10,\n",
    "            alpha=1)\n",
    "\n",
    "plt.xlabel('S1 area [pe]')\n",
    "plt.ylabel('S2 area [pe]')\n",
    "\n",
    "plt.show()"
   ]
  },
  {
   "cell_type": "code",
   "execution_count": null,
   "metadata": {
    "collapsed": false
   },
   "outputs": [],
   "source": [
    "df_40kev = df[(df['cs1'] > 50) & (df['cs1'] < 200) & (df['cs2'] > 15000) & (df['cs2'] < 32000)]\n",
    "\n",
    "plt.scatter(df_40kev['cs1'],\n",
    "            df_40kev['cs2'], marker='.')\n",
    "plt.title('40 keV')\n",
    "#plt.xlim(0, 250) # S1\n",
    "#plt.ylim(8000, 25000*2) # S2\n",
    "\n",
    "plt.xlabel('S1 area [pe]')\n",
    "plt.ylabel('S2 area [pe]')\n",
    "\n",
    "plt.show()"
   ]
  },
  {
   "cell_type": "code",
   "execution_count": null,
   "metadata": {
    "collapsed": false
   },
   "outputs": [],
   "source": [
    "print('S1 (40 keV) pe:', df_40kev['cs1'].mean(), '+/-', df_40kev['cs1'].std())\n",
    "print('S2 (40 keV) pe:', df_40kev['cs2'].mean(), '+/-', df_40kev['cs2'].std())"
   ]
  },
  {
   "cell_type": "code",
   "execution_count": null,
   "metadata": {
    "collapsed": false
   },
   "outputs": [],
   "source": [
    "print('S1 pe/keV:', df_40kev['cs1'].mean()/40)\n",
    "print('S2 pe/keV:', df_40kev['cs2'].mean()/40)"
   ]
  },
  {
   "cell_type": "code",
   "execution_count": null,
   "metadata": {
    "collapsed": true
   },
   "outputs": [],
   "source": [
    "df_peaks = df[(df['cs1'] > 50) & (df['cs1'] < 500) & (df['cs2'] > 15000) & (df['cs2'] < 300e5)]"
   ]
  },
  {
   "cell_type": "code",
   "execution_count": null,
   "metadata": {
    "collapsed": false
   },
   "outputs": [],
   "source": [
    "# concatenate the two datasets into the final training set\n",
    "X_train = np.dstack((df_peaks.to_records()['cs1'],\n",
    "                     df_peaks.to_records()['cs2']))[0]\n",
    "\n",
    "# fit a Gaussian Mixture Model with two components\n",
    "clf = mixture.GMM(n_components=3, covariance_type='full')\n",
    "clf.fit(X_train)\n",
    "\n",
    "# display predicted scores by the model as a contour plot\n",
    "x = np.linspace(df_peaks['cs1'].min(),\n",
    "                df_peaks['cs1'].max())\n",
    "                \n",
    "y = np.linspace(df_peaks['cs2'].min(),\n",
    "                df_peaks['cs2'].max())\n",
    "X, Y = np.meshgrid(x, y)\n",
    "XX = np.array([X.ravel(), Y.ravel()]).T\n",
    "Z = -clf.score_samples(XX)[0]\n",
    "Z = Z.reshape(X.shape)\n",
    "\n",
    "CS = plt.contour(X, Y, Z, #norm=LogNorm(vmin=1.0, vmax=1000.0),\n",
    "                 levels=np.logspace(1, 2, 100))\n",
    "CB = plt.colorbar(CS, shrink=0.8, extend='both')\n",
    "plt.scatter(X_train[:, 0], X_train[:, 1], .8)\n",
    "\n",
    "plt.title('Negative log-likelihood predicted by a GMM')\n",
    "plt.axis('tight')\n",
    "plt.show()"
   ]
  },
  {
   "cell_type": "code",
   "execution_count": null,
   "metadata": {
    "collapsed": false
   },
   "outputs": [],
   "source": [
    "clf.means_"
   ]
  },
  {
   "cell_type": "code",
   "execution_count": null,
   "metadata": {
    "collapsed": false
   },
   "outputs": [],
   "source": [
    "df_pid = df[(150 < df['s2_area']) & (10000 > df['s2_area'])]\n",
    "plt.scatter(df_pid['s1_area'], df_pid['pid'], marker='.', alpha=0.1, s=5,\n",
    "            color='red', label='NR band')\n",
    "plt.scatter(df_40kev['s1_area'], df_40kev['pid'], marker='.', alpha=1.0, s=5,\n",
    "            color='blue', label='40 keV $\\gamma$')\n",
    "plt.legend()\n",
    "plt.xlabel('Corrected S1 [pe]')\n",
    "plt.ylabel('log10(S2/s1)')\n",
    "plt.xlim(0, 220)\n",
    "plt.ylim(1,4)"
   ]
  },
  {
   "cell_type": "code",
   "execution_count": null,
   "metadata": {
    "collapsed": false
   },
   "outputs": [],
   "source": [
    "df_inspect = df_pid[df_pid['pid'] < 1.0]\n"
   ]
  },
  {
   "cell_type": "code",
   "execution_count": null,
   "metadata": {
    "collapsed": false
   },
   "outputs": [],
   "source": [
    "df_40kev['xed'] = df_40kev['dataset_name']"
   ]
  },
  {
   "cell_type": "code",
   "execution_count": null,
   "metadata": {
    "collapsed": false
   },
   "outputs": [],
   "source": [
    "df_40kev['dataset_name'] = [x[:-11] for x in df_40kev['dataset_name']]"
   ]
  },
  {
   "cell_type": "code",
   "execution_count": null,
   "metadata": {
    "collapsed": false
   },
   "outputs": [],
   "source": [
    "df_40kev.head()"
   ]
  },
  {
   "cell_type": "code",
   "execution_count": null,
   "metadata": {
    "collapsed": false
   },
   "outputs": [],
   "source": [
    "def inspect_event(df_event):\n",
    "    mypax = core.Processor(config_names='XENON100',\n",
    "                           config_dict={'pax': {\n",
    "                 'output': ['Plotting.PlotEventSummary'],\n",
    "                'input_name':   ('/Users/tunnell/XENON/data/xenon100/run_10/%s/%s' % (df_event['dataset_name'],\n",
    "                                                                                       df_event['xed'])),\n",
    "                'events_to_process': [df_event['event_number']],          \n",
    "                'output_name': 'SCREEN'}})\n",
    "\n",
    "    mypax.run()"
   ]
  },
  {
   "cell_type": "code",
   "execution_count": null,
   "metadata": {
    "collapsed": false
   },
   "outputs": [],
   "source": [
    "inspect_event(df_40kev.iloc[0])"
   ]
  },
  {
   "cell_type": "code",
   "execution_count": null,
   "metadata": {
    "collapsed": false
   },
   "outputs": [],
   "source": []
  },
  {
   "cell_type": "code",
   "execution_count": null,
   "metadata": {
    "collapsed": true
   },
   "outputs": [],
   "source": []
  }
 ],
 "metadata": {
  "kernelspec": {
   "display_name": "Python 3",
   "language": "python",
   "name": "python3"
  },
  "language_info": {
   "codemirror_mode": {
    "name": "ipython",
    "version": 3
   },
   "file_extension": ".py",
   "mimetype": "text/x-python",
   "name": "python",
   "nbconvert_exporter": "python",
   "pygments_lexer": "ipython3",
   "version": "3.4.4"
  }
 },
 "nbformat": 4,
 "nbformat_minor": 0
}
