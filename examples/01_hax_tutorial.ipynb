{
 "cells": [
  {
   "cell_type": "markdown",
   "metadata": {},
   "source": [
    "Jelle, Feburary 2016\n",
    "\n",
    "This tutorial describes how to use the basic functionality of the `hax` analysis library from python."
   ]
  },
  {
   "cell_type": "markdown",
   "metadata": {
    "toc": "true"
   },
   "source": [
    "# Table of Contents\n",
    " <p><div class=\"lev1\"><a href=\"#Introduction\"><span class=\"toc-item-num\">1 - </span>Introduction</a></div><div class=\"lev1\"><a href=\"#Using-mini-trees\"><span class=\"toc-item-num\">2 - </span>Using mini-trees</a></div><div class=\"lev2\"><a href=\"#Using-standard-data\"><span class=\"toc-item-num\">2.1 - </span>Using standard data</a></div><div class=\"lev2\"><a href=\"#Getting-your-own-data\"><span class=\"toc-item-num\">2.2 - </span>Getting your own data</a></div><div class=\"lev1\"><a href=\"#Looping-over-ROOT-files\"><span class=\"toc-item-num\">3 - </span>Looping over ROOT files</a></div><div class=\"lev1\"><a href=\"#Selecting-datasets\"><span class=\"toc-item-num\">4 - </span>Selecting datasets</a></div>"
   ]
  },
  {
   "cell_type": "code",
   "execution_count": 1,
   "metadata": {
    "collapsed": false,
    "scrolled": false
   },
   "outputs": [
    {
     "name": "stdout",
     "output_type": "stream",
     "text": [
      "This may give a warning 'ShimWarning: The `IPython.kernel` package has been deprecated.' which you can safely ignore.\n"
     ]
    },
    {
     "name": "stderr",
     "output_type": "stream",
     "text": [
      "/Users/tunnell/anaconda3/envs/pax/lib/python3.4/site-packages/IPython/kernel/__init__.py:13: ShimWarning: The `IPython.kernel` package has been deprecated. You should import from ipykernel or jupyter_client instead.\n",
      "  \"You should import from ipykernel or jupyter_client instead.\", ShimWarning)\n"
     ]
    }
   ],
   "source": [
    "# Boilerplate startup\n",
    "import numpy as np\n",
    "from tqdm import tqdm\n",
    "import os\n",
    "import sys\n",
    "import pandas as pd\n",
    "\n",
    "import matplotlib\n",
    "import matplotlib.pyplot as plt\n",
    "%matplotlib inline\n",
    "matplotlib.rc('font', size=16)\n",
    "plt.rcParams['figure.figsize'] = (12.0, 10.0)    # resize plots\n",
    "\n",
    "print(\"This may give a warning 'ShimWarning: The `IPython.kernel` package has been deprecated.' \" \n",
    "      \"which you can safely ignore.\")\n",
    "\n",
    "import hax\n",
    "#hax.ipython.code_hider()"
   ]
  },
  {
   "cell_type": "code",
   "execution_count": 2,
   "metadata": {
    "collapsed": false
   },
   "outputs": [],
   "source": [
    "hax.config.CONFIG['main_data_paths'] = ['./data/']"
   ]
  },
  {
   "cell_type": "markdown",
   "metadata": {},
   "source": [
    "# Introduction"
   ]
  },
  {
   "cell_type": "markdown",
   "metadata": {},
   "source": [
    "The default pax output format is a ROOT file containing an event class, which is fully documented [here](http://xenon1t.github.io/pax/format.html). While you could analyze this with TTree.Draw(...) (in python or C++), this has several disadvantages:\n",
    "  * You never get access to the actual values of the data;\n",
    "  * It is difficult to compute things that are not directly in the tree;\n",
    "  * You need to re-loop over the data every time you want to make a new plot.\n",
    "\n",
    "You can get much more flexibility by looping over the events in the ROOT file(s) you want to analyze: we will cover this in section ... below. However, looping over all the ROOT events every time you want to adjust a plot or cut is still very inconvenient.\n",
    "\n",
    "To extract data, hax lets you make **mini-trees**, small, flat ROOT files which contain just the data you need for every event. Since a mini-tree is such a simple (tabular) structure, for python analyses you can read them into a [pandas DataFrame](http://pandas.pydata.org/pandas-docs/stable/10min.html), one of the most-used objects in data science. Since it's the fastest way to the data, we'll cover mini-trees first in the next section."
   ]
  },
  {
   "cell_type": "markdown",
   "metadata": {},
   "source": [
    "# Using mini-trees"
   ]
  },
  {
   "cell_type": "markdown",
   "metadata": {},
   "source": [
    "## Using standard data"
   ]
  },
  {
   "cell_type": "markdown",
   "metadata": {},
   "source": [
    "We prepared a basic minitree for you with most of the data you need for basic analyses:"
   ]
  },
  {
   "cell_type": "code",
   "execution_count": 3,
   "metadata": {
    "collapsed": false
   },
   "outputs": [
    {
     "name": "stdout",
     "output_type": "stream",
     "text": [
      "Found minitree at ./xe100_120102_1607_Basics.root\n"
     ]
    },
    {
     "data": {
      "text/html": [
       "<div>\n",
       "<table border=\"1\" class=\"dataframe\">\n",
       "  <thead>\n",
       "    <tr style=\"text-align: right;\">\n",
       "      <th></th>\n",
       "      <th>index</th>\n",
       "      <th>cs1</th>\n",
       "      <th>cs2</th>\n",
       "      <th>drift_time</th>\n",
       "      <th>event_number</th>\n",
       "      <th>event_time</th>\n",
       "      <th>largest_coincidence</th>\n",
       "      <th>largest_other_s1</th>\n",
       "      <th>largest_other_s2</th>\n",
       "      <th>largest_unknown</th>\n",
       "      <th>largest_veto</th>\n",
       "      <th>s1</th>\n",
       "      <th>s1_area_fraction_top</th>\n",
       "      <th>s2</th>\n",
       "      <th>s2_area_fraction_top</th>\n",
       "      <th>x</th>\n",
       "      <th>y</th>\n",
       "      <th>z</th>\n",
       "    </tr>\n",
       "  </thead>\n",
       "  <tbody>\n",
       "    <tr>\n",
       "      <th>0</th>\n",
       "      <td>0</td>\n",
       "      <td>916.721855</td>\n",
       "      <td>233095.542697</td>\n",
       "      <td>77120.234375</td>\n",
       "      <td>0</td>\n",
       "      <td>1325516844038932992</td>\n",
       "      <td>0</td>\n",
       "      <td>0.000000</td>\n",
       "      <td>549.494324</td>\n",
       "      <td>0</td>\n",
       "      <td>6.506931</td>\n",
       "      <td>827.102417</td>\n",
       "      <td>0.192298</td>\n",
       "      <td>196383.640625</td>\n",
       "      <td>0.419083</td>\n",
       "      <td>8.903773</td>\n",
       "      <td>1.432076</td>\n",
       "      <td>-13.341801</td>\n",
       "    </tr>\n",
       "    <tr>\n",
       "      <th>1</th>\n",
       "      <td>1</td>\n",
       "      <td>1100.245879</td>\n",
       "      <td>283938.145444</td>\n",
       "      <td>109342.296875</td>\n",
       "      <td>1</td>\n",
       "      <td>1325516844082907904</td>\n",
       "      <td>0</td>\n",
       "      <td>0.000000</td>\n",
       "      <td>116261.570312</td>\n",
       "      <td>0</td>\n",
       "      <td>10.097024</td>\n",
       "      <td>1306.408447</td>\n",
       "      <td>0.146258</td>\n",
       "      <td>222688.406250</td>\n",
       "      <td>0.321690</td>\n",
       "      <td>2.179245</td>\n",
       "      <td>-2.677358</td>\n",
       "      <td>-18.916218</td>\n",
       "    </tr>\n",
       "    <tr>\n",
       "      <th>2</th>\n",
       "      <td>2</td>\n",
       "      <td>NaN</td>\n",
       "      <td>NaN</td>\n",
       "      <td>NaN</td>\n",
       "      <td>2</td>\n",
       "      <td>1325516844085651968</td>\n",
       "      <td>0</td>\n",
       "      <td>50.811050</td>\n",
       "      <td>19.139214</td>\n",
       "      <td>0</td>\n",
       "      <td>0.000000</td>\n",
       "      <td>NaN</td>\n",
       "      <td>NaN</td>\n",
       "      <td>NaN</td>\n",
       "      <td>NaN</td>\n",
       "      <td>NaN</td>\n",
       "      <td>NaN</td>\n",
       "      <td>NaN</td>\n",
       "    </tr>\n",
       "    <tr>\n",
       "      <th>3</th>\n",
       "      <td>3</td>\n",
       "      <td>988.946391</td>\n",
       "      <td>93634.488534</td>\n",
       "      <td>162622.250000</td>\n",
       "      <td>3</td>\n",
       "      <td>1325516844108172032</td>\n",
       "      <td>0</td>\n",
       "      <td>332.597046</td>\n",
       "      <td>119.179947</td>\n",
       "      <td>0</td>\n",
       "      <td>0.000000</td>\n",
       "      <td>1688.595947</td>\n",
       "      <td>0.046278</td>\n",
       "      <td>65236.296875</td>\n",
       "      <td>0.532941</td>\n",
       "      <td>7.160378</td>\n",
       "      <td>-1.432076</td>\n",
       "      <td>-28.133650</td>\n",
       "    </tr>\n",
       "    <tr>\n",
       "      <th>4</th>\n",
       "      <td>4</td>\n",
       "      <td>113.397541</td>\n",
       "      <td>61784.189470</td>\n",
       "      <td>1546.999023</td>\n",
       "      <td>4</td>\n",
       "      <td>1325516844113257984</td>\n",
       "      <td>0</td>\n",
       "      <td>0.000000</td>\n",
       "      <td>67.338837</td>\n",
       "      <td>0</td>\n",
       "      <td>6.543261</td>\n",
       "      <td>69.385399</td>\n",
       "      <td>0.666641</td>\n",
       "      <td>61572.152344</td>\n",
       "      <td>0.646084</td>\n",
       "      <td>13.884906</td>\n",
       "      <td>4.669811</td>\n",
       "      <td>-0.267631</td>\n",
       "    </tr>\n",
       "  </tbody>\n",
       "</table>\n",
       "</div>"
      ],
      "text/plain": [
       "   index          cs1            cs2     drift_time  event_number  \\\n",
       "0      0   916.721855  233095.542697   77120.234375             0   \n",
       "1      1  1100.245879  283938.145444  109342.296875             1   \n",
       "2      2          NaN            NaN            NaN             2   \n",
       "3      3   988.946391   93634.488534  162622.250000             3   \n",
       "4      4   113.397541   61784.189470    1546.999023             4   \n",
       "\n",
       "            event_time  largest_coincidence  largest_other_s1  \\\n",
       "0  1325516844038932992                    0          0.000000   \n",
       "1  1325516844082907904                    0          0.000000   \n",
       "2  1325516844085651968                    0         50.811050   \n",
       "3  1325516844108172032                    0        332.597046   \n",
       "4  1325516844113257984                    0          0.000000   \n",
       "\n",
       "   largest_other_s2  largest_unknown  largest_veto           s1  \\\n",
       "0        549.494324                0      6.506931   827.102417   \n",
       "1     116261.570312                0     10.097024  1306.408447   \n",
       "2         19.139214                0      0.000000          NaN   \n",
       "3        119.179947                0      0.000000  1688.595947   \n",
       "4         67.338837                0      6.543261    69.385399   \n",
       "\n",
       "   s1_area_fraction_top             s2  s2_area_fraction_top          x  \\\n",
       "0              0.192298  196383.640625              0.419083   8.903773   \n",
       "1              0.146258  222688.406250              0.321690   2.179245   \n",
       "2                   NaN            NaN                   NaN        NaN   \n",
       "3              0.046278   65236.296875              0.532941   7.160378   \n",
       "4              0.666641   61572.152344              0.646084  13.884906   \n",
       "\n",
       "          y          z  \n",
       "0  1.432076 -13.341801  \n",
       "1 -2.677358 -18.916218  \n",
       "2       NaN        NaN  \n",
       "3 -1.432076 -28.133650  \n",
       "4  4.669811  -0.267631  "
      ]
     },
     "execution_count": 3,
     "metadata": {},
     "output_type": "execute_result"
    }
   ],
   "source": [
    "dataset = 'xe100_120102_1607'\n",
    "data = hax.minitrees.load(dataset)\n",
    "data.head(5)"
   ]
  },
  {
   "cell_type": "markdown",
   "metadata": {},
   "source": [
    "This shows the 'Basics' minitree **whose variables and units are documented [here](http://hax.readthedocs.org/en/latest/hax.treemakers.html)**. Of course you can also make your own minitrees, which we'll discuss below."
   ]
  },
  {
   "cell_type": "markdown",
   "metadata": {},
   "source": [
    "Now that you have the information in a dataframe, analysis is easy:"
   ]
  },
  {
   "cell_type": "code",
   "execution_count": 4,
   "metadata": {
    "collapsed": false
   },
   "outputs": [
    {
     "data": {
      "image/png": "[encoded data removed]",
      "text/plain": [
       "<matplotlib.figure.Figure at 0x11063ecf8>"
      ]
     },
     "metadata": {},
     "output_type": "display_data"
    }
   ],
   "source": [
    "# Require a proper S1\n",
    "data = data[data['cs1'] > 0]\n",
    "\n",
    "# Make an S1 vs S2 histogram\n",
    "plt.hist2d(np.log10(data['cs1']), np.log10(data['cs2']),\n",
    "           bins=100, \n",
    "           norm=matplotlib.colors.LogNorm()   # Logarithmic color scale\n",
    ")\n",
    "plt.colorbar(label='Number of events')\n",
    "plt.xlabel('log10(cS1, pe)')\n",
    "plt.ylabel('log10(cS2, pe)')\n",
    "plt.show()"
   ]
  },
  {
   "cell_type": "markdown",
   "metadata": {},
   "source": [
    "## Getting your own data"
   ]
  },
  {
   "cell_type": "markdown",
   "metadata": {},
   "source": [
    "Naturally, this basic data is rarely enough to do your work! Fortunately, extracting your own data is easy. You write a small TreeMaker class defining just one function: `extract_data`. This takes an `event` (the pax/ROOT object documented [here](http://xenon1t.github.io/pax/format.html)) and returns a dictionary with the data you want to save for that event. \n",
    "\n",
    "(It's ok if the dictionary is not the same for every event, missing values will become NaNs)."
   ]
  },
  {
   "cell_type": "markdown",
   "metadata": {},
   "source": [
    "For example, suppose your are interested in the widths of the main S1 and S2. You can set up your TreeMaker like so:"
   ]
  },
  {
   "cell_type": "code",
   "execution_count": 5,
   "metadata": {
    "collapsed": false
   },
   "outputs": [],
   "source": [
    "class PeakWidthInfo(hax.minitrees.TreeMaker):\n",
    "    # Activate the required branch while reading in the ROOT file\n",
    "    # If you're too lazy to specify this, just put '*', but your TreeMaker will run slow!\n",
    "    extra_branches = ['peaks.hit_time_std']\n",
    "    __version__ = '0.0.1'\n",
    "    \n",
    "    def extract_data(self, event):\n",
    "        # If there are no interactions at all, we can't extract anything...\n",
    "        if not len(event.interactions):\n",
    "            return dict()\n",
    "        \n",
    "        # Get the main S1 and main S2\n",
    "        s1 = event.peaks[event.interactions[0].s1]\n",
    "        s2 = event.peaks[event.interactions[0].s2]\n",
    "        \n",
    "        return dict(s1_hit_time_std=s1.hit_time_std,\n",
    "                    s2_hit_time_std=s2.hit_time_std)"
   ]
  },
  {
   "cell_type": "markdown",
   "metadata": {},
   "source": [
    "Then you can read in data like this:"
   ]
  },
  {
   "cell_type": "code",
   "execution_count": null,
   "metadata": {
    "collapsed": false
   },
   "outputs": [
    {
     "name": "stdout",
     "output_type": "stream",
     "text": [
      "Found minitree at ./xe100_120102_1607_PeakWidthInfo.root\n",
      "Found minitree at ./xe100_120102_1607_Basics.root\n"
     ]
    },
    {
     "data": {
      "text/html": [
       "<div>\n",
       "<table border=\"1\" class=\"dataframe\">\n",
       "  <thead>\n",
       "    <tr style=\"text-align: right;\">\n",
       "      <th></th>\n",
       "      <th>index</th>\n",
       "      <th>s1_hit_time_std</th>\n",
       "      <th>s2_hit_time_std</th>\n",
       "      <th>index</th>\n",
       "      <th>cs1</th>\n",
       "      <th>cs2</th>\n",
       "      <th>drift_time</th>\n",
       "      <th>event_number</th>\n",
       "      <th>event_time</th>\n",
       "      <th>largest_coincidence</th>\n",
       "      <th>...</th>\n",
       "      <th>largest_other_s2</th>\n",
       "      <th>largest_unknown</th>\n",
       "      <th>largest_veto</th>\n",
       "      <th>s1</th>\n",
       "      <th>s1_area_fraction_top</th>\n",
       "      <th>s2</th>\n",
       "      <th>s2_area_fraction_top</th>\n",
       "      <th>x</th>\n",
       "      <th>y</th>\n",
       "      <th>z</th>\n",
       "    </tr>\n",
       "  </thead>\n",
       "  <tbody>\n",
       "    <tr>\n",
       "      <th>0</th>\n",
       "      <td>0</td>\n",
       "      <td>81.478790</td>\n",
       "      <td>715.608398</td>\n",
       "      <td>0</td>\n",
       "      <td>916.721855</td>\n",
       "      <td>233095.542697</td>\n",
       "      <td>77120.234375</td>\n",
       "      <td>0</td>\n",
       "      <td>1325516844038932992</td>\n",
       "      <td>0</td>\n",
       "      <td>...</td>\n",
       "      <td>549.494324</td>\n",
       "      <td>0</td>\n",
       "      <td>6.506931</td>\n",
       "      <td>827.102417</td>\n",
       "      <td>0.192298</td>\n",
       "      <td>196383.640625</td>\n",
       "      <td>0.419083</td>\n",
       "      <td>8.903773</td>\n",
       "      <td>1.432076</td>\n",
       "      <td>-13.341801</td>\n",
       "    </tr>\n",
       "    <tr>\n",
       "      <th>1</th>\n",
       "      <td>1</td>\n",
       "      <td>55.303967</td>\n",
       "      <td>379.709473</td>\n",
       "      <td>1</td>\n",
       "      <td>1100.245879</td>\n",
       "      <td>283938.145444</td>\n",
       "      <td>109342.296875</td>\n",
       "      <td>1</td>\n",
       "      <td>1325516844082907904</td>\n",
       "      <td>0</td>\n",
       "      <td>...</td>\n",
       "      <td>116261.570312</td>\n",
       "      <td>0</td>\n",
       "      <td>10.097024</td>\n",
       "      <td>1306.408447</td>\n",
       "      <td>0.146258</td>\n",
       "      <td>222688.406250</td>\n",
       "      <td>0.321690</td>\n",
       "      <td>2.179245</td>\n",
       "      <td>-2.677358</td>\n",
       "      <td>-18.916218</td>\n",
       "    </tr>\n",
       "    <tr>\n",
       "      <th>2</th>\n",
       "      <td>2</td>\n",
       "      <td>NaN</td>\n",
       "      <td>NaN</td>\n",
       "      <td>2</td>\n",
       "      <td>NaN</td>\n",
       "      <td>NaN</td>\n",
       "      <td>NaN</td>\n",
       "      <td>2</td>\n",
       "      <td>1325516844085651968</td>\n",
       "      <td>0</td>\n",
       "      <td>...</td>\n",
       "      <td>19.139214</td>\n",
       "      <td>0</td>\n",
       "      <td>0.000000</td>\n",
       "      <td>NaN</td>\n",
       "      <td>NaN</td>\n",
       "      <td>NaN</td>\n",
       "      <td>NaN</td>\n",
       "      <td>NaN</td>\n",
       "      <td>NaN</td>\n",
       "      <td>NaN</td>\n",
       "    </tr>\n",
       "    <tr>\n",
       "      <th>3</th>\n",
       "      <td>3</td>\n",
       "      <td>70.223686</td>\n",
       "      <td>1488.914307</td>\n",
       "      <td>3</td>\n",
       "      <td>988.946391</td>\n",
       "      <td>93634.488534</td>\n",
       "      <td>162622.250000</td>\n",
       "      <td>3</td>\n",
       "      <td>1325516844108172032</td>\n",
       "      <td>0</td>\n",
       "      <td>...</td>\n",
       "      <td>119.179947</td>\n",
       "      <td>0</td>\n",
       "      <td>0.000000</td>\n",
       "      <td>1688.595947</td>\n",
       "      <td>0.046278</td>\n",
       "      <td>65236.296875</td>\n",
       "      <td>0.532941</td>\n",
       "      <td>7.160378</td>\n",
       "      <td>-1.432076</td>\n",
       "      <td>-28.133650</td>\n",
       "    </tr>\n",
       "    <tr>\n",
       "      <th>4</th>\n",
       "      <td>4</td>\n",
       "      <td>23.072817</td>\n",
       "      <td>389.816803</td>\n",
       "      <td>4</td>\n",
       "      <td>113.397541</td>\n",
       "      <td>61784.189470</td>\n",
       "      <td>1546.999023</td>\n",
       "      <td>4</td>\n",
       "      <td>1325516844113257984</td>\n",
       "      <td>0</td>\n",
       "      <td>...</td>\n",
       "      <td>67.338837</td>\n",
       "      <td>0</td>\n",
       "      <td>6.543261</td>\n",
       "      <td>69.385399</td>\n",
       "      <td>0.666641</td>\n",
       "      <td>61572.152344</td>\n",
       "      <td>0.646084</td>\n",
       "      <td>13.884906</td>\n",
       "      <td>4.669811</td>\n",
       "      <td>-0.267631</td>\n",
       "    </tr>\n",
       "  </tbody>\n",
       "</table>\n",
       "<p>5 rows × 21 columns</p>\n",
       "</div>"
      ],
      "text/plain": [
       "   index  s1_hit_time_std  s2_hit_time_std  index          cs1            cs2  \\\n",
       "0      0        81.478790       715.608398      0   916.721855  233095.542697   \n",
       "1      1        55.303967       379.709473      1  1100.245879  283938.145444   \n",
       "2      2              NaN              NaN      2          NaN            NaN   \n",
       "3      3        70.223686      1488.914307      3   988.946391   93634.488534   \n",
       "4      4        23.072817       389.816803      4   113.397541   61784.189470   \n",
       "\n",
       "      drift_time  event_number           event_time  largest_coincidence  \\\n",
       "0   77120.234375             0  1325516844038932992                    0   \n",
       "1  109342.296875             1  1325516844082907904                    0   \n",
       "2            NaN             2  1325516844085651968                    0   \n",
       "3  162622.250000             3  1325516844108172032                    0   \n",
       "4    1546.999023             4  1325516844113257984                    0   \n",
       "\n",
       "     ...      largest_other_s2  largest_unknown  largest_veto           s1  \\\n",
       "0    ...            549.494324                0      6.506931   827.102417   \n",
       "1    ...         116261.570312                0     10.097024  1306.408447   \n",
       "2    ...             19.139214                0      0.000000          NaN   \n",
       "3    ...            119.179947                0      0.000000  1688.595947   \n",
       "4    ...             67.338837                0      6.543261    69.385399   \n",
       "\n",
       "   s1_area_fraction_top             s2  s2_area_fraction_top          x  \\\n",
       "0              0.192298  196383.640625              0.419083   8.903773   \n",
       "1              0.146258  222688.406250              0.321690   2.179245   \n",
       "2                   NaN            NaN                   NaN        NaN   \n",
       "3              0.046278   65236.296875              0.532941   7.160378   \n",
       "4              0.666641   61572.152344              0.646084  13.884906   \n",
       "\n",
       "          y          z  \n",
       "0  1.432076 -13.341801  \n",
       "1 -2.677358 -18.916218  \n",
       "2       NaN        NaN  \n",
       "3 -1.432076 -28.133650  \n",
       "4  4.669811  -0.267631  \n",
       "\n",
       "[5 rows x 21 columns]"
      ]
     },
     "execution_count": 6,
     "metadata": {},
     "output_type": "execute_result"
    }
   ],
   "source": [
    "data = hax.minitrees.load(dataset,\n",
    "                          [PeakWidthInfo, 'Basics'])\n",
    "data.head(5)"
   ]
  },
  {
   "cell_type": "markdown",
   "metadata": {},
   "source": [
    "Notice s1_hit_time_std and s2_hit_time_std are now part of the dataframe. While you ran the above cell, a file `xe100_120402_2000_PeakWidthInfo.root` was created in the current directory. The next time you run the cell, the information is taken from this file (which is extremely fast) instead of rebuilt from scratch.\n",
    "\n",
    "What if you change something in your TreeMaker? You can simply force load() to rebuild your tree:"
   ]
  },
  {
   "cell_type": "code",
   "execution_count": null,
   "metadata": {
    "collapsed": false
   },
   "outputs": [
    {
     "name": "stdout",
     "output_type": "stream",
     "text": [
      "Found minitree at ./xe100_120102_1607_PeakWidthInfo.root\n",
      "|##--------| 12691/46000  27% [elapsed: 00:19 left: 00:50, 653.31 iters/sec]"
     ]
    }
   ],
   "source": [
    "data = hax.minitrees.load(dataset,\n",
    "                          PeakWidthInfo,\n",
    "                          force_reload=True)"
   ]
  },
  {
   "cell_type": "markdown",
   "metadata": {},
   "source": [
    "A gentler approach is to simply increment the version number of your TreeMaker.minitrees.load() will notice the minitrees are outdated and rebuild them. (try it!)"
   ]
  },
  {
   "cell_type": "markdown",
   "metadata": {},
   "source": [
    "# Looping over ROOT files"
   ]
  },
  {
   "cell_type": "markdown",
   "metadata": {},
   "source": [
    "If you don't like writing your own TreeMaker, or you just want to be 'closer to the ground', you can always just loop over each of the events in the ROOT files themselves. This takes just a few lines of code to setup (look up filename, get TFile, get tree, loop over entries, ....) but hax can save you this small trouble too.\n",
    "\n",
    "If you define a function, hax will take care of executing it over all events in (one or more) datasets:"
   ]
  },
  {
   "cell_type": "code",
   "execution_count": null,
   "metadata": {
    "collapsed": false
   },
   "outputs": [],
   "source": [
    "help(hax.looproot.loop_over_dataset)"
   ]
  },
  {
   "cell_type": "markdown",
   "metadata": {},
   "source": [
    "The 'event' your function gets is a pax/ROOT Event object documented [here](http://xenon1t.github.io/pax/format.html#event).\n",
    "\n",
    "Here is a small (and silly!) example that counts how many events have more than 4 S1s:"
   ]
  },
  {
   "cell_type": "code",
   "execution_count": null,
   "metadata": {
    "collapsed": false
   },
   "outputs": [],
   "source": [
    "counter = 0\n",
    "\n",
    "def count_many_s1s(event):\n",
    "    global counter   # Need this in pyton to modify variable outside of function\n",
    "    if len(event.s1s) > 4:\n",
    "        counter += 1\n",
    "\n",
    "hax.looproot.loop_over_datasets(['xe100_110228_1427', 'xe100_110302_1945'], count_many_s1s)\n",
    "print(\"We found %d events with more than 4 S1s\" % counter)"
   ]
  },
  {
   "cell_type": "markdown",
   "metadata": {},
   "source": [
    "Another silly example: find the first event whose main s1 area is 70 pe in some dark matter dataset:"
   ]
  },
  {
   "cell_type": "code",
   "execution_count": null,
   "metadata": {
    "collapsed": false
   },
   "outputs": [],
   "source": [
    "def find_s1_70pe(event):\n",
    "    if not len(event.interactions):\n",
    "        # Continues to the next event\n",
    "        # We're in a function, so need to do return rather than continue\n",
    "        return\n",
    "    main_interaction = event.interactions[0]\n",
    "    main_s1 = event.peaks[main_interaction.s1]\n",
    "    if np.round(main_s1.area) == 70:\n",
    "        print(\"Event %s has a main S1 with area %s pe\" % (event.event_number, main_s1.area))\n",
    "        raise hax.looproot.StopEventLoop    # Special magic that aborts the loop immediately\n",
    "\n",
    "hax.looproot.loop_over_dataset('xe100_120401_2201', find_s1_70pe)"
   ]
  },
  {
   "cell_type": "markdown",
   "metadata": {},
   "source": [
    "# Selecting datasets"
   ]
  },
  {
   "cell_type": "markdown",
   "metadata": {},
   "source": [
    "For any real analysis you'll want to select several datasets. In the future, hax will interface with the XENON1T run db for you. For now, it just loads some XENON100 runs info, and makes it available as a [pandas dataframe](http://pandas.pydata.org/pandas-docs/stable/10min.html) hax.runs.DATASETS.\n",
    "\n",
    "(Internally this loads a CSV file, which is copy-pasted from the wiki's runs database table. For now I've only done run 10. Of course for XENON1T we don't want a static csv file, but a connection to the real runs database.)"
   ]
  },
  {
   "cell_type": "markdown",
   "metadata": {},
   "source": [
    "Here's an example to get all standard AmBe datasets. Since DATASETS is a pandas DataFrame, you can use the 'query' method:"
   ]
  },
  {
   "cell_type": "code",
   "execution_count": null,
   "metadata": {
    "collapsed": false,
    "scrolled": true
   },
   "outputs": [],
   "source": [
    "hax.runs.DATASETS.query('source == \"AmBe\" & category == \"standard\" & tpc == \"xenon100\"')['name'].values"
   ]
  },
  {
   "cell_type": "markdown",
   "metadata": {},
   "source": [
    "For more details on a particular dataset, use"
   ]
  },
  {
   "cell_type": "code",
   "execution_count": null,
   "metadata": {
    "collapsed": false
   },
   "outputs": [],
   "source": [
    "hax.runs.get_dataset_info('xe100_120401_2201')"
   ]
  }
 ],
 "metadata": {
  "kernelspec": {
   "display_name": "Python 3",
   "language": "python",
   "name": "python3"
  },
  "language_info": {
   "codemirror_mode": {
    "name": "ipython",
    "version": 3
   },
   "file_extension": ".py",
   "mimetype": "text/x-python",
   "name": "python",
   "nbconvert_exporter": "python",
   "pygments_lexer": "ipython3",
   "version": "3.4.3"
  },
  "toc": {
   "toc_cell": true,
   "toc_number_sections": true,
   "toc_section_display": "block",
   "toc_threshold": 4,
   "toc_window_display": true
  }
 },
 "nbformat": 4,
 "nbformat_minor": 0
}
