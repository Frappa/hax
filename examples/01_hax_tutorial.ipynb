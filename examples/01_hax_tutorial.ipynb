{
 "cells": [
  {
   "cell_type": "markdown",
   "metadata": {},
   "source": [
    "# Learn how to use hax\n",
    "\n",
    "Aalbers and Tunnell, Feburary 2016\n",
    "\n",
    "This tutorial describes how to use the basic functionality of the `hax` analysis library from python."
   ]
  },
  {
   "cell_type": "markdown",
   "metadata": {
    "toc": "true"
   },
   "source": [
    "# Table of Contents\n",
    " <p><div class=\"lev1\"><a href=\"#Introduction\"><span class=\"toc-item-num\">1 - </span>Introduction</a></div><div class=\"lev1\"><a href=\"#Using-mini-trees\"><span class=\"toc-item-num\">2 - </span>Using mini-trees</a></div><div class=\"lev2\"><a href=\"#Using-standard-data\"><span class=\"toc-item-num\">2.1 - </span>Using standard data</a></div><div class=\"lev2\"><a href=\"#Getting-your-own-data\"><span class=\"toc-item-num\">2.2 - </span>Getting your own data</a></div><div class=\"lev1\"><a href=\"#Looping-over-ROOT-files\"><span class=\"toc-item-num\">3 - </span>Looping over ROOT files</a></div><div class=\"lev1\"><a href=\"#Selecting-datasets\"><span class=\"toc-item-num\">4 - </span>Selecting datasets</a></div>"
   ]
  },
  {
   "cell_type": "markdown",
   "metadata": {},
   "source": [
    "This is all the startup code that you probably want at the start of every script.  We have to import the math library [`numpy`](https://en.wikipedia.org/wiki/NumPy) and the plotting library [`matplotlib`](https://en.wikipedia.org/wiki/Matplotlib)."
   ]
  },
  {
   "cell_type": "code",
   "execution_count": 1,
   "metadata": {
    "collapsed": false
   },
   "outputs": [],
   "source": [
    "# Boilerplate startup\n",
    "import numpy as np\n",
    "import matplotlib.pyplot as plt\n",
    "\n",
    "# Include plots within this notebook\n",
    "%matplotlib inline "
   ]
  },
  {
   "cell_type": "markdown",
   "metadata": {},
   "source": [
    "This makes plots pretty."
   ]
  },
  {
   "cell_type": "code",
   "execution_count": 2,
   "metadata": {
    "collapsed": true
   },
   "outputs": [],
   "source": [
    "# Prettify\n",
    "import matplotlib\n",
    "matplotlib.rc('font', size=16)\n",
    "plt.rcParams['figure.figsize'] = (12.0, 10.0)    # resize plots"
   ]
  },
  {
   "cell_type": "markdown",
   "metadata": {},
   "source": [
    "Last but not least, we have to include `hax`."
   ]
  },
  {
   "cell_type": "code",
   "execution_count": 3,
   "metadata": {
    "collapsed": false,
    "scrolled": false
   },
   "outputs": [
    {
     "name": "stdout",
     "output_type": "stream",
     "text": [
      "This may give a warning 'ShimWarning: The `IPython.kernel` package has been deprecated.' which you can safely ignore.\n"
     ]
    },
    {
     "name": "stderr",
     "output_type": "stream",
     "text": [
      "/Users/tunnell/anaconda3/envs/pax/lib/python3.4/site-packages/IPython/kernel/__init__.py:13: ShimWarning: The `IPython.kernel` package has been deprecated. You should import from ipykernel or jupyter_client instead.\n",
      "  \"You should import from ipykernel or jupyter_client instead.\", ShimWarning)\n"
     ]
    }
   ],
   "source": [
    "print(\"This may give a warning 'ShimWarning: The `IPython.kernel` package has been deprecated.' \" \n",
    "      \"which you can safely ignore.\")\n",
    "\n",
    "import hax\n",
    "#hax.ipython.code_hider()  # Uncomment to hide code below"
   ]
  },
  {
   "cell_type": "code",
   "execution_count": 4,
   "metadata": {
    "collapsed": false
   },
   "outputs": [],
   "source": [
    "## Specify your own data location\n",
    "hax.config.CONFIG['main_data_paths'] = ['./data/']"
   ]
  },
  {
   "cell_type": "markdown",
   "metadata": {},
   "source": [
    "# Introduction"
   ]
  },
  {
   "cell_type": "markdown",
   "metadata": {},
   "source": [
    "The default pax output format is a ROOT file containing an event class, which is fully documented [here](http://xenon1t.github.io/pax/format.html). While you could analyze this with TTree.Draw(...) (in python or C++), this has several disadvantages:\n",
    "  * You never get access to the actual values of the data;\n",
    "  * It is difficult to compute things that are not directly in the tree;\n",
    "  * You need to re-loop over the data every time you want to make a new plot.\n",
    "\n",
    "You can get much more flexibility by looping over the events in the ROOT file(s) you want to analyze: we will cover this in section ... below. However, looping over all the ROOT events every time you want to adjust a plot or cut is still very inconvenient.\n",
    "\n",
    "To extract data, hax lets you make **mini-trees**, small, flat ROOT files which contain just the data you need for every event. Since a mini-tree is such a simple (tabular) structure, for python analyses you can read them into a [pandas DataFrame](http://pandas.pydata.org/pandas-docs/stable/10min.html), one of the most-used objects in data science. Since it's the fastest way to the data, we'll cover mini-trees first in the next section."
   ]
  },
  {
   "cell_type": "markdown",
   "metadata": {},
   "source": [
    "# Using mini-trees"
   ]
  },
  {
   "cell_type": "markdown",
   "metadata": {},
   "source": [
    "## Using standard data"
   ]
  },
  {
   "cell_type": "markdown",
   "metadata": {},
   "source": [
    "We prepared a basic minitree for you with most of the data you need for basic analyses:"
   ]
  },
  {
   "cell_type": "code",
   "execution_count": 5,
   "metadata": {
    "collapsed": false,
    "scrolled": true
   },
   "outputs": [
    {
     "name": "stdout",
     "output_type": "stream",
     "text": [
      "Found minitree at ./xe100_110530_1958_Basics.root\n",
      "Minitreefile ./xe100_110530_1958_Basics.root is outdated (version 0.0.1, treemaker is version 0.0.2), will be recreated\n",
      "Created minitree Basics for dataset xe100_110530_1958\n"
     ]
    },
    {
     "data": {
      "text/html": [
       "<div>\n",
       "<table border=\"1\" class=\"dataframe\">\n",
       "  <thead>\n",
       "    <tr style=\"text-align: right;\">\n",
       "      <th></th>\n",
       "      <th>index</th>\n",
       "      <th>cs1</th>\n",
       "      <th>cs2</th>\n",
       "      <th>dataset_number</th>\n",
       "      <th>drift_time</th>\n",
       "      <th>event_number</th>\n",
       "      <th>event_time</th>\n",
       "      <th>largest_coincidence</th>\n",
       "      <th>largest_other_s1</th>\n",
       "      <th>largest_other_s2</th>\n",
       "      <th>largest_unknown</th>\n",
       "      <th>largest_veto</th>\n",
       "      <th>s1</th>\n",
       "      <th>s1_area_fraction_top</th>\n",
       "      <th>s2</th>\n",
       "      <th>s2_area_fraction_top</th>\n",
       "      <th>x</th>\n",
       "      <th>y</th>\n",
       "      <th>z</th>\n",
       "    </tr>\n",
       "  </thead>\n",
       "  <tbody>\n",
       "    <tr>\n",
       "      <th>0</th>\n",
       "      <td>0</td>\n",
       "      <td>477.391961</td>\n",
       "      <td>128536.270004</td>\n",
       "      <td>1105301958</td>\n",
       "      <td>18560.255859</td>\n",
       "      <td>0</td>\n",
       "      <td>1306778313145377024</td>\n",
       "      <td>0</td>\n",
       "      <td>0.000000</td>\n",
       "      <td>136.918640</td>\n",
       "      <td>0</td>\n",
       "      <td>0.000000</td>\n",
       "      <td>306.278137</td>\n",
       "      <td>0.274506</td>\n",
       "      <td>123342.62500</td>\n",
       "      <td>0.430123</td>\n",
       "      <td>14.383018</td>\n",
       "      <td>4.171698</td>\n",
       "      <td>-3.210924</td>\n",
       "    </tr>\n",
       "    <tr>\n",
       "      <th>1</th>\n",
       "      <td>1</td>\n",
       "      <td>199.956295</td>\n",
       "      <td>66727.368658</td>\n",
       "      <td>1105301958</td>\n",
       "      <td>4721.089355</td>\n",
       "      <td>1</td>\n",
       "      <td>1306778313288721920</td>\n",
       "      <td>0</td>\n",
       "      <td>0.000000</td>\n",
       "      <td>3963.114502</td>\n",
       "      <td>0</td>\n",
       "      <td>24.656057</td>\n",
       "      <td>127.991539</td>\n",
       "      <td>0.216450</td>\n",
       "      <td>66030.96875</td>\n",
       "      <td>0.530545</td>\n",
       "      <td>0.933962</td>\n",
       "      <td>-15.130189</td>\n",
       "      <td>-0.816748</td>\n",
       "    </tr>\n",
       "    <tr>\n",
       "      <th>2</th>\n",
       "      <td>2</td>\n",
       "      <td>1299.233326</td>\n",
       "      <td>339231.761248</td>\n",
       "      <td>1105301958</td>\n",
       "      <td>29322.435547</td>\n",
       "      <td>2</td>\n",
       "      <td>1306778313300498944</td>\n",
       "      <td>0</td>\n",
       "      <td>0.000000</td>\n",
       "      <td>1512.444702</td>\n",
       "      <td>0</td>\n",
       "      <td>0.000000</td>\n",
       "      <td>911.779480</td>\n",
       "      <td>0.253336</td>\n",
       "      <td>317831.87500</td>\n",
       "      <td>0.349427</td>\n",
       "      <td>11.394340</td>\n",
       "      <td>4.918868</td>\n",
       "      <td>-5.072782</td>\n",
       "    </tr>\n",
       "    <tr>\n",
       "      <th>3</th>\n",
       "      <td>3</td>\n",
       "      <td>NaN</td>\n",
       "      <td>NaN</td>\n",
       "      <td>1105301958</td>\n",
       "      <td>NaN</td>\n",
       "      <td>3</td>\n",
       "      <td>1306778313403453952</td>\n",
       "      <td>0</td>\n",
       "      <td>49.433250</td>\n",
       "      <td>0.000000</td>\n",
       "      <td>0</td>\n",
       "      <td>102.311050</td>\n",
       "      <td>NaN</td>\n",
       "      <td>NaN</td>\n",
       "      <td>NaN</td>\n",
       "      <td>NaN</td>\n",
       "      <td>NaN</td>\n",
       "      <td>NaN</td>\n",
       "      <td>NaN</td>\n",
       "    </tr>\n",
       "    <tr>\n",
       "      <th>4</th>\n",
       "      <td>4</td>\n",
       "      <td>1468.353984</td>\n",
       "      <td>296910.855894</td>\n",
       "      <td>1105301958</td>\n",
       "      <td>57292.550781</td>\n",
       "      <td>4</td>\n",
       "      <td>1306778313450078976</td>\n",
       "      <td>0</td>\n",
       "      <td>8.541566</td>\n",
       "      <td>53734.089844</td>\n",
       "      <td>0</td>\n",
       "      <td>0.000000</td>\n",
       "      <td>1211.147461</td>\n",
       "      <td>0.215278</td>\n",
       "      <td>261416.56250</td>\n",
       "      <td>0.388068</td>\n",
       "      <td>5.416981</td>\n",
       "      <td>5.666038</td>\n",
       "      <td>-9.911612</td>\n",
       "    </tr>\n",
       "  </tbody>\n",
       "</table>\n",
       "</div>"
      ],
      "text/plain": [
       "   index          cs1            cs2  dataset_number    drift_time  \\\n",
       "0      0   477.391961  128536.270004      1105301958  18560.255859   \n",
       "1      1   199.956295   66727.368658      1105301958   4721.089355   \n",
       "2      2  1299.233326  339231.761248      1105301958  29322.435547   \n",
       "3      3          NaN            NaN      1105301958           NaN   \n",
       "4      4  1468.353984  296910.855894      1105301958  57292.550781   \n",
       "\n",
       "   event_number           event_time  largest_coincidence  largest_other_s1  \\\n",
       "0             0  1306778313145377024                    0          0.000000   \n",
       "1             1  1306778313288721920                    0          0.000000   \n",
       "2             2  1306778313300498944                    0          0.000000   \n",
       "3             3  1306778313403453952                    0         49.433250   \n",
       "4             4  1306778313450078976                    0          8.541566   \n",
       "\n",
       "   largest_other_s2  largest_unknown  largest_veto           s1  \\\n",
       "0        136.918640                0      0.000000   306.278137   \n",
       "1       3963.114502                0     24.656057   127.991539   \n",
       "2       1512.444702                0      0.000000   911.779480   \n",
       "3          0.000000                0    102.311050          NaN   \n",
       "4      53734.089844                0      0.000000  1211.147461   \n",
       "\n",
       "   s1_area_fraction_top            s2  s2_area_fraction_top          x  \\\n",
       "0              0.274506  123342.62500              0.430123  14.383018   \n",
       "1              0.216450   66030.96875              0.530545   0.933962   \n",
       "2              0.253336  317831.87500              0.349427  11.394340   \n",
       "3                   NaN           NaN                   NaN        NaN   \n",
       "4              0.215278  261416.56250              0.388068   5.416981   \n",
       "\n",
       "           y         z  \n",
       "0   4.171698 -3.210924  \n",
       "1 -15.130189 -0.816748  \n",
       "2   4.918868 -5.072782  \n",
       "3        NaN       NaN  \n",
       "4   5.666038 -9.911612  "
      ]
     },
     "execution_count": 5,
     "metadata": {},
     "output_type": "execute_result"
    }
   ],
   "source": [
    "dataset = 'xe100_110530_1958'\n",
    "data = hax.minitrees.load(dataset)\n",
    "data.head(5)"
   ]
  },
  {
   "cell_type": "markdown",
   "metadata": {},
   "source": [
    "This shows the 'Basics' minitree **whose variables and units are documented [here](http://hax.readthedocs.org/en/latest/hax.treemakers.html)**. Of course you can also make your own minitrees, which we'll discuss below."
   ]
  },
  {
   "cell_type": "markdown",
   "metadata": {},
   "source": [
    "Now that you have the information in a dataframe, analysis is easy:"
   ]
  },
  {
   "cell_type": "code",
   "execution_count": 6,
   "metadata": {
    "collapsed": false
   },
   "outputs": [
    {
     "data": {
      "image/png": "[encoded data removed]",
      "text/plain": [
       "<matplotlib.figure.Figure at 0x111ce8c88>"
      ]
     },
     "metadata": {},
     "output_type": "display_data"
    }
   ],
   "source": [
    "# Require a proper S1\n",
    "data = data[data['cs1'] > 0]\n",
    "\n",
    "# Make an S1 vs S2 histogram\n",
    "plt.hist2d(np.log10(data['cs1']), np.log10(data['cs2']),\n",
    "           bins=100, \n",
    "           norm=matplotlib.colors.LogNorm()   # Logarithmic color scale\n",
    ")\n",
    "plt.colorbar(label='Number of events')\n",
    "plt.xlabel('log10(cS1, pe)')\n",
    "plt.ylabel('log10(cS2, pe)')\n",
    "plt.show()"
   ]
  },
  {
   "cell_type": "markdown",
   "metadata": {},
   "source": [
    "## Getting your own data"
   ]
  },
  {
   "cell_type": "markdown",
   "metadata": {},
   "source": [
    "Naturally, this basic data is rarely enough to do your work! Fortunately, extracting your own data is easy. You write a small TreeMaker class defining just one function: `extract_data`. This takes an `event` (the pax/ROOT object documented [here](http://xenon1t.github.io/pax/format.html)) and returns a dictionary with the data you want to save for that event. \n",
    "\n",
    "(It's ok if the dictionary is not the same for every event, missing values will become NaNs)."
   ]
  },
  {
   "cell_type": "markdown",
   "metadata": {},
   "source": [
    "For example, suppose your are interested in the widths times two of the main S1 and S2. You can set up your TreeMaker like so:"
   ]
  },
  {
   "cell_type": "code",
   "execution_count": 7,
   "metadata": {
    "collapsed": false
   },
   "outputs": [],
   "source": [
    "class Peak2xWidthInfo(hax.minitrees.TreeMaker):\n",
    "    # Activate the required branch while reading in the ROOT file\n",
    "    # If you're too lazy to specify this, just put '*', but your TreeMaker will run slow!\n",
    "    extra_branches = ['peaks.hit_time_std']\n",
    "    __version__ = '0.0.2'\n",
    "    \n",
    "    def extract_data(self, event):\n",
    "        # If there are no interactions at all, we can't extract anything...\n",
    "        if not len(event.interactions):\n",
    "            return dict()\n",
    "        \n",
    "        # Get the main S1 and main S2\n",
    "        s1 = event.peaks[event.interactions[0].s1]\n",
    "        s2 = event.peaks[event.interactions[0].s2]\n",
    "        \n",
    "        return dict(s1_hit_time_std_2x=2 * s1.hit_time_std,\n",
    "                    s2_hit_time_std_2x=2 * s2.hit_time_std)"
   ]
  },
  {
   "cell_type": "markdown",
   "metadata": {},
   "source": [
    "Then you can read in data like this:"
   ]
  },
  {
   "cell_type": "code",
   "execution_count": 8,
   "metadata": {
    "collapsed": false
   },
   "outputs": [
    {
     "name": "stdout",
     "output_type": "stream",
     "text": [
      "Created minitree Peak2xWidthInfo for dataset xe100_110530_1958\n",
      "Found minitree at ./xe100_110530_1958_Basics.root\n"
     ]
    },
    {
     "data": {
      "text/html": [
       "<div>\n",
       "<table border=\"1\" class=\"dataframe\">\n",
       "  <thead>\n",
       "    <tr style=\"text-align: right;\">\n",
       "      <th></th>\n",
       "      <th>index</th>\n",
       "      <th>s1_hit_time_std_2x</th>\n",
       "      <th>s2_hit_time_std_2x</th>\n",
       "      <th>index</th>\n",
       "      <th>cs1</th>\n",
       "      <th>cs2</th>\n",
       "      <th>dataset_number</th>\n",
       "      <th>drift_time</th>\n",
       "      <th>event_number</th>\n",
       "      <th>event_time</th>\n",
       "      <th>...</th>\n",
       "      <th>largest_other_s2</th>\n",
       "      <th>largest_unknown</th>\n",
       "      <th>largest_veto</th>\n",
       "      <th>s1</th>\n",
       "      <th>s1_area_fraction_top</th>\n",
       "      <th>s2</th>\n",
       "      <th>s2_area_fraction_top</th>\n",
       "      <th>x</th>\n",
       "      <th>y</th>\n",
       "      <th>z</th>\n",
       "    </tr>\n",
       "  </thead>\n",
       "  <tbody>\n",
       "    <tr>\n",
       "      <th>0</th>\n",
       "      <td>0</td>\n",
       "      <td>49.121185</td>\n",
       "      <td>1349.051758</td>\n",
       "      <td>0</td>\n",
       "      <td>477.391961</td>\n",
       "      <td>128536.270004</td>\n",
       "      <td>1105301958</td>\n",
       "      <td>18560.255859</td>\n",
       "      <td>0</td>\n",
       "      <td>1306778313145377024</td>\n",
       "      <td>...</td>\n",
       "      <td>136.918640</td>\n",
       "      <td>0</td>\n",
       "      <td>0.000000</td>\n",
       "      <td>306.278137</td>\n",
       "      <td>0.274506</td>\n",
       "      <td>123342.62500</td>\n",
       "      <td>0.430123</td>\n",
       "      <td>14.383018</td>\n",
       "      <td>4.171698</td>\n",
       "      <td>-3.210924</td>\n",
       "    </tr>\n",
       "    <tr>\n",
       "      <th>1</th>\n",
       "      <td>1</td>\n",
       "      <td>63.692585</td>\n",
       "      <td>519.244751</td>\n",
       "      <td>1</td>\n",
       "      <td>199.956295</td>\n",
       "      <td>66727.368658</td>\n",
       "      <td>1105301958</td>\n",
       "      <td>4721.089355</td>\n",
       "      <td>1</td>\n",
       "      <td>1306778313288721920</td>\n",
       "      <td>...</td>\n",
       "      <td>3963.114502</td>\n",
       "      <td>0</td>\n",
       "      <td>24.656057</td>\n",
       "      <td>127.991539</td>\n",
       "      <td>0.216450</td>\n",
       "      <td>66030.96875</td>\n",
       "      <td>0.530545</td>\n",
       "      <td>0.933962</td>\n",
       "      <td>-15.130189</td>\n",
       "      <td>-0.816748</td>\n",
       "    </tr>\n",
       "    <tr>\n",
       "      <th>2</th>\n",
       "      <td>2</td>\n",
       "      <td>50.372303</td>\n",
       "      <td>2109.742188</td>\n",
       "      <td>2</td>\n",
       "      <td>1299.233326</td>\n",
       "      <td>339231.761248</td>\n",
       "      <td>1105301958</td>\n",
       "      <td>29322.435547</td>\n",
       "      <td>2</td>\n",
       "      <td>1306778313300498944</td>\n",
       "      <td>...</td>\n",
       "      <td>1512.444702</td>\n",
       "      <td>0</td>\n",
       "      <td>0.000000</td>\n",
       "      <td>911.779480</td>\n",
       "      <td>0.253336</td>\n",
       "      <td>317831.87500</td>\n",
       "      <td>0.349427</td>\n",
       "      <td>11.394340</td>\n",
       "      <td>4.918868</td>\n",
       "      <td>-5.072782</td>\n",
       "    </tr>\n",
       "    <tr>\n",
       "      <th>3</th>\n",
       "      <td>3</td>\n",
       "      <td>NaN</td>\n",
       "      <td>NaN</td>\n",
       "      <td>3</td>\n",
       "      <td>NaN</td>\n",
       "      <td>NaN</td>\n",
       "      <td>1105301958</td>\n",
       "      <td>NaN</td>\n",
       "      <td>3</td>\n",
       "      <td>1306778313403453952</td>\n",
       "      <td>...</td>\n",
       "      <td>0.000000</td>\n",
       "      <td>0</td>\n",
       "      <td>102.311050</td>\n",
       "      <td>NaN</td>\n",
       "      <td>NaN</td>\n",
       "      <td>NaN</td>\n",
       "      <td>NaN</td>\n",
       "      <td>NaN</td>\n",
       "      <td>NaN</td>\n",
       "      <td>NaN</td>\n",
       "    </tr>\n",
       "    <tr>\n",
       "      <th>4</th>\n",
       "      <td>4</td>\n",
       "      <td>45.174007</td>\n",
       "      <td>6009.468262</td>\n",
       "      <td>4</td>\n",
       "      <td>1468.353984</td>\n",
       "      <td>296910.855894</td>\n",
       "      <td>1105301958</td>\n",
       "      <td>57292.550781</td>\n",
       "      <td>4</td>\n",
       "      <td>1306778313450078976</td>\n",
       "      <td>...</td>\n",
       "      <td>53734.089844</td>\n",
       "      <td>0</td>\n",
       "      <td>0.000000</td>\n",
       "      <td>1211.147461</td>\n",
       "      <td>0.215278</td>\n",
       "      <td>261416.56250</td>\n",
       "      <td>0.388068</td>\n",
       "      <td>5.416981</td>\n",
       "      <td>5.666038</td>\n",
       "      <td>-9.911612</td>\n",
       "    </tr>\n",
       "  </tbody>\n",
       "</table>\n",
       "<p>5 rows × 22 columns</p>\n",
       "</div>"
      ],
      "text/plain": [
       "   index  s1_hit_time_std_2x  s2_hit_time_std_2x  index          cs1  \\\n",
       "0      0           49.121185         1349.051758      0   477.391961   \n",
       "1      1           63.692585          519.244751      1   199.956295   \n",
       "2      2           50.372303         2109.742188      2  1299.233326   \n",
       "3      3                 NaN                 NaN      3          NaN   \n",
       "4      4           45.174007         6009.468262      4  1468.353984   \n",
       "\n",
       "             cs2  dataset_number    drift_time  event_number  \\\n",
       "0  128536.270004      1105301958  18560.255859             0   \n",
       "1   66727.368658      1105301958   4721.089355             1   \n",
       "2  339231.761248      1105301958  29322.435547             2   \n",
       "3            NaN      1105301958           NaN             3   \n",
       "4  296910.855894      1105301958  57292.550781             4   \n",
       "\n",
       "            event_time    ...     largest_other_s2  largest_unknown  \\\n",
       "0  1306778313145377024    ...           136.918640                0   \n",
       "1  1306778313288721920    ...          3963.114502                0   \n",
       "2  1306778313300498944    ...          1512.444702                0   \n",
       "3  1306778313403453952    ...             0.000000                0   \n",
       "4  1306778313450078976    ...         53734.089844                0   \n",
       "\n",
       "   largest_veto           s1  s1_area_fraction_top            s2  \\\n",
       "0      0.000000   306.278137              0.274506  123342.62500   \n",
       "1     24.656057   127.991539              0.216450   66030.96875   \n",
       "2      0.000000   911.779480              0.253336  317831.87500   \n",
       "3    102.311050          NaN                   NaN           NaN   \n",
       "4      0.000000  1211.147461              0.215278  261416.56250   \n",
       "\n",
       "   s2_area_fraction_top          x          y         z  \n",
       "0              0.430123  14.383018   4.171698 -3.210924  \n",
       "1              0.530545   0.933962 -15.130189 -0.816748  \n",
       "2              0.349427  11.394340   4.918868 -5.072782  \n",
       "3                   NaN        NaN        NaN       NaN  \n",
       "4              0.388068   5.416981   5.666038 -9.911612  \n",
       "\n",
       "[5 rows x 22 columns]"
      ]
     },
     "execution_count": 8,
     "metadata": {},
     "output_type": "execute_result"
    }
   ],
   "source": [
    "data = hax.minitrees.load(dataset,\n",
    "                          [Peak2xWidthInfo, 'Basics'])\n",
    "data.head(5)"
   ]
  },
  {
   "cell_type": "markdown",
   "metadata": {},
   "source": [
    "Notice s1_hit_time_std and s2_hit_time_std are now part of the dataframe. While you ran the above cell, a file `xe100_120402_2000_Peak2xWidthInfo.root` was created in the current directory. The next time you run the cell, the information is taken from this file (which is extremely fast) instead of rebuilt from scratch.\n",
    "\n",
    "What if you change something in your TreeMaker? You can simply force load() to rebuild your tree:"
   ]
  },
  {
   "cell_type": "code",
   "execution_count": 9,
   "metadata": {
    "collapsed": false
   },
   "outputs": [
    {
     "name": "stdout",
     "output_type": "stream",
     "text": [
      "Found minitree at ./xe100_110530_1958_Peak2xWidthInfo.root\n",
      "Created minitree Peak2xWidthInfo for dataset xe100_110530_1958\n"
     ]
    }
   ],
   "source": [
    "data = hax.minitrees.load(dataset,\n",
    "                          Peak2xWidthInfo,\n",
    "                          force_reload=True)"
   ]
  },
  {
   "cell_type": "markdown",
   "metadata": {},
   "source": [
    "A gentler approach is to simply increment the version number of your TreeMaker.minitrees.load() will notice the minitrees are outdated and rebuild them. (try it!)"
   ]
  },
  {
   "cell_type": "markdown",
   "metadata": {},
   "source": [
    "# Looping over ROOT files"
   ]
  },
  {
   "cell_type": "markdown",
   "metadata": {},
   "source": [
    "If you don't like writing your own TreeMaker, or you just want to be 'closer to the ground', you can always just loop over each of the events in the ROOT files themselves. This takes just a few lines of code to setup (look up filename, get TFile, get tree, loop over entries, ....) but hax can save you this small trouble too.\n",
    "\n",
    "If you define a function, hax will take care of executing it over all events in (one or more) datasets:"
   ]
  },
  {
   "cell_type": "code",
   "execution_count": 10,
   "metadata": {
    "collapsed": false
   },
   "outputs": [
    {
     "name": "stdout",
     "output_type": "stream",
     "text": [
      "Help on function loop_over_dataset in module hax.looproot:\n",
      "\n",
      "loop_over_dataset(dataset, event_function=<function <lambda> at 0x10b69f950>, branch_selection='basic')\n",
      "    Execute event_function(event) over all events in the dataset\n",
      "    Does not return anything: you have to keep track of results yourself (global vars, function attrs, classes, ...)\n",
      "    branch selection: can be None (all branches are read), 'basic' (CONFIG['basic_branches'] are read), or a list of branches to read.\n",
      "\n"
     ]
    }
   ],
   "source": [
    "help(hax.looproot.loop_over_dataset)"
   ]
  },
  {
   "cell_type": "markdown",
   "metadata": {},
   "source": [
    "The 'event' your function gets is a pax/ROOT Event object documented [here](http://xenon1t.github.io/pax/format.html#event).\n",
    "\n",
    "Here is a small (and silly!) example that counts how many events have more than 4 S1s:"
   ]
  },
  {
   "cell_type": "code",
   "execution_count": 11,
   "metadata": {
    "collapsed": false
   },
   "outputs": [
    {
     "name": "stdout",
     "output_type": "stream",
     "text": [
      "We found 6 events with more than 4 S1s\n"
     ]
    }
   ],
   "source": [
    "counter = 0\n",
    "\n",
    "def count_many_s1s(event):\n",
    "    global counter   # Need this in pyton to modify variable outside of function\n",
    "    if len(event.s1s) > 4:\n",
    "        counter += 1\n",
    "\n",
    "hax.looproot.loop_over_datasets([dataset],\n",
    "                                count_many_s1s)\n",
    "print(\"We found %d events with more than 4 S1s\" % counter)"
   ]
  },
  {
   "cell_type": "markdown",
   "metadata": {},
   "source": [
    "Another silly example: find the first event whose main s1 area is 70 pe in some dark matter dataset:"
   ]
  },
  {
   "cell_type": "code",
   "execution_count": 12,
   "metadata": {
    "collapsed": false
   },
   "outputs": [
    {
     "name": "stdout",
     "output_type": "stream",
     "text": [
      "|----------| 4226/50000   8% [elapsed: 00:05 left: 01:02, 728.75 iters/sec]Event 4752 has a main S1 with area 69.55647277832031 pe\n"
     ]
    }
   ],
   "source": [
    "def find_s1_70pe(event):\n",
    "    if not len(event.interactions):\n",
    "        # Continues to the next event\n",
    "        # We're in a function, so need to do return rather than continue\n",
    "        return\n",
    "    main_interaction = event.interactions[0]\n",
    "    main_s1 = event.peaks[main_interaction.s1]\n",
    "    if np.round(main_s1.area) == 70:\n",
    "        print(\"Event %s has a main S1 with area %s pe\" % (event.event_number, main_s1.area))\n",
    "        raise hax.looproot.StopEventLoop    # Special magic that aborts the loop immediately\n",
    "\n",
    "hax.looproot.loop_over_dataset(dataset,\n",
    "                               find_s1_70pe)"
   ]
  },
  {
   "cell_type": "markdown",
   "metadata": {},
   "source": [
    "# Selecting datasets"
   ]
  },
  {
   "cell_type": "markdown",
   "metadata": {},
   "source": [
    "For any real analysis you'll want to select several datasets. In the future, hax will interface with the XENON1T run db for you. For now, it just loads some XENON100 runs info, and makes it available as a [pandas dataframe](http://pandas.pydata.org/pandas-docs/stable/10min.html) hax.runs.DATASETS.\n",
    "\n",
    "(Internally this loads a CSV file, which is copy-pasted from the wiki's runs database table. For now I've only done run 10. Of course for XENON1T we don't want a static csv file, but a connection to the real runs database.)"
   ]
  },
  {
   "cell_type": "markdown",
   "metadata": {},
   "source": [
    "Here's an example to get all standard AmBe datasets. Since DATASETS is a pandas DataFrame, you can use the 'query' method:"
   ]
  },
  {
   "cell_type": "code",
   "execution_count": 13,
   "metadata": {
    "collapsed": false,
    "scrolled": true
   },
   "outputs": [
    {
     "data": {
      "text/plain": [
       "array(['xe100_110210_1100', 'xe100_110210_1106', 'xe100_110210_1412',\n",
       "       'xe100_110210_1502', 'xe100_110210_1709', 'xe100_110210_1926',\n",
       "       'xe100_110210_2211', 'xe100_110210_2341', 'xe100_110211_0059',\n",
       "       'xe100_110211_0315', 'xe100_110211_0532', 'xe100_110211_0614',\n",
       "       'xe100_110211_0935', 'xe100_110211_1243', 'xe100_120402_1116',\n",
       "       'xe100_120402_1415', 'xe100_120402_1727', 'xe100_120402_2000',\n",
       "       'xe100_120402_2233', 'xe100_120403_0107', 'xe100_120403_0340',\n",
       "       'xe100_120403_0615', 'xe100_120403_0850', 'xe100_120403_1125',\n",
       "       'xe100_120403_1400', 'xe100_120403_1634', 'xe100_120403_1910',\n",
       "       'xe100_120403_2145', 'xe100_120404_0020', 'xe100_120404_0255',\n",
       "       'xe100_120404_0529', 'xe100_120404_0804'], dtype=object)"
      ]
     },
     "execution_count": 13,
     "metadata": {},
     "output_type": "execute_result"
    }
   ],
   "source": [
    "hax.runs.DATASETS.query('source == \"AmBe\" & category == \"standard\" & tpc == \"xenon100\"')['name'].values"
   ]
  },
  {
   "cell_type": "markdown",
   "metadata": {},
   "source": [
    "For more details on a particular dataset, use"
   ]
  },
  {
   "cell_type": "code",
   "execution_count": 14,
   "metadata": {
    "collapsed": false
   },
   "outputs": [
    {
     "data": {
      "text/plain": [
       "{'anode': 4.4000000000000004,\n",
       " 'category': 'standard',\n",
       " 'cathode': 16.0,\n",
       " 'comment': nan,\n",
       " 'corrected_events': 22091.0,\n",
       " 'corrected_livetime': 39603.300000000003,\n",
       " 'events': 32098,\n",
       " 'livetime': 39603.300000000003,\n",
       " 'name': 'xe100_120401_2201',\n",
       " 'position': 'other',\n",
       " 'processed': '0.4.5',\n",
       " 'run': '10',\n",
       " 'shield': 'closed',\n",
       " 'source': 'Dark Matter',\n",
       " 'tpc': 'xenon100',\n",
       " 'trigger': 'S1'}"
      ]
     },
     "execution_count": 14,
     "metadata": {},
     "output_type": "execute_result"
    }
   ],
   "source": [
    "hax.runs.get_dataset_info('xe100_120401_2201')"
   ]
  }
 ],
 "metadata": {
  "kernelspec": {
   "display_name": "Python 3",
   "language": "python",
   "name": "python3"
  },
  "language_info": {
   "codemirror_mode": {
    "name": "ipython",
    "version": 3
   },
   "file_extension": ".py",
   "mimetype": "text/x-python",
   "name": "python",
   "nbconvert_exporter": "python",
   "pygments_lexer": "ipython3",
   "version": "3.4.4"
  },
  "toc": {
   "toc_cell": true,
   "toc_number_sections": true,
   "toc_section_display": "block",
   "toc_threshold": 4,
   "toc_window_display": true
  }
 },
 "nbformat": 4,
 "nbformat_minor": 0
}
