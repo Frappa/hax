{
 "cells": [
  {
   "cell_type": "markdown",
   "metadata": {},
   "source": [
    "# Learn how to use hax\n",
    "\n",
    "Aalbers and Tunnell, Feburary 2016\n",
    "\n",
    "This tutorial describes how to use the basic functionality of the `hax` analysis library from python."
   ]
  },
  {
   "cell_type": "markdown",
   "metadata": {
    "toc": "true"
   },
   "source": [
    "# Table of Contents\n",
    " <p><div class=\"lev1\"><a href=\"#Learn-how-to-use-hax-1\"><span class=\"toc-item-num\">1&nbsp;&nbsp;</span>Learn how to use hax</a></div><div class=\"lev2\"><a href=\"#Introduction-1.1\"><span class=\"toc-item-num\">1.1&nbsp;&nbsp;</span>Introduction</a></div><div class=\"lev2\"><a href=\"#Boilerplate-startup-1.2\"><span class=\"toc-item-num\">1.2&nbsp;&nbsp;</span>Boilerplate startup</a></div><div class=\"lev1\"><a href=\"#Using-mini-trees-2\"><span class=\"toc-item-num\">2&nbsp;&nbsp;</span>Using mini-trees</a></div><div class=\"lev2\"><a href=\"#Using-standard-data-2.1\"><span class=\"toc-item-num\">2.1&nbsp;&nbsp;</span>Using standard data</a></div><div class=\"lev2\"><a href=\"#Selecting-your-own-variables-2.2\"><span class=\"toc-item-num\">2.2&nbsp;&nbsp;</span>Selecting your own variables</a></div><div class=\"lev1\"><a href=\"#Looping-over-ROOT-files-3\"><span class=\"toc-item-num\">3&nbsp;&nbsp;</span>Looping over ROOT files</a></div><div class=\"lev1\"><a href=\"#Selecting-datasets-4\"><span class=\"toc-item-num\">4&nbsp;&nbsp;</span>Selecting datasets</a></div>"
   ]
  },
  {
   "cell_type": "markdown",
   "metadata": {},
   "source": [
    "## Introduction"
   ]
  },
  {
   "cell_type": "markdown",
   "metadata": {},
   "source": [
    "The default pax output format is a ROOT file containing an event class, which is fully documented [here](http://xenon1t.github.io/pax/format.html). While you could analyze this with TTree.Draw (in python or C++), this has several disadvantages:\n",
    "  * You never get access to the actual values of the data;\n",
    "  * It is difficult to compute things that are not directly in the tree;\n",
    "  * You need to re-loop over the data every time you want to make a new plot.\n",
    "\n",
    "You can get much more flexibility by looping over the events in the ROOT file(s) you want to analyze (we will cover this in section 3 below). However, looping over all the ROOT events every time you want to adjust a plot or cut is still very inconvenient.\n",
    "\n",
    "To extract data, hax lets you make **mini-trees**, small, flat ROOT files which contain just the data you need for every event. Since a mini-tree is such a simple (tabular) structure, for python analyses you can read them into a [pandas DataFrame](http://pandas.pydata.org/pandas-docs/stable/10min.html), one of the most-used objects in data science. Since it's the fastest way to the data, we'll cover mini-trees in section 2."
   ]
  },
  {
   "cell_type": "markdown",
   "metadata": {},
   "source": [
    "## Boilerplate startup"
   ]
  },
  {
   "cell_type": "markdown",
   "metadata": {},
   "source": [
    "A jupyter notebook is a complete application, so you always need some startup code, which is usually the same across notebooks. In future we will hide this (since it isn't very exciting), but in case you are interested we go through it here.\n",
    "\n",
    "First, we importing the math library [numpy](https://en.wikipedia.org/wiki/NumPy)\n",
    "and the plotting library [matplotlib](https://en.wikipedia.org/wiki/Matplotlib):"
   ]
  },
  {
   "cell_type": "code",
   "execution_count": 1,
   "metadata": {
    "collapsed": false
   },
   "outputs": [],
   "source": [
    "import numpy as np\n",
    "import matplotlib\n",
    "import matplotlib.pyplot as plt"
   ]
  },
  {
   "cell_type": "markdown",
   "metadata": {},
   "source": [
    "The command below makes matplotlib plots actually appear in the notebook. By default they are meant to pop-up in a new window, but besides being very inconvenient, this doesn't work if you are accessing a notebook server remotely."
   ]
  },
  {
   "cell_type": "code",
   "execution_count": 2,
   "metadata": {
    "collapsed": true
   },
   "outputs": [],
   "source": [
    "%matplotlib inline "
   ]
  },
  {
   "cell_type": "markdown",
   "metadata": {},
   "source": [
    "Next, we set up a few more sensible defaults for matplotlib. In the future we can expand this to our very own XENON plot style..."
   ]
  },
  {
   "cell_type": "code",
   "execution_count": 3,
   "metadata": {
    "collapsed": true
   },
   "outputs": [],
   "source": [
    "matplotlib.rc('font', size=16)                   # Use big fonts...\n",
    "plt.rcParams['figure.figsize'] = (12.0, 10.0)    # ... and big plots"
   ]
  },
  {
   "cell_type": "markdown",
   "metadata": {},
   "source": [
    "Now it is time to import and intialize `hax`. This may give a \"ShimWarning\" which you can ignore (we're trying to get rid of this):"
   ]
  },
  {
   "cell_type": "code",
   "execution_count": 4,
   "metadata": {
    "collapsed": false,
    "scrolled": true
   },
   "outputs": [
    {
     "name": "stderr",
     "output_type": "stream",
     "text": [
      "/home/jelle/anaconda3/envs/pax/lib/python3.4/site-packages/IPython/kernel/__init__.py:13: ShimWarning: The `IPython.kernel` package has been deprecated. You should import from ipykernel or jupyter_client instead.\n",
      "  \"You should import from ipykernel or jupyter_client instead.\", ShimWarning)\n"
     ]
    }
   ],
   "source": [
    "import hax\n",
    "hax.init()"
   ]
  },
  {
   "cell_type": "markdown",
   "metadata": {},
   "source": [
    "You may want to set some special the hax configuration options. For example, use:\n",
    "\n",
    "    hax.init(main_data_paths=['/path/to/my/secret/data'])\n",
    "    \n",
    "to look for datasets in `/path/to/my/secret/data`."
   ]
  },
  {
   "cell_type": "markdown",
   "metadata": {},
   "source": [
    "# Using mini-trees"
   ]
  },
  {
   "cell_type": "markdown",
   "metadata": {},
   "source": [
    "## Using standard data"
   ]
  },
  {
   "cell_type": "markdown",
   "metadata": {},
   "source": [
    "For basic analyses, you need only some very basic data (s1, s2, positions, etc). You can load this in as follows:"
   ]
  },
  {
   "cell_type": "code",
   "execution_count": 10,
   "metadata": {
    "collapsed": false
   },
   "outputs": [
    {
     "name": "stderr",
     "output_type": "stream",
     "text": [
      "WARNING:hax.paxroot:Root file /mnt/xecluster/archive_lngs/common/PaxReprocessed_9/good/xe100_120404_0804.root does not include pax event class. Normal for pax < 4.5.Falling back to event class for pax 430\n",
      "                                                       "
     ]
    },
    {
     "name": "stdout",
     "output_type": "stream",
     "text": [
      "Created minitree Basics for dataset xe100_120404_0804\n"
     ]
    },
    {
     "name": "stderr",
     "output_type": "stream",
     "text": [
      "\r"
     ]
    }
   ],
   "source": [
    "dataset = 'xe100_120404_0804'\n",
    "data = hax.minitrees.load(dataset)"
   ]
  },
  {
   "cell_type": "markdown",
   "metadata": {},
   "source": [
    "You have now loaded in a dataframe with info from the 'Basics' minitree. The **variables and units are documented [here](http://hax.readthedocs.org/en/latest/hax.treemakers.html)**; we can get an overview like so:"
   ]
  },
  {
   "cell_type": "code",
   "execution_count": 11,
   "metadata": {
    "collapsed": false,
    "scrolled": true
   },
   "outputs": [
    {
     "data": {
      "text/html": [
       "<div>\n",
       "<table border=\"1\" class=\"dataframe\">\n",
       "  <thead>\n",
       "    <tr style=\"text-align: right;\">\n",
       "      <th></th>\n",
       "      <th>index</th>\n",
       "      <th>cs1</th>\n",
       "      <th>cs2</th>\n",
       "      <th>dataset_number</th>\n",
       "      <th>drift_time</th>\n",
       "      <th>event_number</th>\n",
       "      <th>event_time</th>\n",
       "      <th>largest_coincidence</th>\n",
       "      <th>largest_other_s1</th>\n",
       "      <th>largest_other_s2</th>\n",
       "      <th>largest_unknown</th>\n",
       "      <th>largest_veto</th>\n",
       "      <th>s1</th>\n",
       "      <th>s1_area_fraction_top</th>\n",
       "      <th>s2</th>\n",
       "      <th>s2_area_fraction_top</th>\n",
       "      <th>x</th>\n",
       "      <th>y</th>\n",
       "      <th>z</th>\n",
       "    </tr>\n",
       "  </thead>\n",
       "  <tbody>\n",
       "    <tr>\n",
       "      <th>0</th>\n",
       "      <td>0</td>\n",
       "      <td>NaN</td>\n",
       "      <td>NaN</td>\n",
       "      <td>1204040804</td>\n",
       "      <td>NaN</td>\n",
       "      <td>0</td>\n",
       "      <td>1333519471085856000</td>\n",
       "      <td>0</td>\n",
       "      <td>0</td>\n",
       "      <td>76.219124</td>\n",
       "      <td>0</td>\n",
       "      <td>0.000000</td>\n",
       "      <td>NaN</td>\n",
       "      <td>NaN</td>\n",
       "      <td>NaN</td>\n",
       "      <td>NaN</td>\n",
       "      <td>NaN</td>\n",
       "      <td>NaN</td>\n",
       "      <td>NaN</td>\n",
       "    </tr>\n",
       "    <tr>\n",
       "      <th>1</th>\n",
       "      <td>1</td>\n",
       "      <td>103.911044</td>\n",
       "      <td>23505.767691</td>\n",
       "      <td>1204040804</td>\n",
       "      <td>39654.324219</td>\n",
       "      <td>1</td>\n",
       "      <td>1333519471119915008</td>\n",
       "      <td>0</td>\n",
       "      <td>0</td>\n",
       "      <td>184.523788</td>\n",
       "      <td>0</td>\n",
       "      <td>5.619877</td>\n",
       "      <td>75.097275</td>\n",
       "      <td>0.241148</td>\n",
       "      <td>21523.064453</td>\n",
       "      <td>0.579082</td>\n",
       "      <td>2.926415</td>\n",
       "      <td>9.900000</td>\n",
       "      <td>-6.860198</td>\n",
       "    </tr>\n",
       "    <tr>\n",
       "      <th>2</th>\n",
       "      <td>2</td>\n",
       "      <td>NaN</td>\n",
       "      <td>NaN</td>\n",
       "      <td>1204040804</td>\n",
       "      <td>NaN</td>\n",
       "      <td>2</td>\n",
       "      <td>1333519471141560064</td>\n",
       "      <td>0</td>\n",
       "      <td>0</td>\n",
       "      <td>490.603546</td>\n",
       "      <td>0</td>\n",
       "      <td>0.000000</td>\n",
       "      <td>NaN</td>\n",
       "      <td>NaN</td>\n",
       "      <td>NaN</td>\n",
       "      <td>NaN</td>\n",
       "      <td>NaN</td>\n",
       "      <td>NaN</td>\n",
       "      <td>NaN</td>\n",
       "    </tr>\n",
       "    <tr>\n",
       "      <th>3</th>\n",
       "      <td>3</td>\n",
       "      <td>47.108560</td>\n",
       "      <td>2698.724570</td>\n",
       "      <td>1204040804</td>\n",
       "      <td>96337.296875</td>\n",
       "      <td>3</td>\n",
       "      <td>1333519471226626048</td>\n",
       "      <td>0</td>\n",
       "      <td>0</td>\n",
       "      <td>2118.838135</td>\n",
       "      <td>0</td>\n",
       "      <td>0.000000</td>\n",
       "      <td>49.550488</td>\n",
       "      <td>0.170977</td>\n",
       "      <td>2178.630371</td>\n",
       "      <td>0.560256</td>\n",
       "      <td>1.183019</td>\n",
       "      <td>6.537736</td>\n",
       "      <td>-16.666353</td>\n",
       "    </tr>\n",
       "    <tr>\n",
       "      <th>4</th>\n",
       "      <td>4</td>\n",
       "      <td>3.915421</td>\n",
       "      <td>287.135384</td>\n",
       "      <td>1204040804</td>\n",
       "      <td>51620.585938</td>\n",
       "      <td>4</td>\n",
       "      <td>1333519471326071040</td>\n",
       "      <td>0</td>\n",
       "      <td>0</td>\n",
       "      <td>131.137604</td>\n",
       "      <td>0</td>\n",
       "      <td>5.314155</td>\n",
       "      <td>3.197335</td>\n",
       "      <td>0.000000</td>\n",
       "      <td>256.016388</td>\n",
       "      <td>0.571527</td>\n",
       "      <td>3.549057</td>\n",
       "      <td>-5.292453</td>\n",
       "      <td>-8.930361</td>\n",
       "    </tr>\n",
       "  </tbody>\n",
       "</table>\n",
       "</div>"
      ],
      "text/plain": [
       "   index         cs1           cs2  dataset_number    drift_time  \\\n",
       "0      0         NaN           NaN      1204040804           NaN   \n",
       "1      1  103.911044  23505.767691      1204040804  39654.324219   \n",
       "2      2         NaN           NaN      1204040804           NaN   \n",
       "3      3   47.108560   2698.724570      1204040804  96337.296875   \n",
       "4      4    3.915421    287.135384      1204040804  51620.585938   \n",
       "\n",
       "   event_number           event_time  largest_coincidence  largest_other_s1  \\\n",
       "0             0  1333519471085856000                    0                 0   \n",
       "1             1  1333519471119915008                    0                 0   \n",
       "2             2  1333519471141560064                    0                 0   \n",
       "3             3  1333519471226626048                    0                 0   \n",
       "4             4  1333519471326071040                    0                 0   \n",
       "\n",
       "   largest_other_s2  largest_unknown  largest_veto         s1  \\\n",
       "0         76.219124                0      0.000000        NaN   \n",
       "1        184.523788                0      5.619877  75.097275   \n",
       "2        490.603546                0      0.000000        NaN   \n",
       "3       2118.838135                0      0.000000  49.550488   \n",
       "4        131.137604                0      5.314155   3.197335   \n",
       "\n",
       "   s1_area_fraction_top            s2  s2_area_fraction_top         x  \\\n",
       "0                   NaN           NaN                   NaN       NaN   \n",
       "1              0.241148  21523.064453              0.579082  2.926415   \n",
       "2                   NaN           NaN                   NaN       NaN   \n",
       "3              0.170977   2178.630371              0.560256  1.183019   \n",
       "4              0.000000    256.016388              0.571527  3.549057   \n",
       "\n",
       "          y          z  \n",
       "0       NaN        NaN  \n",
       "1  9.900000  -6.860198  \n",
       "2       NaN        NaN  \n",
       "3  6.537736 -16.666353  \n",
       "4 -5.292453  -8.930361  "
      ]
     },
     "execution_count": 11,
     "metadata": {},
     "output_type": "execute_result"
    }
   ],
   "source": [
    "data.head(5)"
   ]
  },
  {
   "cell_type": "markdown",
   "metadata": {},
   "source": [
    "Of course you can also make your own minitrees, which we'll discuss below. On disk a minitree is a root file with one branch per column in the table shown above. You could, for example, load this together with the main data tree and friend them, but we will not explore this here.\n",
    "\n",
    "Now that you have the information in a dataframe, analysis is easy:"
   ]
  },
  {
   "cell_type": "code",
   "execution_count": 12,
   "metadata": {
    "collapsed": false
   },
   "outputs": [
    {
     "data": {
      "image/png": "[encoded data removed]",
      "text/plain": [
       "<matplotlib.figure.Figure at 0x7fc55c2f8a20>"
      ]
     },
     "metadata": {},
     "output_type": "display_data"
    }
   ],
   "source": [
    "# Require a proper S1\n",
    "data = data[data['cs1'] > 0]\n",
    "\n",
    "# Make an S1 vs S2 histogram\n",
    "plt.hist2d(np.log10(data['cs1']), np.log10(data['cs2']),\n",
    "           bins=100, \n",
    "           norm=matplotlib.colors.LogNorm()   # Logarithmic color scale\n",
    ")\n",
    "plt.colorbar(label='Number of events')\n",
    "plt.xlabel('log10(cS1, pe)')\n",
    "plt.ylabel('log10(cS2, pe)')\n",
    "plt.show()"
   ]
  },
  {
   "cell_type": "markdown",
   "metadata": {},
   "source": [
    "## Selecting your own variables"
   ]
  },
  {
   "cell_type": "markdown",
   "metadata": {},
   "source": [
    "The basic data won't be enough to do all your work. Fortunately, extracting your own minitree with more data is easy: you write a small TreeMaker class defining just one function: `extract_data`. This takes an `event` (the pax/ROOT object documented [here](http://xenon1t.github.io/pax/format.html)) and returns a dictionary with the data you want to save for that event. \n",
    "\n",
    "(It's ok if the dictionary is not the same for every event, missing values will become NaNs)."
   ]
  },
  {
   "cell_type": "markdown",
   "metadata": {},
   "source": [
    "For example, suppose your are interested in the number of hits in the main S1 and S2. You can set up your TreeMaker like so:"
   ]
  },
  {
   "cell_type": "code",
   "execution_count": 13,
   "metadata": {
    "collapsed": false
   },
   "outputs": [],
   "source": [
    "class HitsInMainPeaks(hax.minitrees.TreeMaker):\n",
    "    # Activate the required branch while reading in the ROOT file\n",
    "    # If you're too lazy to specify this, just put '*', but your TreeMaker will run slow!\n",
    "    extra_branches = ['peaks.n_hits']\n",
    "    __version__ = '0.0.1'\n",
    "    \n",
    "    def extract_data(self, event):\n",
    "        # If there are no interactions at all, we can't extract anything...\n",
    "        if not len(event.interactions):\n",
    "            return dict()\n",
    "        \n",
    "        # Get the main S1 and main S2\n",
    "        s1 = event.peaks[event.interactions[0].s1]\n",
    "        s2 = event.peaks[event.interactions[0].s2]\n",
    "        \n",
    "        return dict(s1_n_hits=s1.n_hits,\n",
    "                    s2_n_hits=s2.n_hits)"
   ]
  },
  {
   "cell_type": "markdown",
   "metadata": {},
   "source": [
    "Then you can read in data like this:"
   ]
  },
  {
   "cell_type": "code",
   "execution_count": 14,
   "metadata": {
    "collapsed": false
   },
   "outputs": [
    {
     "name": "stderr",
     "output_type": "stream",
     "text": [
      "WARNING:hax.paxroot:Root file /mnt/xecluster/archive_lngs/common/PaxReprocessed_9/good/xe100_120404_0804.root does not include pax event class. Normal for pax < 4.5.Falling back to event class for pax 430\n",
      "                                                      "
     ]
    },
    {
     "name": "stdout",
     "output_type": "stream",
     "text": [
      "Created minitree HitsInMainPeaks for dataset xe100_120404_0804\n",
      "Found minitree at ./xe100_120404_0804_Basics.root\n"
     ]
    },
    {
     "name": "stderr",
     "output_type": "stream",
     "text": [
      "\r"
     ]
    },
    {
     "data": {
      "text/html": [
       "<div>\n",
       "<table border=\"1\" class=\"dataframe\">\n",
       "  <thead>\n",
       "    <tr style=\"text-align: right;\">\n",
       "      <th></th>\n",
       "      <th>index</th>\n",
       "      <th>s1_n_hits</th>\n",
       "      <th>s2_n_hits</th>\n",
       "      <th>index</th>\n",
       "      <th>cs1</th>\n",
       "      <th>cs2</th>\n",
       "      <th>dataset_number</th>\n",
       "      <th>drift_time</th>\n",
       "      <th>event_number</th>\n",
       "      <th>event_time</th>\n",
       "      <th>...</th>\n",
       "      <th>largest_other_s2</th>\n",
       "      <th>largest_unknown</th>\n",
       "      <th>largest_veto</th>\n",
       "      <th>s1</th>\n",
       "      <th>s1_area_fraction_top</th>\n",
       "      <th>s2</th>\n",
       "      <th>s2_area_fraction_top</th>\n",
       "      <th>x</th>\n",
       "      <th>y</th>\n",
       "      <th>z</th>\n",
       "    </tr>\n",
       "  </thead>\n",
       "  <tbody>\n",
       "    <tr>\n",
       "      <th>0</th>\n",
       "      <td>0</td>\n",
       "      <td>NaN</td>\n",
       "      <td>NaN</td>\n",
       "      <td>0</td>\n",
       "      <td>NaN</td>\n",
       "      <td>NaN</td>\n",
       "      <td>1204040804</td>\n",
       "      <td>NaN</td>\n",
       "      <td>0</td>\n",
       "      <td>1333519471085856000</td>\n",
       "      <td>...</td>\n",
       "      <td>76.219124</td>\n",
       "      <td>0</td>\n",
       "      <td>0.000000</td>\n",
       "      <td>NaN</td>\n",
       "      <td>NaN</td>\n",
       "      <td>NaN</td>\n",
       "      <td>NaN</td>\n",
       "      <td>NaN</td>\n",
       "      <td>NaN</td>\n",
       "      <td>NaN</td>\n",
       "    </tr>\n",
       "    <tr>\n",
       "      <th>1</th>\n",
       "      <td>1</td>\n",
       "      <td>44</td>\n",
       "      <td>1489</td>\n",
       "      <td>1</td>\n",
       "      <td>103.911044</td>\n",
       "      <td>23505.767691</td>\n",
       "      <td>1204040804</td>\n",
       "      <td>39654.324219</td>\n",
       "      <td>1</td>\n",
       "      <td>1333519471119915008</td>\n",
       "      <td>...</td>\n",
       "      <td>184.523788</td>\n",
       "      <td>0</td>\n",
       "      <td>5.619877</td>\n",
       "      <td>75.097275</td>\n",
       "      <td>0.241148</td>\n",
       "      <td>21523.064453</td>\n",
       "      <td>0.579082</td>\n",
       "      <td>2.926415</td>\n",
       "      <td>9.900000</td>\n",
       "      <td>-6.860198</td>\n",
       "    </tr>\n",
       "    <tr>\n",
       "      <th>2</th>\n",
       "      <td>2</td>\n",
       "      <td>NaN</td>\n",
       "      <td>NaN</td>\n",
       "      <td>2</td>\n",
       "      <td>NaN</td>\n",
       "      <td>NaN</td>\n",
       "      <td>1204040804</td>\n",
       "      <td>NaN</td>\n",
       "      <td>2</td>\n",
       "      <td>1333519471141560064</td>\n",
       "      <td>...</td>\n",
       "      <td>490.603546</td>\n",
       "      <td>0</td>\n",
       "      <td>0.000000</td>\n",
       "      <td>NaN</td>\n",
       "      <td>NaN</td>\n",
       "      <td>NaN</td>\n",
       "      <td>NaN</td>\n",
       "      <td>NaN</td>\n",
       "      <td>NaN</td>\n",
       "      <td>NaN</td>\n",
       "    </tr>\n",
       "    <tr>\n",
       "      <th>3</th>\n",
       "      <td>3</td>\n",
       "      <td>28</td>\n",
       "      <td>877</td>\n",
       "      <td>3</td>\n",
       "      <td>47.108560</td>\n",
       "      <td>2698.724570</td>\n",
       "      <td>1204040804</td>\n",
       "      <td>96337.296875</td>\n",
       "      <td>3</td>\n",
       "      <td>1333519471226626048</td>\n",
       "      <td>...</td>\n",
       "      <td>2118.838135</td>\n",
       "      <td>0</td>\n",
       "      <td>0.000000</td>\n",
       "      <td>49.550488</td>\n",
       "      <td>0.170977</td>\n",
       "      <td>2178.630371</td>\n",
       "      <td>0.560256</td>\n",
       "      <td>1.183019</td>\n",
       "      <td>6.537736</td>\n",
       "      <td>-16.666353</td>\n",
       "    </tr>\n",
       "    <tr>\n",
       "      <th>4</th>\n",
       "      <td>4</td>\n",
       "      <td>2</td>\n",
       "      <td>176</td>\n",
       "      <td>4</td>\n",
       "      <td>3.915421</td>\n",
       "      <td>287.135384</td>\n",
       "      <td>1204040804</td>\n",
       "      <td>51620.585938</td>\n",
       "      <td>4</td>\n",
       "      <td>1333519471326071040</td>\n",
       "      <td>...</td>\n",
       "      <td>131.137604</td>\n",
       "      <td>0</td>\n",
       "      <td>5.314155</td>\n",
       "      <td>3.197335</td>\n",
       "      <td>0.000000</td>\n",
       "      <td>256.016388</td>\n",
       "      <td>0.571527</td>\n",
       "      <td>3.549057</td>\n",
       "      <td>-5.292453</td>\n",
       "      <td>-8.930361</td>\n",
       "    </tr>\n",
       "  </tbody>\n",
       "</table>\n",
       "<p>5 rows × 22 columns</p>\n",
       "</div>"
      ],
      "text/plain": [
       "   index  s1_n_hits  s2_n_hits  index         cs1           cs2  \\\n",
       "0      0        NaN        NaN      0         NaN           NaN   \n",
       "1      1         44       1489      1  103.911044  23505.767691   \n",
       "2      2        NaN        NaN      2         NaN           NaN   \n",
       "3      3         28        877      3   47.108560   2698.724570   \n",
       "4      4          2        176      4    3.915421    287.135384   \n",
       "\n",
       "   dataset_number    drift_time  event_number           event_time    ...      \\\n",
       "0      1204040804           NaN             0  1333519471085856000    ...       \n",
       "1      1204040804  39654.324219             1  1333519471119915008    ...       \n",
       "2      1204040804           NaN             2  1333519471141560064    ...       \n",
       "3      1204040804  96337.296875             3  1333519471226626048    ...       \n",
       "4      1204040804  51620.585938             4  1333519471326071040    ...       \n",
       "\n",
       "   largest_other_s2  largest_unknown  largest_veto         s1  \\\n",
       "0         76.219124                0      0.000000        NaN   \n",
       "1        184.523788                0      5.619877  75.097275   \n",
       "2        490.603546                0      0.000000        NaN   \n",
       "3       2118.838135                0      0.000000  49.550488   \n",
       "4        131.137604                0      5.314155   3.197335   \n",
       "\n",
       "   s1_area_fraction_top            s2  s2_area_fraction_top         x  \\\n",
       "0                   NaN           NaN                   NaN       NaN   \n",
       "1              0.241148  21523.064453              0.579082  2.926415   \n",
       "2                   NaN           NaN                   NaN       NaN   \n",
       "3              0.170977   2178.630371              0.560256  1.183019   \n",
       "4              0.000000    256.016388              0.571527  3.549057   \n",
       "\n",
       "          y          z  \n",
       "0       NaN        NaN  \n",
       "1  9.900000  -6.860198  \n",
       "2       NaN        NaN  \n",
       "3  6.537736 -16.666353  \n",
       "4 -5.292453  -8.930361  \n",
       "\n",
       "[5 rows x 22 columns]"
      ]
     },
     "execution_count": 14,
     "metadata": {},
     "output_type": "execute_result"
    }
   ],
   "source": [
    "data = hax.minitrees.load(dataset, treemakers=[HitsInMainPeaks, 'Basics'])\n",
    "data.head(5)"
   ]
  },
  {
   "cell_type": "markdown",
   "metadata": {},
   "source": [
    "Notice s1_n_hits and s2_n_hits are now part of the dataframe. While you ran the above cell, a file `xe100_120402_2000_s2_n_hits.root` was created in the current directory. The next time you run the cell, the information is taken from this file (which is extremely fast) instead of rebuilt from scratch (which was still pretty fast).\n",
    "\n",
    "What if you change something in your TreeMaker? You can simply force load() to rebuild your tree:"
   ]
  },
  {
   "cell_type": "code",
   "execution_count": 15,
   "metadata": {
    "collapsed": false
   },
   "outputs": [
    {
     "name": "stderr",
     "output_type": "stream",
     "text": [
      "WARNING:hax.paxroot:Root file /mnt/xecluster/archive_lngs/common/PaxReprocessed_9/good/xe100_120404_0804.root does not include pax event class. Normal for pax < 4.5.Falling back to event class for pax 430\n",
      "                                                        "
     ]
    },
    {
     "name": "stdout",
     "output_type": "stream",
     "text": [
      "Found minitree at ./xe100_120404_0804_HitsInMainPeaks.root\n",
      "Created minitree HitsInMainPeaks for dataset xe100_120404_0804\n"
     ]
    },
    {
     "name": "stderr",
     "output_type": "stream",
     "text": [
      "\r"
     ]
    }
   ],
   "source": [
    "data = hax.minitrees.load(dataset, treemakers=HitsInMainPeaks, force_reload=True)"
   ]
  },
  {
   "cell_type": "markdown",
   "metadata": {},
   "source": [
    "A gentler approach is to simply increment the version number of your TreeMaker. `hax` will notice the minitrees are outdated and rebuild them when you try to load your data. (try it!)"
   ]
  },
  {
   "cell_type": "markdown",
   "metadata": {},
   "source": [
    "# Looping over ROOT files"
   ]
  },
  {
   "cell_type": "markdown",
   "metadata": {},
   "source": [
    "If you don't like writing your own TreeMaker, or you just want to be 'closer to the ground', you can always just loop over each of the events in the ROOT files themselves. This takes just a few lines of code to setup (look up filename, get TFile, get tree, loop over entries, ....) but hax can save you this small trouble too.\n",
    "\n",
    "If you define a function, hax will take care of executing it over all events in (one or more) datasets:"
   ]
  },
  {
   "cell_type": "code",
   "execution_count": 17,
   "metadata": {
    "collapsed": false
   },
   "outputs": [
    {
     "name": "stdout",
     "output_type": "stream",
     "text": [
      "Help on function loop_over_datasets in module hax.paxroot:\n",
      "\n",
      "loop_over_datasets(datasets_names, event_function=<function <lambda> at 0x7fc567957ea0>, branch_selection='basic')\n",
      "    Execute event_function(event) over all events in the dataset(s)\n",
      "    Does not return anything: you have to keep track of results yourself (global vars, function attrs, classes, ...)\n",
      "    branch selection: can be None (all branches are read), 'basic' (CONFIG['basic_branches'] are read), or a list of branches to read.\n",
      "\n"
     ]
    }
   ],
   "source": [
    "help(hax.paxroot.loop_over_dataset)"
   ]
  },
  {
   "cell_type": "markdown",
   "metadata": {},
   "source": [
    "The 'event' your function gets is a pax/ROOT Event object documented [here](http://xenon1t.github.io/pax/format.html#event).\n",
    "\n",
    "Here is a small (and silly!) example that counts how many events have more than 4 S1s:"
   ]
  },
  {
   "cell_type": "code",
   "execution_count": 18,
   "metadata": {
    "collapsed": false
   },
   "outputs": [
    {
     "name": "stderr",
     "output_type": "stream",
     "text": [
      "WARNING:hax.paxroot:Root file /mnt/xecluster/archive_lngs/common/PaxReprocessed_9/good/xe100_120404_0804.root does not include pax event class. Normal for pax < 4.5.Falling back to event class for pax 430\n",
      "                                                        "
     ]
    },
    {
     "name": "stdout",
     "output_type": "stream",
     "text": [
      "We found 11 events with more than 4 S1s\n"
     ]
    },
    {
     "name": "stderr",
     "output_type": "stream",
     "text": [
      "\r"
     ]
    }
   ],
   "source": [
    "counter = 0\n",
    "\n",
    "def count_many_s1s(event):\n",
    "    global counter   # Need this in pyton to modify variable outside of function\n",
    "    if len(event.s1s) > 4:\n",
    "        counter += 1\n",
    "\n",
    "hax.paxroot.loop_over_datasets([dataset],\n",
    "                                count_many_s1s)\n",
    "print(\"We found %d events with more than 4 S1s\" % counter)"
   ]
  },
  {
   "cell_type": "markdown",
   "metadata": {},
   "source": [
    "Another silly example: find the first event whose main s1 area is 70 pe in some dark matter dataset:"
   ]
  },
  {
   "cell_type": "code",
   "execution_count": 19,
   "metadata": {
    "collapsed": false
   },
   "outputs": [
    {
     "name": "stderr",
     "output_type": "stream",
     "text": [
      "WARNING:hax.paxroot:Root file /mnt/xecluster/archive_lngs/common/PaxReprocessed_9/good/xe100_120404_0804.root does not include pax event class. Normal for pax < 4.5.Falling back to event class for pax 430\n",
      "  0%|          | 0/17000 [00:00<?, ?it/s]"
     ]
    },
    {
     "name": "stdout",
     "output_type": "stream",
     "text": [
      "Event 930 has a main S1 with area 70.06745147705078 pe\n"
     ]
    }
   ],
   "source": [
    "def find_s1_70pe(event):\n",
    "    if not len(event.interactions):\n",
    "        # Continues to the next event\n",
    "        # We're in a function, so need to do return rather than continue\n",
    "        return\n",
    "    main_interaction = event.interactions[0]\n",
    "    main_s1 = event.peaks[main_interaction.s1]\n",
    "    if np.round(main_s1.area) == 70:\n",
    "        print(\"Event %s has a main S1 with area %s pe\" % (event.event_number, main_s1.area))\n",
    "        raise hax.paxroot.StopEventLoop    # Special magic that aborts the loop immediately\n",
    "\n",
    "hax.paxroot.loop_over_dataset(dataset,\n",
    "                              find_s1_70pe)"
   ]
  },
  {
   "cell_type": "markdown",
   "metadata": {},
   "source": [
    "# Selecting datasets"
   ]
  },
  {
   "cell_type": "markdown",
   "metadata": {},
   "source": [
    "For any real analysis you'll want to select several datasets. In the future, hax will interface with the XENON1T run db for you. For now, it just loads some XENON100 runs info, and makes it available as a [pandas dataframe](http://pandas.pydata.org/pandas-docs/stable/10min.html) hax.runs.DATASETS.\n",
    "\n",
    "(Internally this loads a CSV file, which is copy-pasted from the wiki's runs database table. For now I've only done run 10. Of course for XENON1T we don't want a static csv file, but a connection to the real runs database.)"
   ]
  },
  {
   "cell_type": "markdown",
   "metadata": {},
   "source": [
    "Here's an example to get all standard AmBe datasets for which we have reprocessed data:"
   ]
  },
  {
   "cell_type": "code",
   "execution_count": 20,
   "metadata": {
    "collapsed": false,
    "scrolled": true
   },
   "outputs": [
    {
     "data": {
      "text/plain": [
       "array(['xe100_110210_1100', 'xe100_110210_1412', 'xe100_110211_0532',\n",
       "       'xe100_120404_0804'], dtype=object)"
      ]
     },
     "execution_count": 20,
     "metadata": {},
     "output_type": "execute_result"
    }
   ],
   "source": [
    "query = 'source == \"AmBe\" & category == \"standard\" & tpc == \"xenon100\" & location != \"\"'\n",
    "hax.runs.datasets.query(query)['name'].values"
   ]
  },
  {
   "cell_type": "markdown",
   "metadata": {},
   "source": [
    "Of course hax has a shorthand for this:"
   ]
  },
  {
   "cell_type": "code",
   "execution_count": 21,
   "metadata": {
    "collapsed": false
   },
   "outputs": [
    {
     "data": {
      "text/plain": [
       "array(['xe100_110210_1100', 'xe100_110210_1412', 'xe100_110211_0532',\n",
       "       'xe100_120404_0804'], dtype=object)"
      ]
     },
     "execution_count": 21,
     "metadata": {},
     "output_type": "execute_result"
    }
   ],
   "source": [
    "hax.runs.datasets_query(query)"
   ]
  },
  {
   "cell_type": "markdown",
   "metadata": {},
   "source": [
    "For more details on a particular dataset, dig into hax.runs.DATASETS, or use"
   ]
  },
  {
   "cell_type": "code",
   "execution_count": 22,
   "metadata": {
    "collapsed": false
   },
   "outputs": [
    {
     "data": {
      "text/plain": [
       "{'Unnamed: 16': nan,\n",
       " 'Unnamed: 17': nan,\n",
       " 'Unnamed: 18': nan,\n",
       " 'anode': 4.4000000000000004,\n",
       " 'category': 'standard',\n",
       " 'cathode': 16.0,\n",
       " 'comment': nan,\n",
       " 'corrected_events': 150000.0,\n",
       " 'corrected_livetime': 9266.2000000000007,\n",
       " 'events': 150000,\n",
       " 'livetime': 9266.25,\n",
       " 'location': '',\n",
       " 'name': 'xe100_120402_2000',\n",
       " 'number': 1204022000,\n",
       " 'position': 'other',\n",
       " 'processed': '0.4.5',\n",
       " 'raw_data_found': True,\n",
       " 'raw_data_subfolder': 'run_10',\n",
       " 'run': '10',\n",
       " 'shield': 'closed',\n",
       " 'source': 'AmBe',\n",
       " 'tpc': 'xenon100',\n",
       " 'trigger': 'S1'}"
      ]
     },
     "execution_count": 22,
     "metadata": {},
     "output_type": "execute_result"
    }
   ],
   "source": [
    "hax.runs.get_dataset_info('xe100_120402_2000')"
   ]
  }
 ],
 "metadata": {
  "kernelspec": {
   "display_name": "Python 3",
   "language": "python",
   "name": "python3"
  },
  "language_info": {
   "codemirror_mode": {
    "name": "ipython",
    "version": 3
   },
   "file_extension": ".py",
   "mimetype": "text/x-python",
   "name": "python",
   "nbconvert_exporter": "python",
   "pygments_lexer": "ipython3",
   "version": "3.4.4"
  },
  "toc": {
   "toc_cell": true,
   "toc_number_sections": true,
   "toc_section_display": "block",
   "toc_threshold": 4,
   "toc_window_display": true
  }
 },
 "nbformat": 4,
 "nbformat_minor": 0
}
