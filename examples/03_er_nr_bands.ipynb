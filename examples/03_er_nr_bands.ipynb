{
 "cells": [
  {
   "cell_type": "markdown",
   "metadata": {},
   "source": [
    "# Learn how to play with ER/NR bands\n",
    "\n",
    "Tunnell, Feburary 2016\n",
    "\n",
    "This tutorial describes how to draw the ER and NR bands to determine seperation.\n",
    "\n",
    "The following line just runs our standard code for every analysis.  You can change 'run' to 'load' to see what is in there."
   ]
  },
  {
   "cell_type": "code",
   "execution_count": 1,
   "metadata": {
    "collapsed": false
   },
   "outputs": [
    {
     "name": "stderr",
     "output_type": "stream",
     "text": [
      "/Users/tunnell/anaconda3/envs/pax/lib/python3.4/site-packages/IPython/kernel/__init__.py:13: ShimWarning: The `IPython.kernel` package has been deprecated. You should import from ipykernel or jupyter_client instead.\n",
      "  \"You should import from ipykernel or jupyter_client instead.\", ShimWarning)\n"
     ]
    }
   ],
   "source": [
    "%matplotlib inline\n",
    "%run boiler_plate.py\n",
    "import hax  # rootpy raises a warning, but ignore"
   ]
  },
  {
   "cell_type": "code",
   "execution_count": 2,
   "metadata": {
    "collapsed": false
   },
   "outputs": [],
   "source": [
    "## Specify your own data location\n",
    "hax.config.CONFIG['main_data_paths'] = ['./data/']"
   ]
  },
  {
   "cell_type": "markdown",
   "metadata": {},
   "source": [
    "## Load data\n",
    "\n",
    "Here are the sources we have:"
   ]
  },
  {
   "cell_type": "code",
   "execution_count": 3,
   "metadata": {
    "collapsed": false
   },
   "outputs": [
    {
     "data": {
      "text/plain": [
       "array(['LED', 'Cs137', 'Background', 'Other', 'Th232', 'Co60', 'AmBe',\n",
       "       'Dark Matter', 'Co57'], dtype=object)"
      ]
     },
     "execution_count": 3,
     "metadata": {},
     "output_type": "execute_result"
    }
   ],
   "source": [
    "hax.runs.DATASETS['source'].unique()"
   ]
  },
  {
   "cell_type": "code",
   "execution_count": 8,
   "metadata": {
    "collapsed": false
   },
   "outputs": [],
   "source": [
    "def datasets(source):\n",
    "    return hax.runs.DATASETS.query('source == \"%s\" & category == \"standard\" & tpc == \"xenon100\"' % source)['name'].values\n",
    "\n",
    "datasets_nr = datasets('AmBe')\n",
    "datasets_er = 'xe100_111205_1648' #np.append(datasets('Co60'), datasets('Th232'))"
   ]
  },
  {
   "cell_type": "markdown",
   "metadata": {},
   "source": [
    "Load"
   ]
  },
  {
   "cell_type": "code",
   "execution_count": 7,
   "metadata": {
    "collapsed": false
   },
   "outputs": [
    {
     "name": "stdout",
     "output_type": "stream",
     "text": [
      "xe100_110323_1114\n",
      "xe100_110323_1156\n",
      "xe100_110323_1515\n",
      "xe100_110323_1924\n",
      "xe100_110323_2247\n",
      "xe100_110324_0230\n",
      "xe100_110324_0610\n",
      "xe100_110324_0947\n",
      "xe100_110405_1844\n",
      "xe100_110405_2312\n",
      "xe100_110406_0320\n",
      "xe100_110406_0751\n",
      "xe100_110406_1203\n",
      "xe100_110406_1602\n",
      "xe100_110406_2005\n",
      "xe100_110406_2354\n",
      "xe100_110407_0352\n",
      "xe100_110407_0752\n",
      "xe100_110414_1640\n",
      "xe100_110415_0117\n",
      "xe100_110415_0130\n",
      "xe100_110415_0546\n",
      "xe100_110415_1009\n",
      "xe100_110418_1709\n",
      "xe100_110418_2117\n",
      "xe100_110419_0125\n",
      "xe100_110419_0547\n",
      "xe100_110419_1009\n",
      "xe100_110421_1152\n",
      "xe100_110421_1552\n",
      "xe100_110421_2003\n",
      "xe100_110422_0018\n",
      "xe100_110422_0500\n",
      "xe100_110425_1210\n",
      "xe100_110425_1614\n",
      "xe100_110425_2018\n",
      "xe100_110426_0016\n",
      "xe100_110426_0429\n",
      "xe100_110505_1158\n",
      "xe100_110505_1517\n",
      "xe100_110505_1858\n",
      "xe100_110512_1816\n",
      "xe100_110512_2204\n",
      "xe100_110513_0201\n",
      "xe100_110513_0534\n",
      "xe100_110519_1854\n",
      "xe100_110519_2247\n",
      "xe100_110520_0240\n",
      "xe100_110520_0651\n",
      "xe100_110526_2007\n",
      "xe100_110526_2357\n",
      "xe100_110527_0344\n",
      "xe100_110527_0748\n",
      "xe100_110602_1937\n",
      "xe100_110602_2334\n",
      "xe100_110603_0336\n",
      "xe100_110603_0755\n",
      "xe100_110609_2020\n",
      "xe100_110610_0025\n",
      "xe100_110610_0425\n",
      "xe100_110610_0836\n",
      "xe100_110616_1840\n",
      "xe100_110616_1946\n",
      "xe100_110616_2352\n",
      "xe100_110617_0352\n",
      "xe100_110617_0758\n",
      "xe100_110623_1938\n",
      "xe100_110623_2331\n",
      "xe100_110624_0336\n",
      "xe100_110624_0745\n",
      "xe100_110701_1045\n",
      "xe100_110701_1503\n",
      "xe100_110714_1720\n",
      "xe100_110714_2113\n",
      "xe100_110715_0112\n",
      "xe100_110721_1747\n",
      "xe100_110721_2152\n",
      "xe100_110722_0142\n",
      "xe100_110728_1736\n",
      "xe100_110728_2143\n",
      "xe100_110729_0155\n",
      "xe100_110729_0615\n",
      "xe100_110804_2035\n",
      "xe100_110805_0016\n",
      "xe100_110805_0406\n",
      "xe100_110805_0806\n",
      "xe100_110811_1658\n",
      "xe100_110818_1812\n",
      "xe100_110818_2138\n",
      "xe100_110819_0115\n",
      "xe100_110819_0523\n",
      "xe100_110825_1839\n",
      "xe100_110825_2226\n",
      "xe100_110826_0219\n",
      "xe100_110826_0609\n",
      "xe100_110901_1647\n",
      "xe100_110901_2040\n",
      "xe100_110902_0029\n",
      "xe100_110902_0430\n",
      "xe100_110905_1511\n",
      "xe100_110905_1900\n",
      "xe100_110905_2303\n",
      "xe100_110906_0308\n",
      "xe100_110908_1239\n",
      "xe100_110908_1632\n",
      "xe100_110908_2038\n",
      "xe100_110909_0036\n",
      "xe100_110909_0456\n",
      "xe100_110909_0831\n",
      "xe100_110915_1634\n",
      "xe100_110916_0940\n",
      "xe100_110922_1649\n",
      "xe100_110922_1846\n",
      "xe100_110922_2038\n",
      "xe100_110922_2236\n",
      "xe100_111013_1042\n",
      "xe100_111013_1449\n",
      "xe100_111013_1858\n",
      "xe100_111013_2317\n",
      "xe100_111027_1041\n",
      "xe100_111027_1505\n",
      "xe100_111027_1933\n",
      "xe100_111212_1718\n",
      "xe100_111212_2128\n",
      "xe100_111213_0148\n",
      "xe100_111213_0616\n",
      "xe100_111222_1801\n",
      "xe100_111229_1812\n",
      "xe100_111229_2231\n",
      "xe100_111230_0256\n",
      "xe100_111230_0723\n",
      "xe100_120105_1540\n",
      "xe100_120105_2015\n",
      "xe100_120106_0055\n",
      "xe100_120106_0527\n",
      "xe100_120112_1622\n",
      "xe100_120112_2032\n",
      "xe100_120113_0053\n",
      "xe100_120113_0511\n",
      "xe100_120113_0929\n",
      "xe100_120113_1356\n",
      "xe100_120119_1540\n",
      "xe100_120119_1952\n",
      "xe100_120120_0009\n",
      "xe100_120120_0431\n",
      "xe100_120125_1654\n",
      "xe100_120125_2132\n",
      "xe100_120126_0219\n",
      "xe100_120126_0701\n",
      "xe100_120216_1917\n",
      "xe100_120216_2331\n",
      "xe100_120217_0349\n",
      "xe100_120217_0811\n",
      "xe100_120223_1806\n",
      "xe100_120223_2247\n",
      "xe100_120224_0326\n",
      "xe100_120224_0805\n",
      "xe100_120301_1823\n",
      "xe100_120301_2240\n",
      "xe100_120302_0305\n",
      "xe100_120302_0730\n",
      "xe100_120315_1919\n",
      "xe100_120315_2340\n",
      "xe100_120316_0357\n",
      "xe100_120316_0818\n",
      "xe100_120322_1852\n",
      "xe100_120322_2335\n",
      "xe100_120323_0425\n",
      "xe100_120329_1936\n",
      "xe100_120330_0004\n",
      "xe100_120330_0438\n",
      "xe100_120330_0908\n",
      "xe100_110310_1206\n",
      "xe100_110325_1631\n",
      "xe100_110326_1237\n",
      "xe100_110326_1642\n",
      "xe100_110326_2035\n",
      "xe100_110327_0031\n",
      "xe100_110327_0532\n",
      "xe100_110327_1003\n",
      "xe100_110327_1410\n",
      "xe100_110327_1814\n",
      "xe100_110327_2256\n",
      "xe100_110328_0307\n",
      "xe100_110328_0631\n",
      "xe100_110328_1143\n",
      "xe100_110328_1557\n",
      "xe100_110330_1457\n",
      "xe100_110330_1725\n",
      "xe100_110331_0004\n",
      "xe100_110331_0410\n",
      "xe100_110331_0826\n",
      "xe100_110331_1558\n",
      "xe100_110331_2014\n",
      "xe100_110401_0032\n",
      "xe100_110401_0453\n",
      "xe100_110401_1418\n",
      "xe100_110404_1436\n",
      "xe100_110404_1954\n",
      "xe100_110405_0004\n",
      "xe100_110405_0415\n",
      "xe100_110405_1347\n",
      "xe100_110405_1757\n",
      "xe100_110411_1530\n",
      "xe100_110411_2340\n",
      "xe100_110412_0857\n",
      "xe100_110412_1355\n",
      "xe100_110502_1740\n",
      "xe100_110502_2046\n",
      "xe100_110509_1741\n",
      "xe100_110509_2148\n",
      "xe100_110510_0200\n",
      "xe100_110510_0616\n",
      "xe100_110516_1754\n",
      "xe100_110516_2149\n",
      "xe100_110517_0156\n",
      "xe100_110517_0600\n",
      "xe100_110524_2049\n",
      "xe100_110525_0058\n",
      "xe100_110525_0519\n",
      "xe100_110525_0924\n",
      "xe100_110530_2047\n",
      "xe100_110531_0050\n",
      "xe100_110531_0500\n",
      "xe100_110531_0917\n",
      "xe100_110606_2002\n",
      "xe100_110607_0005\n",
      "xe100_110607_0422\n",
      "xe100_110607_0840\n",
      "xe100_110613_1918\n",
      "xe100_110613_2328\n",
      "xe100_110614_0344\n",
      "xe100_110614_0749\n",
      "xe100_110628_2015\n",
      "xe100_110629_0027\n",
      "xe100_110629_0444\n",
      "xe100_110629_0858\n",
      "xe100_110629_1519\n",
      "xe100_110711_1943\n",
      "xe100_110711_2347\n",
      "xe100_110712_0358\n",
      "xe100_110712_0813\n",
      "xe100_110718_1807\n",
      "xe100_110718_2224\n",
      "xe100_110725_1755\n",
      "xe100_110725_2152\n",
      "xe100_110726_0156\n",
      "xe100_110801_1929\n",
      "xe100_110801_2332\n",
      "xe100_110802_0338\n",
      "xe100_110802_0748\n",
      "xe100_110808_1804\n",
      "xe100_110808_2156\n",
      "xe100_110809_0150\n",
      "xe100_110809_0550\n",
      "xe100_110815_1416\n",
      "xe100_110815_1754\n",
      "xe100_110815_2135\n",
      "xe100_110816_0121\n",
      "xe100_110822_1552\n",
      "xe100_110822_1934\n",
      "xe100_110822_2317\n",
      "xe100_110823_0303\n",
      "xe100_110829_1554\n",
      "xe100_110912_1856\n",
      "xe100_110912_2142\n",
      "xe100_110913_0141\n",
      "xe100_110913_0544\n",
      "xe100_110913_0840\n",
      "xe100_110919_1833\n",
      "xe100_110919_2238\n",
      "xe100_110920_0247\n",
      "xe100_110920_0658\n",
      "xe100_111010_1658\n",
      "xe100_111010_2105\n",
      "xe100_111011_0119\n",
      "xe100_111011_0530\n",
      "xe100_111017_1045\n",
      "xe100_111017_1500\n",
      "xe100_111017_1917\n",
      "xe100_111017_2333\n",
      "xe100_111024_1526\n",
      "xe100_111024_1942\n",
      "xe100_111025_0004\n",
      "xe100_111025_0424\n",
      "xe100_111031_1618\n",
      "xe100_111031_2027\n",
      "xe100_111031_2323\n",
      "xe100_111101_0338\n",
      "xe100_111101_0759\n",
      "xe100_111205_1208\n",
      "xe100_111205_1648\n",
      "xe100_111205_2042\n",
      "xe100_111206_0035\n",
      "xe100_111206_0432\n",
      "xe100_111215_1839\n",
      "xe100_111215_2253\n",
      "xe100_111216_0313\n",
      "xe100_111216_0736\n",
      "xe100_111219_1739\n",
      "xe100_111219_2152\n",
      "xe100_111220_0214\n",
      "xe100_111220_0634\n",
      "xe100_111226_1708\n",
      "xe100_111226_2117\n",
      "xe100_111227_0136\n",
      "xe100_111227_0559\n",
      "xe100_120102_1659\n",
      "xe100_120102_2113\n",
      "xe100_120103_0133\n",
      "xe100_120103_0556\n",
      "xe100_120109_1338\n",
      "xe100_120109_1753\n",
      "xe100_120116_1151\n",
      "xe100_120116_1605\n",
      "xe100_120116_2024\n",
      "xe100_120117_0042\n",
      "xe100_120117_0901\n",
      "xe100_120123_1456\n",
      "xe100_120123_1914\n",
      "xe100_120123_2332\n",
      "xe100_120124_0354\n",
      "xe100_120213_2050\n",
      "xe100_120214_0057\n",
      "xe100_120214_0510\n",
      "xe100_120214_0928\n",
      "xe100_120220_1912\n",
      "xe100_120220_2327\n",
      "xe100_120221_0348\n",
      "xe100_120221_0806\n",
      "xe100_120227_1647\n",
      "xe100_120227_2113\n",
      "xe100_120228_0136\n",
      "xe100_120228_0556\n",
      "xe100_120305_1818\n",
      "xe100_120305_2237\n",
      "xe100_120306_0254\n",
      "xe100_120306_0716\n",
      "xe100_120312_1953\n",
      "xe100_120313_0020\n",
      "xe100_120313_0452\n",
      "xe100_120313_0921\n",
      "xe100_120319_1742\n",
      "xe100_120319_2204\n",
      "xe100_120320_0226\n",
      "xe100_120320_0654\n",
      "xe100_120326_1710\n",
      "xe100_120326_2133\n",
      "xe100_120327_0159\n",
      "xe100_120327_0625\n"
     ]
    }
   ],
   "source": [
    "import os\n",
    "for dataset in datasets_er:\n",
    "    if not os.path.exists('./data/%s.root' % dataset):\n",
    "        print(dataset)"
   ]
  },
  {
   "cell_type": "code",
   "execution_count": 5,
   "metadata": {
    "collapsed": false
   },
   "outputs": [
    {
     "ename": "FileNotFoundError",
     "evalue": "Did not find file xe100_110811_1658.root!",
     "output_type": "error",
     "traceback": [
      "\u001b[0;31m---------------------------------------------------------------------------\u001b[0m",
      "\u001b[0;31mFileNotFoundError\u001b[0m                         Traceback (most recent call last)",
      "\u001b[0;32m<ipython-input-5-34a14f62a90c>\u001b[0m in \u001b[0;36m<module>\u001b[0;34m()\u001b[0m\n\u001b[1;32m      1\u001b[0m \u001b[0;31m#df_nr = hax.minitrees.load(datasets_nr[0])\u001b[0m\u001b[0;34m\u001b[0m\u001b[0;34m\u001b[0m\u001b[0m\n\u001b[0;32m----> 2\u001b[0;31m \u001b[0mdf_er\u001b[0m \u001b[0;34m=\u001b[0m \u001b[0mhax\u001b[0m\u001b[0;34m.\u001b[0m\u001b[0mminitrees\u001b[0m\u001b[0;34m.\u001b[0m\u001b[0mload\u001b[0m\u001b[0;34m(\u001b[0m\u001b[0mdatasets_er\u001b[0m\u001b[0;34m[\u001b[0m\u001b[0;36m100\u001b[0m\u001b[0;34m]\u001b[0m\u001b[0;34m)\u001b[0m\u001b[0;34m\u001b[0m\u001b[0m\n\u001b[0m\u001b[1;32m      3\u001b[0m \u001b[0mdf_er\u001b[0m\u001b[0;34m.\u001b[0m\u001b[0mhead\u001b[0m\u001b[0;34m(\u001b[0m\u001b[0;36m5\u001b[0m\u001b[0;34m)\u001b[0m\u001b[0;34m\u001b[0m\u001b[0m\n",
      "\u001b[0;32m/Users/tunnell/anaconda3/envs/pax/lib/python3.4/site-packages/hax-0.0.0-py3.4.egg/hax/minitrees.py\u001b[0m in \u001b[0;36mload\u001b[0;34m(datasets, treemakers, force_reload)\u001b[0m\n\u001b[1;32m    128\u001b[0m         \u001b[0mdataframes\u001b[0m \u001b[0;34m=\u001b[0m \u001b[0;34m[\u001b[0m\u001b[0;34m]\u001b[0m\u001b[0;34m\u001b[0m\u001b[0m\n\u001b[1;32m    129\u001b[0m         \u001b[0;32mfor\u001b[0m \u001b[0mdataset\u001b[0m \u001b[0;32min\u001b[0m \u001b[0mdatasets\u001b[0m\u001b[0;34m:\u001b[0m\u001b[0;34m\u001b[0m\u001b[0m\n\u001b[0;32m--> 130\u001b[0;31m             \u001b[0mminitree_path\u001b[0m \u001b[0;34m=\u001b[0m \u001b[0mget\u001b[0m\u001b[0;34m(\u001b[0m\u001b[0mdataset\u001b[0m\u001b[0;34m,\u001b[0m \u001b[0mtreemaker\u001b[0m\u001b[0;34m,\u001b[0m \u001b[0mforce_reload\u001b[0m\u001b[0;34m=\u001b[0m\u001b[0mforce_reload\u001b[0m\u001b[0;34m)\u001b[0m\u001b[0;34m\u001b[0m\u001b[0m\n\u001b[0m\u001b[1;32m    131\u001b[0m             \u001b[0mnew_df\u001b[0m \u001b[0;34m=\u001b[0m \u001b[0mpd\u001b[0m\u001b[0;34m.\u001b[0m\u001b[0mDataFrame\u001b[0m\u001b[0;34m.\u001b[0m\u001b[0mfrom_records\u001b[0m\u001b[0;34m(\u001b[0m\u001b[0mroot_numpy\u001b[0m\u001b[0;34m.\u001b[0m\u001b[0mroot2rec\u001b[0m\u001b[0;34m(\u001b[0m\u001b[0mminitree_path\u001b[0m\u001b[0;34m)\u001b[0m\u001b[0;34m)\u001b[0m\u001b[0;34m\u001b[0m\u001b[0m\n\u001b[1;32m    132\u001b[0m             \u001b[0mdataframes\u001b[0m\u001b[0;34m.\u001b[0m\u001b[0mappend\u001b[0m\u001b[0;34m(\u001b[0m\u001b[0mnew_df\u001b[0m\u001b[0;34m)\u001b[0m\u001b[0;34m\u001b[0m\u001b[0m\n",
      "\u001b[0;32m/Users/tunnell/anaconda3/envs/pax/lib/python3.4/site-packages/hax-0.0.0-py3.4.egg/hax/minitrees.py\u001b[0m in \u001b[0;36mget\u001b[0;34m(dataset, treemaker, force_reload)\u001b[0m\n\u001b[1;32m     91\u001b[0m         \u001b[0;31m# We have to make the minitree file\u001b[0m\u001b[0;34m\u001b[0m\u001b[0;34m\u001b[0m\u001b[0m\n\u001b[1;32m     92\u001b[0m         \u001b[0;31m# This will raise FileNotFoundError if the root file is not found\u001b[0m\u001b[0;34m\u001b[0m\u001b[0;34m\u001b[0m\u001b[0m\n\u001b[0;32m---> 93\u001b[0;31m         \u001b[0mskimmed_data\u001b[0m \u001b[0;34m=\u001b[0m \u001b[0mtreemaker\u001b[0m\u001b[0;34m(\u001b[0m\u001b[0;34m)\u001b[0m\u001b[0;34m.\u001b[0m\u001b[0mget_data\u001b[0m\u001b[0;34m(\u001b[0m\u001b[0mdataset\u001b[0m\u001b[0;34m)\u001b[0m\u001b[0;34m\u001b[0m\u001b[0m\n\u001b[0m\u001b[1;32m     94\u001b[0m         \u001b[0mprint\u001b[0m\u001b[0;34m(\u001b[0m\u001b[0;34m\"Created minitree %s for dataset %s\"\u001b[0m \u001b[0;34m%\u001b[0m \u001b[0;34m(\u001b[0m\u001b[0mtreemaker\u001b[0m\u001b[0;34m.\u001b[0m\u001b[0m__name__\u001b[0m\u001b[0;34m,\u001b[0m \u001b[0mdataset\u001b[0m\u001b[0;34m)\u001b[0m\u001b[0;34m)\u001b[0m\u001b[0;34m\u001b[0m\u001b[0m\n\u001b[1;32m     95\u001b[0m \u001b[0;34m\u001b[0m\u001b[0m\n",
      "\u001b[0;32m/Users/tunnell/anaconda3/envs/pax/lib/python3.4/site-packages/hax-0.0.0-py3.4.egg/hax/minitrees.py\u001b[0m in \u001b[0;36mget_data\u001b[0;34m(self, dataset)\u001b[0m\n\u001b[1;32m     36\u001b[0m         \u001b[0;34m\"\"\"Return data extracted from running over dataset\"\"\"\u001b[0m\u001b[0;34m\u001b[0m\u001b[0m\n\u001b[1;32m     37\u001b[0m         loop_over_dataset(dataset, self.process_event,\n\u001b[0;32m---> 38\u001b[0;31m                           branch_selection=CONFIG['basic_branches'] + list(self.extra_branches))\n\u001b[0m\u001b[1;32m     39\u001b[0m         \u001b[0mself\u001b[0m\u001b[0;34m.\u001b[0m\u001b[0mcheck_cache\u001b[0m\u001b[0;34m(\u001b[0m\u001b[0mforce_empty\u001b[0m\u001b[0;34m=\u001b[0m\u001b[0;32mTrue\u001b[0m\u001b[0;34m)\u001b[0m\u001b[0;34m\u001b[0m\u001b[0m\n\u001b[1;32m     40\u001b[0m         \u001b[0;32mif\u001b[0m \u001b[0;32mnot\u001b[0m \u001b[0mhasattr\u001b[0m\u001b[0;34m(\u001b[0m\u001b[0mself\u001b[0m\u001b[0;34m,\u001b[0m \u001b[0;34m'data'\u001b[0m\u001b[0;34m)\u001b[0m\u001b[0;34m:\u001b[0m\u001b[0;34m\u001b[0m\u001b[0m\n",
      "\u001b[0;32m/Users/tunnell/anaconda3/envs/pax/lib/python3.4/site-packages/hax-0.0.0-py3.4.egg/hax/looproot.py\u001b[0m in \u001b[0;36mloop_over_dataset\u001b[0;34m(dataset, event_function, branch_selection)\u001b[0m\n\u001b[1;32m     20\u001b[0m     \u001b[0;31m# If you get \"'TObject' object has no attribute 'GetEntries'\" here,\u001b[0m\u001b[0;34m\u001b[0m\u001b[0;34m\u001b[0m\u001b[0m\n\u001b[1;32m     21\u001b[0m     \u001b[0;31m# we renamed the tree to T1 or TPax or something\u001b[0m\u001b[0;34m\u001b[0m\u001b[0;34m\u001b[0m\u001b[0m\n\u001b[0;32m---> 22\u001b[0;31m     \u001b[0mrootfile_name\u001b[0m \u001b[0;34m=\u001b[0m \u001b[0mfind_file_in_folders\u001b[0m\u001b[0;34m(\u001b[0m\u001b[0mdataset\u001b[0m \u001b[0;34m+\u001b[0m \u001b[0;34m'.root'\u001b[0m\u001b[0;34m,\u001b[0m \u001b[0mCONFIG\u001b[0m\u001b[0;34m[\u001b[0m\u001b[0;34m'main_data_paths'\u001b[0m\u001b[0;34m]\u001b[0m\u001b[0;34m)\u001b[0m\u001b[0;34m\u001b[0m\u001b[0m\n\u001b[0m\u001b[1;32m     23\u001b[0m     \u001b[0mrootfile\u001b[0m \u001b[0;34m=\u001b[0m \u001b[0mROOT\u001b[0m\u001b[0;34m.\u001b[0m\u001b[0mTFile\u001b[0m\u001b[0;34m(\u001b[0m\u001b[0mrootfile_name\u001b[0m\u001b[0;34m)\u001b[0m\u001b[0;34m\u001b[0m\u001b[0m\n\u001b[1;32m     24\u001b[0m     \u001b[0mt\u001b[0m \u001b[0;34m=\u001b[0m \u001b[0mrootfile\u001b[0m\u001b[0;34m.\u001b[0m\u001b[0mGet\u001b[0m\u001b[0;34m(\u001b[0m\u001b[0;34m'tree'\u001b[0m\u001b[0;34m)\u001b[0m\u001b[0;34m\u001b[0m\u001b[0m\n",
      "\u001b[0;32m/Users/tunnell/anaconda3/envs/pax/lib/python3.4/site-packages/hax-0.0.0-py3.4.egg/hax/utils.py\u001b[0m in \u001b[0;36mfind_file_in_folders\u001b[0;34m(filename, folders)\u001b[0m\n\u001b[1;32m     12\u001b[0m         \u001b[0;32mif\u001b[0m \u001b[0mos\u001b[0m\u001b[0;34m.\u001b[0m\u001b[0mpath\u001b[0m\u001b[0;34m.\u001b[0m\u001b[0mexists\u001b[0m\u001b[0;34m(\u001b[0m\u001b[0mfull_path\u001b[0m\u001b[0;34m)\u001b[0m\u001b[0;34m:\u001b[0m\u001b[0;34m\u001b[0m\u001b[0m\n\u001b[1;32m     13\u001b[0m             \u001b[0;32mreturn\u001b[0m \u001b[0mfull_path\u001b[0m\u001b[0;34m\u001b[0m\u001b[0m\n\u001b[0;32m---> 14\u001b[0;31m     \u001b[0;32mraise\u001b[0m \u001b[0mFileNotFoundError\u001b[0m\u001b[0;34m(\u001b[0m\u001b[0;34m\"Did not find file %s!\"\u001b[0m \u001b[0;34m%\u001b[0m \u001b[0mfilename\u001b[0m\u001b[0;34m)\u001b[0m\u001b[0;34m\u001b[0m\u001b[0m\n\u001b[0m",
      "\u001b[0;31mFileNotFoundError\u001b[0m: Did not find file xe100_110811_1658.root!"
     ]
    }
   ],
   "source": [
    "#df_nr = hax.minitrees.load(datasets_nr[0])\n",
    "df_er = hax.minitrees.load(datasets_er[100])\n",
    "df_er.head(5)"
   ]
  },
  {
   "cell_type": "markdown",
   "metadata": {},
   "source": [
    "## Cuts\n",
    "\n",
    "Here are the cuts"
   ]
  },
  {
   "cell_type": "code",
   "execution_count": null,
   "metadata": {
    "collapsed": false
   },
   "outputs": [],
   "source": [
    "cut_single_s1 = (df['largest_other_s1'] == 0)\n",
    "cut_single_s2 = (df['largest_other_s2'] < 100)\n",
    "cut_radius = (np.sqrt(df['x']**2 + df['y']**2) < 12)\n",
    "cut_z = (df['z'] < -5) & (df['z'] > -27)\n",
    "cut_fiducial = (cut_radius & cut_z)\n",
    "df = df[cut_single_s1 & cut_single_s2 & cut_fiducial]"
   ]
  },
  {
   "cell_type": "markdown",
   "metadata": {},
   "source": [
    "Inspect $(x,y)$"
   ]
  },
  {
   "cell_type": "code",
   "execution_count": null,
   "metadata": {
    "collapsed": false
   },
   "outputs": [],
   "source": [
    "plt.scatter(df['x'],df['y'], c=df['z'], marker='o', s=10)\n",
    "plt.colorbar()\n",
    "plt.xlabel('x [cm]')\n",
    "plt.ylabel('y [cm]')\n",
    "plt.show()"
   ]
  },
  {
   "cell_type": "markdown",
   "metadata": {},
   "source": [
    "Inspect $(r,z)$."
   ]
  },
  {
   "cell_type": "code",
   "execution_count": null,
   "metadata": {
    "collapsed": false
   },
   "outputs": [],
   "source": [
    "plt.scatter(np.sqrt(df['x']**2 + df['y']**2), df['z'], c=df['cs2'],\n",
    "            marker='o', s=10)\n",
    "plt.colorbar()\n",
    "plt.xlabel('r [cm]')\n",
    "plt.ylabel('z [cm]')"
   ]
  },
  {
   "cell_type": "code",
   "execution_count": null,
   "metadata": {
    "collapsed": false
   },
   "outputs": [],
   "source": [
    "plt.scatter(np.log10(df['cs1']),\n",
    "            np.log10(df['cs2']),\n",
    "            marker='.',\n",
    "            s=10,\n",
    "            alpha=1)\n",
    "\n",
    "plt.xlabel('S1 area [pe]')\n",
    "plt.ylabel('S2 area [pe]')\n",
    "\n",
    "plt.show()"
   ]
  },
  {
   "cell_type": "code",
   "execution_count": null,
   "metadata": {
    "collapsed": false
   },
   "outputs": [],
   "source": [
    "df_40kev = df[(df['cs1'] > 50) & (df['cs1'] < 200) & (df['cs2'] > 15000) & (df['cs2'] < 32000)]\n",
    "\n",
    "plt.scatter(df_40kev['cs1'],\n",
    "            df_40kev['cs2'], marker='.')\n",
    "plt.title('40 keV')\n",
    "#plt.xlim(0, 250) # S1\n",
    "#plt.ylim(8000, 25000*2) # S2\n",
    "\n",
    "plt.xlabel('S1 area [pe]')\n",
    "plt.ylabel('S2 area [pe]')\n",
    "\n",
    "plt.show()"
   ]
  },
  {
   "cell_type": "code",
   "execution_count": null,
   "metadata": {
    "collapsed": false
   },
   "outputs": [],
   "source": [
    "print('S1 (40 keV) pe:', df_40kev['cs1'].mean(), '+/-', df_40kev['cs1'].std())\n",
    "print('S2 (40 keV) pe:', df_40kev['cs2'].mean(), '+/-', df_40kev['cs2'].std())"
   ]
  },
  {
   "cell_type": "code",
   "execution_count": null,
   "metadata": {
    "collapsed": false
   },
   "outputs": [],
   "source": [
    "print('S1 pe/keV:', df_40kev['cs1'].mean()/40)\n",
    "print('S2 pe/keV:', df_40kev['cs2'].mean()/40)"
   ]
  },
  {
   "cell_type": "code",
   "execution_count": null,
   "metadata": {
    "collapsed": true
   },
   "outputs": [],
   "source": [
    "df_peaks = df[(df['cs1'] > 50) & (df['cs1'] < 500) & (df['cs2'] > 15000) & (df['cs2'] < 300e5)]"
   ]
  },
  {
   "cell_type": "code",
   "execution_count": null,
   "metadata": {
    "collapsed": false
   },
   "outputs": [],
   "source": [
    "# concatenate the two datasets into the final training set\n",
    "X_train = np.dstack((df_peaks.to_records()['cs1'],\n",
    "                     df_peaks.to_records()['cs2']))[0]\n",
    "\n",
    "# fit a Gaussian Mixture Model with two components\n",
    "clf = mixture.GMM(n_components=3, covariance_type='full')\n",
    "clf.fit(X_train)\n",
    "\n",
    "# display predicted scores by the model as a contour plot\n",
    "x = np.linspace(df_peaks['cs1'].min(),\n",
    "                df_peaks['cs1'].max())\n",
    "                \n",
    "y = np.linspace(df_peaks['cs2'].min(),\n",
    "                df_peaks['cs2'].max())\n",
    "X, Y = np.meshgrid(x, y)\n",
    "XX = np.array([X.ravel(), Y.ravel()]).T\n",
    "Z = -clf.score_samples(XX)[0]\n",
    "Z = Z.reshape(X.shape)\n",
    "\n",
    "CS = plt.contour(X, Y, Z, #norm=LogNorm(vmin=1.0, vmax=1000.0),\n",
    "                 levels=np.logspace(1, 2, 100))\n",
    "CB = plt.colorbar(CS, shrink=0.8, extend='both')\n",
    "plt.scatter(X_train[:, 0], X_train[:, 1], .8)\n",
    "\n",
    "plt.title('Negative log-likelihood predicted by a GMM')\n",
    "plt.axis('tight')\n",
    "plt.show()"
   ]
  },
  {
   "cell_type": "code",
   "execution_count": null,
   "metadata": {
    "collapsed": false
   },
   "outputs": [],
   "source": [
    "clf.means_"
   ]
  },
  {
   "cell_type": "code",
   "execution_count": null,
   "metadata": {
    "collapsed": false
   },
   "outputs": [],
   "source": [
    "df_pid = df[(150 < df['s2_area']) & (10000 > df['s2_area'])]\n",
    "plt.scatter(df_pid['s1_area'], df_pid['pid'], marker='.', alpha=0.1, s=5,\n",
    "            color='red', label='NR band')\n",
    "plt.scatter(df_40kev['s1_area'], df_40kev['pid'], marker='.', alpha=1.0, s=5,\n",
    "            color='blue', label='40 keV $\\gamma$')\n",
    "plt.legend()\n",
    "plt.xlabel('Corrected S1 [pe]')\n",
    "plt.ylabel('log10(S2/s1)')\n",
    "plt.xlim(0, 220)\n",
    "plt.ylim(1,4)"
   ]
  },
  {
   "cell_type": "code",
   "execution_count": null,
   "metadata": {
    "collapsed": false
   },
   "outputs": [],
   "source": [
    "df_inspect = df_pid[df_pid['pid'] < 1.0]\n"
   ]
  },
  {
   "cell_type": "code",
   "execution_count": null,
   "metadata": {
    "collapsed": false
   },
   "outputs": [],
   "source": [
    "df_40kev['xed'] = df_40kev['dataset_name']"
   ]
  },
  {
   "cell_type": "code",
   "execution_count": null,
   "metadata": {
    "collapsed": false
   },
   "outputs": [],
   "source": [
    "df_40kev['dataset_name'] = [x[:-11] for x in df_40kev['dataset_name']]"
   ]
  },
  {
   "cell_type": "code",
   "execution_count": null,
   "metadata": {
    "collapsed": false
   },
   "outputs": [],
   "source": [
    "df_40kev.head()"
   ]
  },
  {
   "cell_type": "code",
   "execution_count": null,
   "metadata": {
    "collapsed": false
   },
   "outputs": [],
   "source": [
    "def inspect_event(df_event):\n",
    "    mypax = core.Processor(config_names='XENON100',\n",
    "                           config_dict={'pax': {\n",
    "                 'output': ['Plotting.PlotEventSummary'],\n",
    "                'input_name':   ('/Users/tunnell/XENON/data/xenon100/run_10/%s/%s' % (df_event['dataset_name'],\n",
    "                                                                                       df_event['xed'])),\n",
    "                'events_to_process': [df_event['event_number']],          \n",
    "                'output_name': 'SCREEN'}})\n",
    "\n",
    "    mypax.run()"
   ]
  },
  {
   "cell_type": "code",
   "execution_count": null,
   "metadata": {
    "collapsed": false
   },
   "outputs": [],
   "source": [
    "inspect_event(df_40kev.iloc[0])"
   ]
  },
  {
   "cell_type": "code",
   "execution_count": null,
   "metadata": {
    "collapsed": false
   },
   "outputs": [],
   "source": []
  },
  {
   "cell_type": "code",
   "execution_count": null,
   "metadata": {
    "collapsed": true
   },
   "outputs": [],
   "source": []
  }
 ],
 "metadata": {
  "kernelspec": {
   "display_name": "Python 3",
   "language": "python",
   "name": "python3"
  },
  "language_info": {
   "codemirror_mode": {
    "name": "ipython",
    "version": 3
   },
   "file_extension": ".py",
   "mimetype": "text/x-python",
   "name": "python",
   "nbconvert_exporter": "python",
   "pygments_lexer": "ipython3",
   "version": "3.4.4"
  }
 },
 "nbformat": 4,
 "nbformat_minor": 0
}
