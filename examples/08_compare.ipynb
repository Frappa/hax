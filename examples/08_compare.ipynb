{
 "cells": [
  {
   "cell_type": "markdown",
   "metadata": {},
   "source": [
    "Comparing pax and XeRawDP\n",
    "\n",
    "Amaro, de Perio, and Tunnell, April 2016\n",
    "This tutorial shows you how to compare XeRawDP and pax output\n"
   ]
  },
  {
   "cell_type": "markdown",
   "metadata": {},
   "source": [
    "First step is to get the information regarding the cuts passed/fail by each Xe100 event. The tool for that can be found here:\n",
    "https://xecluster.lngs.infn.it/dokuwiki/doku.php?id=xenon:xenon100:dataprocessing_wg:t4_processing "
   ]
  },
  {
   "cell_type": "markdown",
   "metadata": {},
   "source": [
    "You must follow the instructions and install the cuts library XtreeAna and the AddAnalysisCutsBranches. When you run the AddAnalysisCutsBranches on any xe100 dataset you will get 2 outputs: T4 tree (with all the information on the cuts) and a CSV file (with the same information) which you can import into a pandas dataframe ."
   ]
  },
  {
   "cell_type": "code",
   "execution_count": 9,
   "metadata": {
    "collapsed": false
   },
   "outputs": [],
   "source": [
    "run boiler_plate.py"
   ]
  },
  {
   "cell_type": "code",
   "execution_count": 10,
   "metadata": {
    "collapsed": true
   },
   "outputs": [],
   "source": [
    "%matplotlib inline "
   ]
  },
  {
   "cell_type": "code",
   "execution_count": 11,
   "metadata": {
    "collapsed": true
   },
   "outputs": [],
   "source": [
    "import hax"
   ]
  },
  {
   "cell_type": "code",
   "execution_count": 12,
   "metadata": {
    "collapsed": false
   },
   "outputs": [
    {
     "name": "stdout",
     "output_type": "stream",
     "text": [
      "Loading cut values from xe100_120227_1547\n"
     ]
    }
   ],
   "source": [
    "dataset = \"xe100_120227_1547\"\n",
    "print(\"Loading cut values from\", dataset)\n",
    "df = pd.read_csv('../../AddAnalysisCutsBranches/%s_bool.txt' % dataset, sep='\\\\t', index_col=0, engine='python')\n",
    "#this path will work if you hax folder is at the same level as AddAnalysisCutsBranches"
   ]
  },
  {
   "cell_type": "markdown",
   "metadata": {},
   "source": [
    "We can see roughly what this contains by looking at the first few values:"
   ]
  },
  {
   "cell_type": "code",
   "execution_count": 13,
   "metadata": {
    "collapsed": false
   },
   "outputs": [
    {
     "data": {
      "text/html": [
       "<div>\n",
       "<table border=\"1\" class=\"dataframe\">\n",
       "  <thead>\n",
       "    <tr style=\"text-align: right;\">\n",
       "      <th></th>\n",
       "      <th>Xsignalnoise_comb</th>\n",
       "      <th>Xentropy0</th>\n",
       "      <th>Xs1width0</th>\n",
       "      <th>Xs2top0</th>\n",
       "      <th>Xs2peaks2</th>\n",
       "      <th>Xs1coin2</th>\n",
       "      <th>Xhighlog1</th>\n",
       "      <th>Xs2single3</th>\n",
       "      <th>Xs1single4</th>\n",
       "      <th>Xveto2</th>\n",
       "      <th>...</th>\n",
       "      <th>Xlownoise0_m</th>\n",
       "      <th>Xn3sigma</th>\n",
       "      <th>Xs2peakpos0</th>\n",
       "      <th>Xtime_diff_50</th>\n",
       "      <th>X34kg2</th>\n",
       "      <th>Xs1single5</th>\n",
       "      <th>X34kg</th>\n",
       "      <th>X48kg0</th>\n",
       "      <th>Xs1coin0</th>\n",
       "      <th>XDM</th>\n",
       "    </tr>\n",
       "    <tr>\n",
       "      <th>event</th>\n",
       "      <th></th>\n",
       "      <th></th>\n",
       "      <th></th>\n",
       "      <th></th>\n",
       "      <th></th>\n",
       "      <th></th>\n",
       "      <th></th>\n",
       "      <th></th>\n",
       "      <th></th>\n",
       "      <th></th>\n",
       "      <th></th>\n",
       "      <th></th>\n",
       "      <th></th>\n",
       "      <th></th>\n",
       "      <th></th>\n",
       "      <th></th>\n",
       "      <th></th>\n",
       "      <th></th>\n",
       "      <th></th>\n",
       "      <th></th>\n",
       "      <th></th>\n",
       "    </tr>\n",
       "  </thead>\n",
       "  <tbody>\n",
       "    <tr>\n",
       "      <th>0</th>\n",
       "      <td>1</td>\n",
       "      <td>1</td>\n",
       "      <td>1</td>\n",
       "      <td>1</td>\n",
       "      <td>1</td>\n",
       "      <td>1</td>\n",
       "      <td>1</td>\n",
       "      <td>1</td>\n",
       "      <td>1</td>\n",
       "      <td>1</td>\n",
       "      <td>...</td>\n",
       "      <td>0</td>\n",
       "      <td>0</td>\n",
       "      <td>1</td>\n",
       "      <td>1</td>\n",
       "      <td>1</td>\n",
       "      <td>1</td>\n",
       "      <td>1</td>\n",
       "      <td>1</td>\n",
       "      <td>1</td>\n",
       "      <td>0</td>\n",
       "    </tr>\n",
       "    <tr>\n",
       "      <th>1</th>\n",
       "      <td>0</td>\n",
       "      <td>1</td>\n",
       "      <td>1</td>\n",
       "      <td>1</td>\n",
       "      <td>1</td>\n",
       "      <td>1</td>\n",
       "      <td>1</td>\n",
       "      <td>0</td>\n",
       "      <td>1</td>\n",
       "      <td>0</td>\n",
       "      <td>...</td>\n",
       "      <td>0</td>\n",
       "      <td>0</td>\n",
       "      <td>1</td>\n",
       "      <td>0</td>\n",
       "      <td>1</td>\n",
       "      <td>1</td>\n",
       "      <td>1</td>\n",
       "      <td>1</td>\n",
       "      <td>1</td>\n",
       "      <td>0</td>\n",
       "    </tr>\n",
       "    <tr>\n",
       "      <th>2</th>\n",
       "      <td>1</td>\n",
       "      <td>1</td>\n",
       "      <td>1</td>\n",
       "      <td>1</td>\n",
       "      <td>1</td>\n",
       "      <td>1</td>\n",
       "      <td>1</td>\n",
       "      <td>1</td>\n",
       "      <td>1</td>\n",
       "      <td>0</td>\n",
       "      <td>...</td>\n",
       "      <td>1</td>\n",
       "      <td>0</td>\n",
       "      <td>1</td>\n",
       "      <td>0</td>\n",
       "      <td>0</td>\n",
       "      <td>1</td>\n",
       "      <td>0</td>\n",
       "      <td>1</td>\n",
       "      <td>1</td>\n",
       "      <td>0</td>\n",
       "    </tr>\n",
       "    <tr>\n",
       "      <th>3</th>\n",
       "      <td>0</td>\n",
       "      <td>1</td>\n",
       "      <td>1</td>\n",
       "      <td>1</td>\n",
       "      <td>1</td>\n",
       "      <td>1</td>\n",
       "      <td>1</td>\n",
       "      <td>0</td>\n",
       "      <td>1</td>\n",
       "      <td>0</td>\n",
       "      <td>...</td>\n",
       "      <td>1</td>\n",
       "      <td>0</td>\n",
       "      <td>1</td>\n",
       "      <td>0</td>\n",
       "      <td>0</td>\n",
       "      <td>1</td>\n",
       "      <td>0</td>\n",
       "      <td>0</td>\n",
       "      <td>1</td>\n",
       "      <td>0</td>\n",
       "    </tr>\n",
       "    <tr>\n",
       "      <th>4</th>\n",
       "      <td>1</td>\n",
       "      <td>0</td>\n",
       "      <td>1</td>\n",
       "      <td>1</td>\n",
       "      <td>0</td>\n",
       "      <td>1</td>\n",
       "      <td>1</td>\n",
       "      <td>1</td>\n",
       "      <td>1</td>\n",
       "      <td>0</td>\n",
       "      <td>...</td>\n",
       "      <td>1</td>\n",
       "      <td>0</td>\n",
       "      <td>0</td>\n",
       "      <td>0</td>\n",
       "      <td>0</td>\n",
       "      <td>1</td>\n",
       "      <td>0</td>\n",
       "      <td>0</td>\n",
       "      <td>1</td>\n",
       "      <td>0</td>\n",
       "    </tr>\n",
       "  </tbody>\n",
       "</table>\n",
       "<p>5 rows × 24 columns</p>\n",
       "</div>"
      ],
      "text/plain": [
       "       Xsignalnoise_comb  Xentropy0  Xs1width0  Xs2top0  Xs2peaks2  Xs1coin2  \\\n",
       "event                                                                          \n",
       "0                      1          1          1        1          1         1   \n",
       "1                      0          1          1        1          1         1   \n",
       "2                      1          1          1        1          1         1   \n",
       "3                      0          1          1        1          1         1   \n",
       "4                      1          0          1        1          0         1   \n",
       "\n",
       "       Xhighlog1  Xs2single3  Xs1single4  Xveto2 ...   Xlownoise0_m  Xn3sigma  \\\n",
       "event                                            ...                            \n",
       "0              1           1           1       1 ...              0         0   \n",
       "1              1           0           1       0 ...              0         0   \n",
       "2              1           1           1       0 ...              1         0   \n",
       "3              1           0           1       0 ...              1         0   \n",
       "4              1           1           1       0 ...              1         0   \n",
       "\n",
       "       Xs2peakpos0  Xtime_diff_50  X34kg2  Xs1single5  X34kg  X48kg0  \\\n",
       "event                                                                  \n",
       "0                1              1       1           1      1       1   \n",
       "1                1              0       1           1      1       1   \n",
       "2                1              0       0           1      0       1   \n",
       "3                1              0       0           1      0       0   \n",
       "4                0              0       0           1      0       0   \n",
       "\n",
       "       Xs1coin0  XDM  \n",
       "event                 \n",
       "0             1    0  \n",
       "1             1    0  \n",
       "2             1    0  \n",
       "3             1    0  \n",
       "4             1    0  \n",
       "\n",
       "[5 rows x 24 columns]"
      ]
     },
     "execution_count": 13,
     "metadata": {},
     "output_type": "execute_result"
    }
   ],
   "source": [
    "df.head()"
   ]
  },
  {
   "cell_type": "code",
   "execution_count": 14,
   "metadata": {
    "collapsed": false
   },
   "outputs": [
    {
     "name": "stdout",
     "output_type": "stream",
     "text": [
      "Found minitree at ./xe100_120227_1547_Basics.root\n"
     ]
    }
   ],
   "source": [
    "hax.init(experiment='XENON100',\n",
    "         main_data_paths=['/home/user/Xenon_100/DataFiles/PAX_REPROCESSED/'])\n",
    "# modify with your path for the data files\n",
    "df = df.join(hax.minitrees.load(dataset))"
   ]
  },
  {
   "cell_type": "code",
   "execution_count": 15,
   "metadata": {
    "collapsed": false
   },
   "outputs": [
    {
     "data": {
      "text/html": [
       "<div>\n",
       "<table border=\"1\" class=\"dataframe\">\n",
       "  <thead>\n",
       "    <tr style=\"text-align: right;\">\n",
       "      <th></th>\n",
       "      <th>Xsignalnoise_comb</th>\n",
       "      <th>Xentropy0</th>\n",
       "      <th>Xs1width0</th>\n",
       "      <th>Xs2top0</th>\n",
       "      <th>Xs2peaks2</th>\n",
       "      <th>Xs1coin2</th>\n",
       "      <th>Xhighlog1</th>\n",
       "      <th>Xs2single3</th>\n",
       "      <th>Xs1single4</th>\n",
       "      <th>Xveto2</th>\n",
       "      <th>...</th>\n",
       "      <th>largest_other_s2</th>\n",
       "      <th>largest_unknown</th>\n",
       "      <th>largest_veto</th>\n",
       "      <th>s1</th>\n",
       "      <th>s1_area_fraction_top</th>\n",
       "      <th>s2</th>\n",
       "      <th>s2_area_fraction_top</th>\n",
       "      <th>x</th>\n",
       "      <th>y</th>\n",
       "      <th>z</th>\n",
       "    </tr>\n",
       "    <tr>\n",
       "      <th>event</th>\n",
       "      <th></th>\n",
       "      <th></th>\n",
       "      <th></th>\n",
       "      <th></th>\n",
       "      <th></th>\n",
       "      <th></th>\n",
       "      <th></th>\n",
       "      <th></th>\n",
       "      <th></th>\n",
       "      <th></th>\n",
       "      <th></th>\n",
       "      <th></th>\n",
       "      <th></th>\n",
       "      <th></th>\n",
       "      <th></th>\n",
       "      <th></th>\n",
       "      <th></th>\n",
       "      <th></th>\n",
       "      <th></th>\n",
       "      <th></th>\n",
       "      <th></th>\n",
       "    </tr>\n",
       "  </thead>\n",
       "  <tbody>\n",
       "    <tr>\n",
       "      <th>0</th>\n",
       "      <td>1</td>\n",
       "      <td>1</td>\n",
       "      <td>1</td>\n",
       "      <td>1</td>\n",
       "      <td>1</td>\n",
       "      <td>1</td>\n",
       "      <td>1</td>\n",
       "      <td>1</td>\n",
       "      <td>1</td>\n",
       "      <td>1</td>\n",
       "      <td>...</td>\n",
       "      <td>859.932861</td>\n",
       "      <td>0.0</td>\n",
       "      <td>0.000000</td>\n",
       "      <td>1072.108887</td>\n",
       "      <td>0.136132</td>\n",
       "      <td>310414.031250</td>\n",
       "      <td>0.350019</td>\n",
       "      <td>11.892453</td>\n",
       "      <td>4.171698</td>\n",
       "      <td>-19.909113</td>\n",
       "    </tr>\n",
       "    <tr>\n",
       "      <th>1</th>\n",
       "      <td>0</td>\n",
       "      <td>1</td>\n",
       "      <td>1</td>\n",
       "      <td>1</td>\n",
       "      <td>1</td>\n",
       "      <td>1</td>\n",
       "      <td>1</td>\n",
       "      <td>0</td>\n",
       "      <td>1</td>\n",
       "      <td>0</td>\n",
       "      <td>...</td>\n",
       "      <td>24153.117188</td>\n",
       "      <td>0.0</td>\n",
       "      <td>9.100586</td>\n",
       "      <td>927.390076</td>\n",
       "      <td>0.111803</td>\n",
       "      <td>226750.453125</td>\n",
       "      <td>0.377256</td>\n",
       "      <td>11.643396</td>\n",
       "      <td>6.662264</td>\n",
       "      <td>-16.910862</td>\n",
       "    </tr>\n",
       "    <tr>\n",
       "      <th>2</th>\n",
       "      <td>1</td>\n",
       "      <td>1</td>\n",
       "      <td>1</td>\n",
       "      <td>1</td>\n",
       "      <td>1</td>\n",
       "      <td>1</td>\n",
       "      <td>1</td>\n",
       "      <td>1</td>\n",
       "      <td>1</td>\n",
       "      <td>0</td>\n",
       "      <td>...</td>\n",
       "      <td>151.566666</td>\n",
       "      <td>0.0</td>\n",
       "      <td>25.892330</td>\n",
       "      <td>1444.435791</td>\n",
       "      <td>0.064499</td>\n",
       "      <td>191977.531250</td>\n",
       "      <td>0.421577</td>\n",
       "      <td>9.650944</td>\n",
       "      <td>-3.673585</td>\n",
       "      <td>-28.745581</td>\n",
       "    </tr>\n",
       "    <tr>\n",
       "      <th>3</th>\n",
       "      <td>0</td>\n",
       "      <td>1</td>\n",
       "      <td>1</td>\n",
       "      <td>1</td>\n",
       "      <td>1</td>\n",
       "      <td>1</td>\n",
       "      <td>1</td>\n",
       "      <td>0</td>\n",
       "      <td>1</td>\n",
       "      <td>0</td>\n",
       "      <td>...</td>\n",
       "      <td>15262.319336</td>\n",
       "      <td>0.0</td>\n",
       "      <td>10.205989</td>\n",
       "      <td>1007.872742</td>\n",
       "      <td>0.077767</td>\n",
       "      <td>133552.000000</td>\n",
       "      <td>0.455015</td>\n",
       "      <td>11.892453</td>\n",
       "      <td>-0.435849</td>\n",
       "      <td>-27.439680</td>\n",
       "    </tr>\n",
       "    <tr>\n",
       "      <th>4</th>\n",
       "      <td>1</td>\n",
       "      <td>0</td>\n",
       "      <td>1</td>\n",
       "      <td>1</td>\n",
       "      <td>0</td>\n",
       "      <td>1</td>\n",
       "      <td>1</td>\n",
       "      <td>1</td>\n",
       "      <td>1</td>\n",
       "      <td>0</td>\n",
       "      <td>...</td>\n",
       "      <td>22.093863</td>\n",
       "      <td>0.0</td>\n",
       "      <td>0.000000</td>\n",
       "      <td>NaN</td>\n",
       "      <td>NaN</td>\n",
       "      <td>NaN</td>\n",
       "      <td>NaN</td>\n",
       "      <td>NaN</td>\n",
       "      <td>NaN</td>\n",
       "      <td>NaN</td>\n",
       "    </tr>\n",
       "  </tbody>\n",
       "</table>\n",
       "<p>5 rows × 43 columns</p>\n",
       "</div>"
      ],
      "text/plain": [
       "       Xsignalnoise_comb  Xentropy0  Xs1width0  Xs2top0  Xs2peaks2  Xs1coin2  \\\n",
       "event                                                                          \n",
       "0                      1          1          1        1          1         1   \n",
       "1                      0          1          1        1          1         1   \n",
       "2                      1          1          1        1          1         1   \n",
       "3                      0          1          1        1          1         1   \n",
       "4                      1          0          1        1          0         1   \n",
       "\n",
       "       Xhighlog1  Xs2single3  Xs1single4  Xveto2    ...      largest_other_s2  \\\n",
       "event                                               ...                         \n",
       "0              1           1           1       1    ...            859.932861   \n",
       "1              1           0           1       0    ...          24153.117188   \n",
       "2              1           1           1       0    ...            151.566666   \n",
       "3              1           0           1       0    ...          15262.319336   \n",
       "4              1           1           1       0    ...             22.093863   \n",
       "\n",
       "       largest_unknown  largest_veto           s1  s1_area_fraction_top  \\\n",
       "event                                                                     \n",
       "0                  0.0      0.000000  1072.108887              0.136132   \n",
       "1                  0.0      9.100586   927.390076              0.111803   \n",
       "2                  0.0     25.892330  1444.435791              0.064499   \n",
       "3                  0.0     10.205989  1007.872742              0.077767   \n",
       "4                  0.0      0.000000          NaN                   NaN   \n",
       "\n",
       "                  s2  s2_area_fraction_top          x         y          z  \n",
       "event                                                                       \n",
       "0      310414.031250              0.350019  11.892453  4.171698 -19.909113  \n",
       "1      226750.453125              0.377256  11.643396  6.662264 -16.910862  \n",
       "2      191977.531250              0.421577   9.650944 -3.673585 -28.745581  \n",
       "3      133552.000000              0.455015  11.892453 -0.435849 -27.439680  \n",
       "4                NaN                   NaN        NaN       NaN        NaN  \n",
       "\n",
       "[5 rows x 43 columns]"
      ]
     },
     "execution_count": 15,
     "metadata": {},
     "output_type": "execute_result"
    }
   ],
   "source": [
    "df.head()"
   ]
  },
  {
   "cell_type": "markdown",
   "metadata": {},
   "source": [
    "now we can play with both. For example:"
   ]
  },
  {
   "cell_type": "code",
   "execution_count": 16,
   "metadata": {
    "collapsed": false
   },
   "outputs": [
    {
     "data": {
      "text/plain": [
       "<matplotlib.axes._subplots.AxesSubplot at 0x7f52454fbfd0>"
      ]
     },
     "execution_count": 16,
     "metadata": {},
     "output_type": "execute_result"
    },
    {
     "data": {
      "image/png": "[encoded data removed]",
      "text/plain": [
       "<matplotlib.figure.Figure at 0x7f52455bbda0>"
      ]
     },
     "metadata": {},
     "output_type": "display_data"
    }
   ],
   "source": [
    "df[df['Xsignalnoise_comb'] == 1]['z'].hist()\n",
    "#df[df['Xentropy0']==1]['z'].hist()"
   ]
  },
  {
   "cell_type": "code",
   "execution_count": null,
   "metadata": {
    "collapsed": true
   },
   "outputs": [],
   "source": [
    "\n",
    "   \n"
   ]
  }
 ],
 "metadata": {
  "kernelspec": {
   "display_name": "Python 3",
   "language": "python",
   "name": "python3"
  },
  "language_info": {
   "codemirror_mode": {
    "name": "ipython",
    "version": 3
   },
   "file_extension": ".py",
   "mimetype": "text/x-python",
   "name": "python",
   "nbconvert_exporter": "python",
   "pygments_lexer": "ipython3",
   "version": "3.4.4"
  }
 },
 "nbformat": 4,
 "nbformat_minor": 0
}
