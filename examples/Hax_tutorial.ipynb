{
 "cells": [
  {
   "cell_type": "markdown",
   "metadata": {},
   "source": [
    "Jelle, Feburary 2016\n",
    "\n",
    "This tutorial describes how to use the basic functionality of the `hax` analysis library from python."
   ]
  },
  {
   "cell_type": "markdown",
   "metadata": {
    "toc": "true"
   },
   "source": [
    "# Table of Contents\n",
    " <p><div class=\"lev1\"><a href=\"#Introduction\"><span class=\"toc-item-num\">1 - </span>Introduction</a></div><div class=\"lev1\"><a href=\"#Using-mini-trees\"><span class=\"toc-item-num\">2 - </span>Using mini-trees</a></div><div class=\"lev2\"><a href=\"#Using-standard-data\"><span class=\"toc-item-num\">2.1 - </span>Using standard data</a></div><div class=\"lev2\"><a href=\"#Getting-your-own-data\"><span class=\"toc-item-num\">2.2 - </span>Getting your own data</a></div><div class=\"lev1\"><a href=\"#Looping-over-ROOT-files\"><span class=\"toc-item-num\">3 - </span>Looping over ROOT files</a></div><div class=\"lev1\"><a href=\"#Selecting-datasets\"><span class=\"toc-item-num\">4 - </span>Selecting datasets</a></div>"
   ]
  },
  {
   "cell_type": "code",
   "execution_count": 4,
   "metadata": {
    "collapsed": false,
    "scrolled": false
   },
   "outputs": [
    {
     "name": "stdout",
     "output_type": "stream",
     "text": [
      "This may give a warning 'ShimWarning: The `IPython.kernel` package has been deprecated.' which you can safely ignore.\n"
     ]
    },
    {
     "data": {
      "text/html": [
       "\n",
       "<script>\n",
       "code_show=true\n",
       "function code_toggle() {\n",
       " if (code_show){\n",
       " $('div.input').hide();\n",
       "   } else {\n",
       " $('div.input').show();\n",
       " }\n",
       " code_show = !code_show\n",
       "}\n",
       "$( document ).ready(code_toggle);\n",
       "</script>\n",
       "<form action=\"javascript:code_toggle()\"><input type=\"submit\"\n",
       "value=\"Show/hide  all code in this notebook\"></form>"
      ],
      "text/plain": [
       "<IPython.core.display.HTML object>"
      ]
     },
     "execution_count": 4,
     "metadata": {},
     "output_type": "execute_result"
    }
   ],
   "source": [
    "# Boilerplate startup\n",
    "import numpy as np\n",
    "from tqdm import tqdm\n",
    "import os\n",
    "import sys\n",
    "import pandas as pd\n",
    "\n",
    "import matplotlib\n",
    "import matplotlib.pyplot as plt\n",
    "%matplotlib inline\n",
    "matplotlib.rc('font', size=16)\n",
    "plt.rcParams['figure.figsize'] = (12.0, 10.0)    # resize plots\n",
    "\n",
    "print(\"This may give a warning 'ShimWarning: The `IPython.kernel` package has been deprecated.' \" \n",
    "      \"which you can safely ignore.\")\n",
    "\n",
    "import hax\n",
    "hax.ipython.code_hider()"
   ]
  },
  {
   "cell_type": "markdown",
   "metadata": {},
   "source": [
    "# Introduction"
   ]
  },
  {
   "cell_type": "markdown",
   "metadata": {},
   "source": [
    "The default pax output format is a ROOT file containing an event class, which is fully documented [here](http://xenon1t.github.io/pax/format.html). While you could analyze this with TTree.Draw(...) (in python or C++), this has several disadvantages:\n",
    "  * You never get access to the actual values of the data;\n",
    "  * It is difficult to compute things that are not directly in the tree;\n",
    "  * You need to re-loop over the data every time you want to make a new plot.\n",
    "\n",
    "You can get much more flexibility by looping over the events in the ROOT file(s) you want to analyze: we will cover this in section ... below. However, looping over all the ROOT events every time you want to adjust a plot or cut is still very inconvenient.\n",
    "\n",
    "To extract data, hax lets you make **mini-trees**, small, flat ROOT files which contain just the data you need for every event. Since a mini-tree is such a simple (tabular) structure, for python analyses you can read them into a [pandas DataFrame](http://pandas.pydata.org/pandas-docs/stable/10min.html), one of the most-used objects in data science. Since it's the fastest way to the data, we'll cover mini-trees first in the next section."
   ]
  },
  {
   "cell_type": "markdown",
   "metadata": {},
   "source": [
    "# Using mini-trees"
   ]
  },
  {
   "cell_type": "markdown",
   "metadata": {},
   "source": [
    "## Using standard data"
   ]
  },
  {
   "cell_type": "markdown",
   "metadata": {},
   "source": [
    "We prepared a basic minitree for you with most of the data you need for basic analyses:"
   ]
  },
  {
   "cell_type": "code",
   "execution_count": 8,
   "metadata": {
    "collapsed": false
   },
   "outputs": [
    {
     "name": "stdout",
     "output_type": "stream",
     "text": [
      "Found minitree at ./xe100_120402_2000_Basics.root\n"
     ]
    },
    {
     "data": {
      "text/html": [
       "<div>\n",
       "<table border=\"1\" class=\"dataframe\">\n",
       "  <thead>\n",
       "    <tr style=\"text-align: right;\">\n",
       "      <th></th>\n",
       "      <th>index</th>\n",
       "      <th>cs1</th>\n",
       "      <th>cs2</th>\n",
       "      <th>drift_time</th>\n",
       "      <th>event_number</th>\n",
       "      <th>event_time</th>\n",
       "      <th>largest_coincidence</th>\n",
       "      <th>largest_other_s1</th>\n",
       "      <th>largest_other_s2</th>\n",
       "      <th>largest_unknown</th>\n",
       "      <th>largest_veto</th>\n",
       "      <th>s1</th>\n",
       "      <th>s1_area_fraction_top</th>\n",
       "      <th>s2</th>\n",
       "      <th>s2_area_fraction_top</th>\n",
       "      <th>x</th>\n",
       "      <th>y</th>\n",
       "      <th>z</th>\n",
       "    </tr>\n",
       "  </thead>\n",
       "  <tbody>\n",
       "    <tr>\n",
       "      <th>0</th>\n",
       "      <td>0</td>\n",
       "      <td>494.062372</td>\n",
       "      <td>199043.333455</td>\n",
       "      <td>59534.808594</td>\n",
       "      <td>0</td>\n",
       "      <td>606771456</td>\n",
       "      <td>0</td>\n",
       "      <td>0.000000</td>\n",
       "      <td>767.343811</td>\n",
       "      <td>0</td>\n",
       "      <td>0.000000</td>\n",
       "      <td>426.721161</td>\n",
       "      <td>0.208081</td>\n",
       "      <td>174377.593750</td>\n",
       "      <td>0.420520</td>\n",
       "      <td>4.900376</td>\n",
       "      <td>-3.659775</td>\n",
       "      <td>10.299521</td>\n",
       "    </tr>\n",
       "    <tr>\n",
       "      <th>1</th>\n",
       "      <td>1</td>\n",
       "      <td>122.873935</td>\n",
       "      <td>15259.199759</td>\n",
       "      <td>78566.101562</td>\n",
       "      <td>1</td>\n",
       "      <td>638229504</td>\n",
       "      <td>0</td>\n",
       "      <td>0.000000</td>\n",
       "      <td>24.868357</td>\n",
       "      <td>0</td>\n",
       "      <td>0.000000</td>\n",
       "      <td>119.176933</td>\n",
       "      <td>0.218284</td>\n",
       "      <td>12814.677734</td>\n",
       "      <td>0.522556</td>\n",
       "      <td>0.062030</td>\n",
       "      <td>-1.922932</td>\n",
       "      <td>13.591935</td>\n",
       "    </tr>\n",
       "    <tr>\n",
       "      <th>2</th>\n",
       "      <td>2</td>\n",
       "      <td>NaN</td>\n",
       "      <td>NaN</td>\n",
       "      <td>NaN</td>\n",
       "      <td>2</td>\n",
       "      <td>654552576</td>\n",
       "      <td>0</td>\n",
       "      <td>105.533463</td>\n",
       "      <td>7.597475</td>\n",
       "      <td>0</td>\n",
       "      <td>487.042175</td>\n",
       "      <td>NaN</td>\n",
       "      <td>NaN</td>\n",
       "      <td>NaN</td>\n",
       "      <td>NaN</td>\n",
       "      <td>NaN</td>\n",
       "      <td>NaN</td>\n",
       "      <td>NaN</td>\n",
       "    </tr>\n",
       "    <tr>\n",
       "      <th>3</th>\n",
       "      <td>3</td>\n",
       "      <td>349.347776</td>\n",
       "      <td>2061.357109</td>\n",
       "      <td>113081.453125</td>\n",
       "      <td>3</td>\n",
       "      <td>665550592</td>\n",
       "      <td>0</td>\n",
       "      <td>29.985172</td>\n",
       "      <td>1240.369873</td>\n",
       "      <td>0</td>\n",
       "      <td>0.000000</td>\n",
       "      <td>409.730682</td>\n",
       "      <td>0.157665</td>\n",
       "      <td>1603.313599</td>\n",
       "      <td>0.570126</td>\n",
       "      <td>-5.148496</td>\n",
       "      <td>4.652256</td>\n",
       "      <td>19.563091</td>\n",
       "    </tr>\n",
       "    <tr>\n",
       "      <th>4</th>\n",
       "      <td>4</td>\n",
       "      <td>NaN</td>\n",
       "      <td>NaN</td>\n",
       "      <td>NaN</td>\n",
       "      <td>4</td>\n",
       "      <td>686497536</td>\n",
       "      <td>0</td>\n",
       "      <td>0.000000</td>\n",
       "      <td>33.421093</td>\n",
       "      <td>0</td>\n",
       "      <td>0.000000</td>\n",
       "      <td>NaN</td>\n",
       "      <td>NaN</td>\n",
       "      <td>NaN</td>\n",
       "      <td>NaN</td>\n",
       "      <td>NaN</td>\n",
       "      <td>NaN</td>\n",
       "      <td>NaN</td>\n",
       "    </tr>\n",
       "  </tbody>\n",
       "</table>\n",
       "</div>"
      ],
      "text/plain": [
       "   index         cs1            cs2     drift_time  event_number  event_time  \\\n",
       "0      0  494.062372  199043.333455   59534.808594             0   606771456   \n",
       "1      1  122.873935   15259.199759   78566.101562             1   638229504   \n",
       "2      2         NaN            NaN            NaN             2   654552576   \n",
       "3      3  349.347776    2061.357109  113081.453125             3   665550592   \n",
       "4      4         NaN            NaN            NaN             4   686497536   \n",
       "\n",
       "   largest_coincidence  largest_other_s1  largest_other_s2  largest_unknown  \\\n",
       "0                    0          0.000000        767.343811                0   \n",
       "1                    0          0.000000         24.868357                0   \n",
       "2                    0        105.533463          7.597475                0   \n",
       "3                    0         29.985172       1240.369873                0   \n",
       "4                    0          0.000000         33.421093                0   \n",
       "\n",
       "   largest_veto          s1  s1_area_fraction_top             s2  \\\n",
       "0      0.000000  426.721161              0.208081  174377.593750   \n",
       "1      0.000000  119.176933              0.218284   12814.677734   \n",
       "2    487.042175         NaN                   NaN            NaN   \n",
       "3      0.000000  409.730682              0.157665    1603.313599   \n",
       "4      0.000000         NaN                   NaN            NaN   \n",
       "\n",
       "   s2_area_fraction_top         x         y          z  \n",
       "0              0.420520  4.900376 -3.659775  10.299521  \n",
       "1              0.522556  0.062030 -1.922932  13.591935  \n",
       "2                   NaN       NaN       NaN        NaN  \n",
       "3              0.570126 -5.148496  4.652256  19.563091  \n",
       "4                   NaN       NaN       NaN        NaN  "
      ]
     },
     "execution_count": 8,
     "metadata": {},
     "output_type": "execute_result"
    }
   ],
   "source": [
    "data = hax.minitrees.load_minitrees('xe100_120402_2000')\n",
    "data.head(5)"
   ]
  },
  {
   "cell_type": "markdown",
   "metadata": {},
   "source": [
    "This shows the 'Basics' minitree **whose variables and units are documented [here](http://hax.readthedocs.org/en/latest/hax.treemakers.html)**. Of course you can also make your own minitrees, which we'll discuss below."
   ]
  },
  {
   "cell_type": "markdown",
   "metadata": {},
   "source": [
    "Now that you have the information in a dataframe, analysis is easy:"
   ]
  },
  {
   "cell_type": "code",
   "execution_count": 9,
   "metadata": {
    "collapsed": false
   },
   "outputs": [
    {
     "data": {
      "image/png": "[encoded data removed]",
      "text/plain": [
       "<matplotlib.figure.Figure at 0x7f96eaf98198>"
      ]
     },
     "metadata": {},
     "output_type": "display_data"
    }
   ],
   "source": [
    "# Require a proper S1\n",
    "data = data[data['cs1'] > 0]\n",
    "\n",
    "# Make an S1 vs S2 histogram\n",
    "plt.hist2d(np.log10(data['cs1']), np.log10(data['cs2']),\n",
    "           bins=100, \n",
    "           norm=matplotlib.colors.LogNorm()   # Logarithmic color scale\n",
    ")\n",
    "plt.colorbar(label='Number of events')\n",
    "plt.xlabel('log10(cS1, pe)')\n",
    "plt.ylabel('log10(cS2, pe)')\n",
    "plt.show()"
   ]
  },
  {
   "cell_type": "markdown",
   "metadata": {},
   "source": [
    "## Getting your own data"
   ]
  },
  {
   "cell_type": "markdown",
   "metadata": {},
   "source": [
    "Naturally, this basic data is rarely enough to do your work! Fortunately, extracting your own data is easy. You write a small TreeMaker class defining just one function: `extract_data`. This takes an `event` (the pax/ROOT object documented [here](http://xenon1t.github.io/pax/format.html)) and returns a dictionary with the data you want to save for that event. \n",
    "\n",
    "(It's ok if the dictionary is not the same for every event, missing values will become NaNs)."
   ]
  },
  {
   "cell_type": "markdown",
   "metadata": {},
   "source": [
    "For example, suppose your are interested in the widths of the main S1 and S2. You can set up your TreeMaker like so:"
   ]
  },
  {
   "cell_type": "code",
   "execution_count": 10,
   "metadata": {
    "collapsed": false
   },
   "outputs": [],
   "source": [
    "class PeakWidthInfo(hax.minitrees.TreeMaker):\n",
    "    # Activate the required branch while reading in the ROOT file\n",
    "    # If you're too lazy to specify this, just put '*', but your TreeMaker will run slow!\n",
    "    extra_branches = ['peaks.hit_time_std']\n",
    "    __version__ = '0.0.1'\n",
    "    \n",
    "    def extract_data(self, event):\n",
    "        # If there are no interactions at all, we can't extract anything...\n",
    "        if not len(event.interactions):\n",
    "            return dict()\n",
    "        \n",
    "        # Get the main S1 and main S2\n",
    "        s1 = event.peaks[event.interactions[0].s1]\n",
    "        s2 = event.peaks[event.interactions[0].s2]\n",
    "        \n",
    "        return dict(s1_hit_time_std=s1.hit_time_std,\n",
    "                    s2_hit_time_std=s2.hit_time_std)"
   ]
  },
  {
   "cell_type": "markdown",
   "metadata": {},
   "source": [
    "Then you can read in data like this:"
   ]
  },
  {
   "cell_type": "code",
   "execution_count": 11,
   "metadata": {
    "collapsed": false
   },
   "outputs": [
    {
     "name": "stderr",
     "output_type": "stream",
     "text": [
      "                                                        "
     ]
    },
    {
     "name": "stdout",
     "output_type": "stream",
     "text": [
      "Created minitree PeakWidthInfo for dataset xe100_120402_2000\n",
      "Found minitree at ./xe100_120402_2000_Basics.root\n"
     ]
    },
    {
     "name": "stderr",
     "output_type": "stream",
     "text": [
      "\r"
     ]
    },
    {
     "data": {
      "text/html": [
       "<div>\n",
       "<table border=\"1\" class=\"dataframe\">\n",
       "  <thead>\n",
       "    <tr style=\"text-align: right;\">\n",
       "      <th></th>\n",
       "      <th>index</th>\n",
       "      <th>s1_hit_time_std</th>\n",
       "      <th>s2_hit_time_std</th>\n",
       "      <th>index</th>\n",
       "      <th>cs1</th>\n",
       "      <th>cs2</th>\n",
       "      <th>drift_time</th>\n",
       "      <th>event_number</th>\n",
       "      <th>event_time</th>\n",
       "      <th>largest_coincidence</th>\n",
       "      <th>...</th>\n",
       "      <th>largest_other_s2</th>\n",
       "      <th>largest_unknown</th>\n",
       "      <th>largest_veto</th>\n",
       "      <th>s1</th>\n",
       "      <th>s1_area_fraction_top</th>\n",
       "      <th>s2</th>\n",
       "      <th>s2_area_fraction_top</th>\n",
       "      <th>x</th>\n",
       "      <th>y</th>\n",
       "      <th>z</th>\n",
       "    </tr>\n",
       "  </thead>\n",
       "  <tbody>\n",
       "    <tr>\n",
       "      <th>0</th>\n",
       "      <td>0</td>\n",
       "      <td>22.333456</td>\n",
       "      <td>503.716614</td>\n",
       "      <td>0</td>\n",
       "      <td>494.062372</td>\n",
       "      <td>199043.333455</td>\n",
       "      <td>59534.808594</td>\n",
       "      <td>0</td>\n",
       "      <td>606771456</td>\n",
       "      <td>0</td>\n",
       "      <td>...</td>\n",
       "      <td>767.343811</td>\n",
       "      <td>0</td>\n",
       "      <td>0.000000</td>\n",
       "      <td>426.721161</td>\n",
       "      <td>0.208081</td>\n",
       "      <td>174377.593750</td>\n",
       "      <td>0.420520</td>\n",
       "      <td>4.900376</td>\n",
       "      <td>-3.659775</td>\n",
       "      <td>10.299521</td>\n",
       "    </tr>\n",
       "    <tr>\n",
       "      <th>1</th>\n",
       "      <td>1</td>\n",
       "      <td>19.813513</td>\n",
       "      <td>377.789001</td>\n",
       "      <td>1</td>\n",
       "      <td>122.873935</td>\n",
       "      <td>15259.199759</td>\n",
       "      <td>78566.101562</td>\n",
       "      <td>1</td>\n",
       "      <td>638229504</td>\n",
       "      <td>0</td>\n",
       "      <td>...</td>\n",
       "      <td>24.868357</td>\n",
       "      <td>0</td>\n",
       "      <td>0.000000</td>\n",
       "      <td>119.176933</td>\n",
       "      <td>0.218284</td>\n",
       "      <td>12814.677734</td>\n",
       "      <td>0.522556</td>\n",
       "      <td>0.062030</td>\n",
       "      <td>-1.922932</td>\n",
       "      <td>13.591935</td>\n",
       "    </tr>\n",
       "    <tr>\n",
       "      <th>2</th>\n",
       "      <td>2</td>\n",
       "      <td>NaN</td>\n",
       "      <td>NaN</td>\n",
       "      <td>2</td>\n",
       "      <td>NaN</td>\n",
       "      <td>NaN</td>\n",
       "      <td>NaN</td>\n",
       "      <td>2</td>\n",
       "      <td>654552576</td>\n",
       "      <td>0</td>\n",
       "      <td>...</td>\n",
       "      <td>7.597475</td>\n",
       "      <td>0</td>\n",
       "      <td>487.042175</td>\n",
       "      <td>NaN</td>\n",
       "      <td>NaN</td>\n",
       "      <td>NaN</td>\n",
       "      <td>NaN</td>\n",
       "      <td>NaN</td>\n",
       "      <td>NaN</td>\n",
       "      <td>NaN</td>\n",
       "    </tr>\n",
       "    <tr>\n",
       "      <th>3</th>\n",
       "      <td>3</td>\n",
       "      <td>25.493958</td>\n",
       "      <td>408.579224</td>\n",
       "      <td>3</td>\n",
       "      <td>349.347776</td>\n",
       "      <td>2061.357109</td>\n",
       "      <td>113081.453125</td>\n",
       "      <td>3</td>\n",
       "      <td>665550592</td>\n",
       "      <td>0</td>\n",
       "      <td>...</td>\n",
       "      <td>1240.369873</td>\n",
       "      <td>0</td>\n",
       "      <td>0.000000</td>\n",
       "      <td>409.730682</td>\n",
       "      <td>0.157665</td>\n",
       "      <td>1603.313599</td>\n",
       "      <td>0.570126</td>\n",
       "      <td>-5.148496</td>\n",
       "      <td>4.652256</td>\n",
       "      <td>19.563091</td>\n",
       "    </tr>\n",
       "    <tr>\n",
       "      <th>4</th>\n",
       "      <td>4</td>\n",
       "      <td>NaN</td>\n",
       "      <td>NaN</td>\n",
       "      <td>4</td>\n",
       "      <td>NaN</td>\n",
       "      <td>NaN</td>\n",
       "      <td>NaN</td>\n",
       "      <td>4</td>\n",
       "      <td>686497536</td>\n",
       "      <td>0</td>\n",
       "      <td>...</td>\n",
       "      <td>33.421093</td>\n",
       "      <td>0</td>\n",
       "      <td>0.000000</td>\n",
       "      <td>NaN</td>\n",
       "      <td>NaN</td>\n",
       "      <td>NaN</td>\n",
       "      <td>NaN</td>\n",
       "      <td>NaN</td>\n",
       "      <td>NaN</td>\n",
       "      <td>NaN</td>\n",
       "    </tr>\n",
       "  </tbody>\n",
       "</table>\n",
       "<p>5 rows × 21 columns</p>\n",
       "</div>"
      ],
      "text/plain": [
       "   index  s1_hit_time_std  s2_hit_time_std  index         cs1            cs2  \\\n",
       "0      0        22.333456       503.716614      0  494.062372  199043.333455   \n",
       "1      1        19.813513       377.789001      1  122.873935   15259.199759   \n",
       "2      2              NaN              NaN      2         NaN            NaN   \n",
       "3      3        25.493958       408.579224      3  349.347776    2061.357109   \n",
       "4      4              NaN              NaN      4         NaN            NaN   \n",
       "\n",
       "      drift_time  event_number  event_time  largest_coincidence    ...      \\\n",
       "0   59534.808594             0   606771456                    0    ...       \n",
       "1   78566.101562             1   638229504                    0    ...       \n",
       "2            NaN             2   654552576                    0    ...       \n",
       "3  113081.453125             3   665550592                    0    ...       \n",
       "4            NaN             4   686497536                    0    ...       \n",
       "\n",
       "   largest_other_s2  largest_unknown  largest_veto          s1  \\\n",
       "0        767.343811                0      0.000000  426.721161   \n",
       "1         24.868357                0      0.000000  119.176933   \n",
       "2          7.597475                0    487.042175         NaN   \n",
       "3       1240.369873                0      0.000000  409.730682   \n",
       "4         33.421093                0      0.000000         NaN   \n",
       "\n",
       "   s1_area_fraction_top             s2  s2_area_fraction_top         x  \\\n",
       "0              0.208081  174377.593750              0.420520  4.900376   \n",
       "1              0.218284   12814.677734              0.522556  0.062030   \n",
       "2                   NaN            NaN                   NaN       NaN   \n",
       "3              0.157665    1603.313599              0.570126 -5.148496   \n",
       "4                   NaN            NaN                   NaN       NaN   \n",
       "\n",
       "          y          z  \n",
       "0 -3.659775  10.299521  \n",
       "1 -1.922932  13.591935  \n",
       "2       NaN        NaN  \n",
       "3  4.652256  19.563091  \n",
       "4       NaN        NaN  \n",
       "\n",
       "[5 rows x 21 columns]"
      ]
     },
     "execution_count": 11,
     "metadata": {},
     "output_type": "execute_result"
    }
   ],
   "source": [
    "data = hax.load_minitrees('xe100_120402_2000', [PeakWidthInfo, 'Basics'])\n",
    "data.head(5)"
   ]
  },
  {
   "cell_type": "markdown",
   "metadata": {},
   "source": [
    "Notice s1_hit_time_std and s2_hit_time_std are now part of the dataframe. While you ran the above cell, a file `xe100_120402_2000_PeakWidthInfo.root` was created in the current directory. The next time you run the cell, the information is taken from this file (which is extremely fast) instead of rebuilt from scratch.\n",
    "\n",
    "What if you change something in your TreeMaker? You can simply force load_minitrees to rebuild your tree:"
   ]
  },
  {
   "cell_type": "code",
   "execution_count": 12,
   "metadata": {
    "collapsed": false
   },
   "outputs": [
    {
     "name": "stderr",
     "output_type": "stream",
     "text": [
      "                                                        "
     ]
    },
    {
     "name": "stdout",
     "output_type": "stream",
     "text": [
      "Found minitree at ./xe100_120402_2000_PeakWidthInfo.root\n",
      "Created minitree PeakWidthInfo for dataset xe100_120402_2000\n"
     ]
    },
    {
     "name": "stderr",
     "output_type": "stream",
     "text": [
      "\r"
     ]
    }
   ],
   "source": [
    "data =hax.load_minitrees('xe100_120402_2000', PeakWidthInfo, force_reload=True)"
   ]
  },
  {
   "cell_type": "markdown",
   "metadata": {},
   "source": [
    "A gentler approach is to simply increment the version number of your TreeMaker. load_minitrees will notice the minitrees are outdated and rebuild them. (try it!)"
   ]
  },
  {
   "cell_type": "markdown",
   "metadata": {},
   "source": [
    "# Looping over ROOT files"
   ]
  },
  {
   "cell_type": "markdown",
   "metadata": {},
   "source": [
    "If you don't like writing your own TreeMaker, or you just want to be 'closer to the ground', you can always just loop over each of the events in the ROOT files themselves. This takes just a few lines of code to setup (look up filename, get TFile, get tree, loop over entries, ....) but hax can save you this small trouble too.\n",
    "\n",
    "If you define a function, hax will take care of executing it over all events in (one or more) datasets:"
   ]
  },
  {
   "cell_type": "code",
   "execution_count": 13,
   "metadata": {
    "collapsed": false
   },
   "outputs": [
    {
     "name": "stdout",
     "output_type": "stream",
     "text": [
      "Help on function loop_over_dataset in module hax.looproot:\n",
      "\n",
      "loop_over_dataset(dataset, event_function=<function <lambda> at 0x7f9701e290d0>, branch_selection='basic')\n",
      "    Execute event_function(event) over all events in the dataset\n",
      "    Does not return anything: you have to keep track of results yourself (global vars, function attrs, classes, ...)\n",
      "    branch selection: can be None (all branches are read), 'basic' (CONFIG['basic_branches'] are read), or a list of branches to read.\n",
      "\n"
     ]
    }
   ],
   "source": [
    "help(hax.looproot.loop_over_dataset)"
   ]
  },
  {
   "cell_type": "markdown",
   "metadata": {},
   "source": [
    "The 'event' your function gets is a pax/ROOT Event object documented [here](http://xenon1t.github.io/pax/format.html#event).\n",
    "\n",
    "Here is a small (and silly!) example that counts how many events have more than 4 S1s:"
   ]
  },
  {
   "cell_type": "code",
   "execution_count": 14,
   "metadata": {
    "collapsed": false
   },
   "outputs": [
    {
     "name": "stderr",
     "output_type": "stream",
     "text": [
      "                                                          "
     ]
    },
    {
     "name": "stdout",
     "output_type": "stream",
     "text": [
      "We found 875 events with more than 4 S1s\n"
     ]
    },
    {
     "name": "stderr",
     "output_type": "stream",
     "text": [
      "\r"
     ]
    }
   ],
   "source": [
    "counter = 0\n",
    "\n",
    "def count_many_s1s(event):\n",
    "    global counter   # Need this in pyton to modify variable outside of function\n",
    "    if len(event.s1s) > 4:\n",
    "        counter += 1\n",
    "\n",
    "hax.looproot.loop_over_datasets(['xe100_110228_1427', 'xe100_110302_1945'], count_many_s1s)\n",
    "print(\"We found %d events with more than 4 S1s\" % counter)"
   ]
  },
  {
   "cell_type": "markdown",
   "metadata": {},
   "source": [
    "Another silly example: find the first event whose main s1 area is 70 pe in some dark matter dataset:"
   ]
  },
  {
   "cell_type": "code",
   "execution_count": 17,
   "metadata": {
    "collapsed": false
   },
   "outputs": [
    {
     "name": "stderr",
     "output_type": "stream",
     "text": [
      " 15%|█▌        | 4854/32098 [00:00<00:01, 16174.78it/s]"
     ]
    },
    {
     "name": "stdout",
     "output_type": "stream",
     "text": [
      "Event 4963 has a main S1 with area 70.1126480102539 pe\n"
     ]
    }
   ],
   "source": [
    "def find_s1_70pe(event):\n",
    "    if not len(event.interactions):\n",
    "        # Continues to the next event\n",
    "        # We're in a function, so need to do return rather than continue\n",
    "        return\n",
    "    main_interaction = event.interactions[0]\n",
    "    main_s1 = event.peaks[main_interaction.s1]\n",
    "    if np.round(main_s1.area) == 70:\n",
    "        print(\"Event %s has a main S1 with area %s pe\" % (event.event_number, main_s1.area))\n",
    "        raise hax.looproot.StopEventLoop    # Special magic that aborts the loop immediately\n",
    "\n",
    "hax.looproot.loop_over_dataset('xe100_120401_2201', find_s1_70pe)"
   ]
  },
  {
   "cell_type": "markdown",
   "metadata": {},
   "source": [
    "# Selecting datasets"
   ]
  },
  {
   "cell_type": "markdown",
   "metadata": {},
   "source": [
    "For any real analysis you'll want to select several datasets. In the future, hax will interface with the XENON1T run db for you. For now, it just loads some XENON100 runs info, and makes it available as a [pandas dataframe](http://pandas.pydata.org/pandas-docs/stable/10min.html) hax.runs.DATASETS.\n",
    "\n",
    "(Internally this loads a CSV file, which is copy-pasted from the wiki's runs database table. For now I've only done run 10. Of course for XENON1T we don't want a static csv file, but a connection to the real runs database.)"
   ]
  },
  {
   "cell_type": "markdown",
   "metadata": {},
   "source": [
    "Here's an example to get all standard AmBe datasets. Since DATASETS is a pandas DataFrame, you can use the 'query' method:"
   ]
  },
  {
   "cell_type": "code",
   "execution_count": 23,
   "metadata": {
    "collapsed": false,
    "scrolled": true
   },
   "outputs": [
    {
     "data": {
      "text/plain": [
       "array(['xe100_110210_1100', 'xe100_110210_1106', 'xe100_110210_1412',\n",
       "       'xe100_110210_1502', 'xe100_110210_1709', 'xe100_110210_1926',\n",
       "       'xe100_110210_2211', 'xe100_110210_2341', 'xe100_110211_0059',\n",
       "       'xe100_110211_0315', 'xe100_110211_0532', 'xe100_110211_0614',\n",
       "       'xe100_110211_0935', 'xe100_110211_1243', 'xe100_120402_1116',\n",
       "       'xe100_120402_1415', 'xe100_120402_1727', 'xe100_120402_2000',\n",
       "       'xe100_120402_2233', 'xe100_120403_0107', 'xe100_120403_0340',\n",
       "       'xe100_120403_0615', 'xe100_120403_0850', 'xe100_120403_1125',\n",
       "       'xe100_120403_1400', 'xe100_120403_1634', 'xe100_120403_1910',\n",
       "       'xe100_120403_2145', 'xe100_120404_0020', 'xe100_120404_0255',\n",
       "       'xe100_120404_0529', 'xe100_120404_0804'], dtype=object)"
      ]
     },
     "execution_count": 23,
     "metadata": {},
     "output_type": "execute_result"
    }
   ],
   "source": [
    "hax.runs.DATASETS.query('source == \"AmBe\" & category == \"standard\" & tpc == \"xenon100\"')['name'].values"
   ]
  },
  {
   "cell_type": "markdown",
   "metadata": {},
   "source": [
    "For more details on a particular dataset, use"
   ]
  },
  {
   "cell_type": "code",
   "execution_count": 24,
   "metadata": {
    "collapsed": false
   },
   "outputs": [
    {
     "data": {
      "text/plain": [
       "{'anode': 4.4000000000000004,\n",
       " 'category': 'standard',\n",
       " 'cathode': 16.0,\n",
       " 'comment': nan,\n",
       " 'corrected_events': 22091.0,\n",
       " 'corrected_livetime': 39603.300000000003,\n",
       " 'events': 32098,\n",
       " 'livetime': 39603.300000000003,\n",
       " 'name': 'xe100_120401_2201',\n",
       " 'position': 'other',\n",
       " 'processed': '0.4.5',\n",
       " 'run': '10',\n",
       " 'shield': 'closed',\n",
       " 'source': 'Dark Matter',\n",
       " 'tpc': 'xenon100',\n",
       " 'trigger': 'S1'}"
      ]
     },
     "execution_count": 24,
     "metadata": {},
     "output_type": "execute_result"
    }
   ],
   "source": [
    "hax.runs.get_dataset_info('xe100_120401_2201')"
   ]
  }
 ],
 "metadata": {
  "kernelspec": {
   "display_name": "Python 3",
   "language": "python",
   "name": "python3"
  },
  "language_info": {
   "codemirror_mode": {
    "name": "ipython",
    "version": 3
   },
   "file_extension": ".py",
   "mimetype": "text/x-python",
   "name": "python",
   "nbconvert_exporter": "python",
   "pygments_lexer": "ipython3",
   "version": "3.4.4"
  },
  "toc": {
   "toc_cell": true,
   "toc_number_sections": true,
   "toc_section_display": "block",
   "toc_threshold": 4,
   "toc_window_display": true
  }
 },
 "nbformat": 4,
 "nbformat_minor": 0
}
